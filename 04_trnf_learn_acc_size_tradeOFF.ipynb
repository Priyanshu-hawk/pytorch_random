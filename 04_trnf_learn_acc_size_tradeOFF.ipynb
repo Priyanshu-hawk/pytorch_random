{
  "cells": [
    {
      "cell_type": "code",
      "source": [
        "!git clone https://github.com/Priyanshu-hawk/pytorch_random.git\n",
        "!pip install torchinfo"
      ],
      "metadata": {
        "id": "7W4pel4SWjt_",
        "outputId": "a21cffc9-f90d-4a43-e5df-392c88c06f32",
        "colab": {
          "base_uri": "https://localhost:8080/"
        }
      },
      "execution_count": 19,
      "outputs": [
        {
          "output_type": "stream",
          "name": "stdout",
          "text": [
            "Collecting torchinfo\n",
            "  Downloading torchinfo-1.8.0-py3-none-any.whl.metadata (21 kB)\n",
            "Downloading torchinfo-1.8.0-py3-none-any.whl (23 kB)\n",
            "Installing collected packages: torchinfo\n",
            "Successfully installed torchinfo-1.8.0\n"
          ]
        }
      ]
    }
]
}
