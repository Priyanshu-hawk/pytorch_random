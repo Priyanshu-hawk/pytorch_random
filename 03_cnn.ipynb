{
 "cells": [
  {
   "cell_type": "markdown",
   "id": "6c35b6ea",
   "metadata": {
    "id": "6c35b6ea"
   },
   "source": [
    "# torchvision\n",
    "\n",
    "* torchvision.transforms\n",
    "* torchvision.datasets\n",
    "* torchvision.models\n",
    "* torch.utils.data.Dataset\n",
    "* torch.utils.data.DataLoader\n"
   ]
  },
  {
   "cell_type": "code",
   "execution_count": 1,
   "id": "jJt1GmubbN4D",
   "metadata": {
    "colab": {
     "base_uri": "https://localhost:8080/"
    },
    "executionInfo": {
     "elapsed": 5248,
     "status": "ok",
     "timestamp": 1698520011278,
     "user": {
      "displayName": "PRIYANSHU PATEL",
      "userId": "04328287060940396810"
     },
     "user_tz": -330
    },
    "id": "jJt1GmubbN4D",
    "outputId": "d7601641-3b1f-40c0-f8c2-30012a3d3d34"
   },
   "outputs": [
    {
     "name": "stdout",
     "output_type": "stream",
     "text": [
      "Defaulting to user installation because normal site-packages is not writeable\n",
      "Requirement already satisfied: torchmetrics in /home/infinity/.local/lib/python3.10/site-packages (1.2.0)\n",
      "Requirement already satisfied: torch>=1.8.1 in /home/infinity/.local/lib/python3.10/site-packages (from torchmetrics) (2.0.1+cu118)\n",
      "Requirement already satisfied: numpy>1.20.0 in /home/infinity/.local/lib/python3.10/site-packages (from torchmetrics) (1.24.4)\n",
      "Requirement already satisfied: lightning-utilities>=0.8.0 in /home/infinity/.local/lib/python3.10/site-packages (from torchmetrics) (0.9.0)\n",
      "Requirement already satisfied: typing-extensions in /home/infinity/.local/lib/python3.10/site-packages (from lightning-utilities>=0.8.0->torchmetrics) (4.7.1)\n",
      "Requirement already satisfied: packaging>=17.1 in /home/infinity/.local/lib/python3.10/site-packages (from lightning-utilities>=0.8.0->torchmetrics) (23.1)\n",
      "Requirement already satisfied: jinja2 in /home/infinity/.local/lib/python3.10/site-packages (from torch>=1.8.1->torchmetrics) (3.1.2)\n",
      "Requirement already satisfied: sympy in /home/infinity/.local/lib/python3.10/site-packages (from torch>=1.8.1->torchmetrics) (1.12)\n",
      "Requirement already satisfied: triton==2.0.0 in /home/infinity/.local/lib/python3.10/site-packages (from torch>=1.8.1->torchmetrics) (2.0.0)\n",
      "Requirement already satisfied: filelock in /home/infinity/.local/lib/python3.10/site-packages (from torch>=1.8.1->torchmetrics) (3.12.2)\n",
      "Requirement already satisfied: networkx in /home/infinity/.local/lib/python3.10/site-packages (from torch>=1.8.1->torchmetrics) (3.1)\n",
      "Requirement already satisfied: cmake in /home/infinity/.local/lib/python3.10/site-packages (from triton==2.0.0->torch>=1.8.1->torchmetrics) (3.27.2)\n",
      "Requirement already satisfied: lit in /home/infinity/.local/lib/python3.10/site-packages (from triton==2.0.0->torch>=1.8.1->torchmetrics) (16.0.6)\n",
      "Requirement already satisfied: MarkupSafe>=2.0 in /home/infinity/.local/lib/python3.10/site-packages (from jinja2->torch>=1.8.1->torchmetrics) (2.1.3)\n",
      "Requirement already satisfied: mpmath>=0.19 in /home/infinity/.local/lib/python3.10/site-packages (from sympy->torch>=1.8.1->torchmetrics) (1.3.0)\n"
     ]
    }
   ],
   "source": [
    "!pip install torchmetrics"
   ]
  },
  {
   "cell_type": "code",
   "execution_count": 2,
   "id": "7542b3e1",
   "metadata": {
    "executionInfo": {
     "elapsed": 6602,
     "status": "ok",
     "timestamp": 1698520017867,
     "user": {
      "displayName": "PRIYANSHU PATEL",
      "userId": "04328287060940396810"
     },
     "user_tz": -330
    },
    "id": "7542b3e1"
   },
   "outputs": [
    {
     "name": "stderr",
     "output_type": "stream",
     "text": [
      "/home/infinity/.local/lib/python3.10/site-packages/torchvision/datapoints/__init__.py:12: UserWarning: The torchvision.datapoints and torchvision.transforms.v2 namespaces are still Beta. While we do not expect major breaking changes, some APIs may still change according to user feedback. Please submit any feedback you may have in this issue: https://github.com/pytorch/vision/issues/6753, and you can also check out https://github.com/pytorch/vision/issues/7319 to learn more about the APIs that we suspect might involve future changes. You can silence this warning by calling torchvision.disable_beta_transforms_warning().\n",
      "  warnings.warn(_BETA_TRANSFORMS_WARNING)\n",
      "/home/infinity/.local/lib/python3.10/site-packages/torchvision/transforms/v2/__init__.py:54: UserWarning: The torchvision.datapoints and torchvision.transforms.v2 namespaces are still Beta. While we do not expect major breaking changes, some APIs may still change according to user feedback. Please submit any feedback you may have in this issue: https://github.com/pytorch/vision/issues/6753, and you can also check out https://github.com/pytorch/vision/issues/7319 to learn more about the APIs that we suspect might involve future changes. You can silence this warning by calling torchvision.disable_beta_transforms_warning().\n",
      "  warnings.warn(_BETA_TRANSFORMS_WARNING)\n",
      "2023-10-31 17:10:48.434346: I tensorflow/core/platform/cpu_feature_guard.cc:182] This TensorFlow binary is optimized to use available CPU instructions in performance-critical operations.\n",
      "To enable the following instructions: AVX2 FMA, in other operations, rebuild TensorFlow with the appropriate compiler flags.\n",
      "2023-10-31 17:10:48.937315: W tensorflow/compiler/tf2tensorrt/utils/py_utils.cc:38] TF-TRT Warning: Could not find TensorRT\n"
     ]
    }
   ],
   "source": [
    "# libaries\n",
    "\n",
    "#torch libs\n",
    "import torch\n",
    "from torch import nn\n",
    "\n",
    "#torchvision\n",
    "import torchvision\n",
    "from torchvision.transforms import ToTensor # depriciated\n",
    "from torchvision import datasets\n",
    "from torchvision import models\n",
    "\n",
    "import torchvision.transforms.v2  # sucessor of ToTensor\n",
    "\n",
    "#vizulization\n",
    "import matplotlib.pyplot as plt\n",
    "\n",
    "#acc\n",
    "from torchmetrics import Accuracy\n",
    "\n",
    "device = torch.device('cuda' if torch.cuda.is_available() else 'cpu')"
   ]
  },
  {
   "cell_type": "code",
   "execution_count": 3,
   "id": "000c63e2",
   "metadata": {
    "colab": {
     "base_uri": "https://localhost:8080/"
    },
    "executionInfo": {
     "elapsed": 6595,
     "status": "ok",
     "timestamp": 1698520024444,
     "user": {
      "displayName": "PRIYANSHU PATEL",
      "userId": "04328287060940396810"
     },
     "user_tz": -330
    },
    "id": "000c63e2",
    "outputId": "a4c39fce-2f85-4bdc-c441-99de5f494fd5"
   },
   "outputs": [
    {
     "name": "stderr",
     "output_type": "stream",
     "text": [
      "/home/infinity/.local/lib/python3.10/site-packages/torchvision/transforms/v2/_deprecated.py:41: UserWarning: The transform `ToTensor()` is deprecated and will be removed in a future release. Instead, please use `transforms.Compose([transforms.ToImageTensor(), transforms.ConvertImageDtype()])`.\n",
      "  warnings.warn(\n"
     ]
    }
   ],
   "source": [
    "train_data = datasets.FashionMNIST('dataset',train=True, download=True, transform=torchvision.transforms.v2.ToTensor())\n",
    "\n",
    "test_data = datasets.FashionMNIST('dataset', train=False, download=True, transform=torchvision.transforms.v2.ToTensor())"
   ]
  },
  {
   "cell_type": "code",
   "execution_count": 4,
   "id": "9b28b8e5",
   "metadata": {
    "colab": {
     "base_uri": "https://localhost:8080/"
    },
    "executionInfo": {
     "elapsed": 103,
     "status": "ok",
     "timestamp": 1698520024450,
     "user": {
      "displayName": "PRIYANSHU PATEL",
      "userId": "04328287060940396810"
     },
     "user_tz": -330
    },
    "id": "9b28b8e5",
    "outputId": "4bf2ed97-b093-4aae-edae-09c6c37ed560",
    "scrolled": true
   },
   "outputs": [
    {
     "data": {
      "text/plain": [
       "Dataset FashionMNIST\n",
       "    Number of datapoints: 60000\n",
       "    Root location: dataset\n",
       "    Split: Train\n",
       "    StandardTransform\n",
       "Transform: ToTensor()"
      ]
     },
     "execution_count": 4,
     "metadata": {},
     "output_type": "execute_result"
    }
   ],
   "source": [
    "train_data"
   ]
  },
  {
   "cell_type": "code",
   "execution_count": 5,
   "id": "12314f27",
   "metadata": {
    "colab": {
     "base_uri": "https://localhost:8080/"
    },
    "executionInfo": {
     "elapsed": 98,
     "status": "ok",
     "timestamp": 1698520024453,
     "user": {
      "displayName": "PRIYANSHU PATEL",
      "userId": "04328287060940396810"
     },
     "user_tz": -330
    },
    "id": "12314f27",
    "outputId": "d1569858-6b4e-43cf-f1fe-45120c13dda4"
   },
   "outputs": [
    {
     "data": {
      "text/plain": [
       "['T-shirt/top',\n",
       " 'Trouser',\n",
       " 'Pullover',\n",
       " 'Dress',\n",
       " 'Coat',\n",
       " 'Sandal',\n",
       " 'Shirt',\n",
       " 'Sneaker',\n",
       " 'Bag',\n",
       " 'Ankle boot']"
      ]
     },
     "execution_count": 5,
     "metadata": {},
     "output_type": "execute_result"
    }
   ],
   "source": [
    "obj_class = train_data.classes\n",
    "obj_class"
   ]
  },
  {
   "cell_type": "code",
   "execution_count": 6,
   "id": "7e828e4f",
   "metadata": {
    "colab": {
     "base_uri": "https://localhost:8080/"
    },
    "executionInfo": {
     "elapsed": 95,
     "status": "ok",
     "timestamp": 1698520024455,
     "user": {
      "displayName": "PRIYANSHU PATEL",
      "userId": "04328287060940396810"
     },
     "user_tz": -330
    },
    "id": "7e828e4f",
    "outputId": "686a0215-1e81-440a-d643-d6fc4aff7b0e"
   },
   "outputs": [
    {
     "data": {
      "text/plain": [
       "10000"
      ]
     },
     "execution_count": 6,
     "metadata": {},
     "output_type": "execute_result"
    }
   ],
   "source": [
    "len(test_data)"
   ]
  },
  {
   "cell_type": "code",
   "execution_count": 7,
   "id": "97ee8862",
   "metadata": {
    "colab": {
     "base_uri": "https://localhost:8080/"
    },
    "executionInfo": {
     "elapsed": 87,
     "status": "ok",
     "timestamp": 1698520024456,
     "user": {
      "displayName": "PRIYANSHU PATEL",
      "userId": "04328287060940396810"
     },
     "user_tz": -330
    },
    "id": "97ee8862",
    "outputId": "368a82b3-ebcd-40dd-ec54-ae3752f2ab38",
    "scrolled": true
   },
   "outputs": [
    {
     "data": {
      "text/plain": [
       "60000"
      ]
     },
     "execution_count": 7,
     "metadata": {},
     "output_type": "execute_result"
    }
   ],
   "source": [
    "len(train_data)"
   ]
  },
  {
   "cell_type": "code",
   "execution_count": 8,
   "id": "c4d264d5",
   "metadata": {
    "colab": {
     "base_uri": "https://localhost:8080/"
    },
    "executionInfo": {
     "elapsed": 15,
     "status": "ok",
     "timestamp": 1698520818697,
     "user": {
      "displayName": "PRIYANSHU PATEL",
      "userId": "04328287060940396810"
     },
     "user_tz": -330
    },
    "id": "c4d264d5",
    "outputId": "0edaa0d5-d885-4171-8a16-0c9a9ee97bd5"
   },
   "outputs": [
    {
     "data": {
      "text/plain": [
       "(tensor([[[0.0000, 0.0000, 0.0000, 0.0000, 0.0000, 0.0000, 0.0000, 0.0000,\n",
       "           0.0000, 0.0000, 0.0000, 0.0000, 0.0000, 0.0000, 0.0000, 0.0000,\n",
       "           0.0000, 0.0000, 0.0000, 0.0000, 0.0000, 0.0000, 0.0000, 0.0000,\n",
       "           0.0000, 0.0000, 0.0000, 0.0000],\n",
       "          [0.0000, 0.0000, 0.0000, 0.0000, 0.0000, 0.0000, 0.0000, 0.0000,\n",
       "           0.0000, 0.0000, 0.0000, 0.0000, 0.0000, 0.0000, 0.0000, 0.0000,\n",
       "           0.0000, 0.0000, 0.0000, 0.0000, 0.0000, 0.0000, 0.0000, 0.0000,\n",
       "           0.0000, 0.0000, 0.0000, 0.0000],\n",
       "          [0.0000, 0.0000, 0.0000, 0.0000, 0.0000, 0.0000, 0.0000, 0.0000,\n",
       "           0.0000, 0.0000, 0.0000, 0.0000, 0.0000, 0.0000, 0.0000, 0.0000,\n",
       "           0.0000, 0.0000, 0.0000, 0.0000, 0.0000, 0.0000, 0.0000, 0.0000,\n",
       "           0.0000, 0.0000, 0.0000, 0.0000],\n",
       "          [0.0000, 0.0000, 0.0000, 0.0000, 0.0000, 0.0000, 0.0000, 0.0000,\n",
       "           0.0000, 0.0000, 0.0000, 0.0000, 0.0039, 0.0000, 0.0000, 0.0510,\n",
       "           0.2863, 0.0000, 0.0000, 0.0039, 0.0157, 0.0000, 0.0000, 0.0000,\n",
       "           0.0000, 0.0039, 0.0039, 0.0000],\n",
       "          [0.0000, 0.0000, 0.0000, 0.0000, 0.0000, 0.0000, 0.0000, 0.0000,\n",
       "           0.0000, 0.0000, 0.0000, 0.0000, 0.0118, 0.0000, 0.1412, 0.5333,\n",
       "           0.4980, 0.2431, 0.2118, 0.0000, 0.0000, 0.0000, 0.0039, 0.0118,\n",
       "           0.0157, 0.0000, 0.0000, 0.0118],\n",
       "          [0.0000, 0.0000, 0.0000, 0.0000, 0.0000, 0.0000, 0.0000, 0.0000,\n",
       "           0.0000, 0.0000, 0.0000, 0.0000, 0.0235, 0.0000, 0.4000, 0.8000,\n",
       "           0.6902, 0.5255, 0.5647, 0.4824, 0.0902, 0.0000, 0.0000, 0.0000,\n",
       "           0.0000, 0.0471, 0.0392, 0.0000],\n",
       "          [0.0000, 0.0000, 0.0000, 0.0000, 0.0000, 0.0000, 0.0000, 0.0000,\n",
       "           0.0000, 0.0000, 0.0000, 0.0000, 0.0000, 0.0000, 0.6078, 0.9255,\n",
       "           0.8118, 0.6980, 0.4196, 0.6118, 0.6314, 0.4275, 0.2510, 0.0902,\n",
       "           0.3020, 0.5098, 0.2824, 0.0588],\n",
       "          [0.0000, 0.0000, 0.0000, 0.0000, 0.0000, 0.0000, 0.0000, 0.0000,\n",
       "           0.0000, 0.0000, 0.0000, 0.0039, 0.0000, 0.2706, 0.8118, 0.8745,\n",
       "           0.8549, 0.8471, 0.8471, 0.6392, 0.4980, 0.4745, 0.4784, 0.5725,\n",
       "           0.5529, 0.3451, 0.6745, 0.2588],\n",
       "          [0.0000, 0.0000, 0.0000, 0.0000, 0.0000, 0.0000, 0.0000, 0.0000,\n",
       "           0.0000, 0.0039, 0.0039, 0.0039, 0.0000, 0.7843, 0.9098, 0.9098,\n",
       "           0.9137, 0.8980, 0.8745, 0.8745, 0.8431, 0.8353, 0.6431, 0.4980,\n",
       "           0.4824, 0.7686, 0.8980, 0.0000],\n",
       "          [0.0000, 0.0000, 0.0000, 0.0000, 0.0000, 0.0000, 0.0000, 0.0000,\n",
       "           0.0000, 0.0000, 0.0000, 0.0000, 0.0000, 0.7176, 0.8824, 0.8471,\n",
       "           0.8745, 0.8941, 0.9216, 0.8902, 0.8784, 0.8706, 0.8784, 0.8667,\n",
       "           0.8745, 0.9608, 0.6784, 0.0000],\n",
       "          [0.0000, 0.0000, 0.0000, 0.0000, 0.0000, 0.0000, 0.0000, 0.0000,\n",
       "           0.0000, 0.0000, 0.0000, 0.0000, 0.0000, 0.7569, 0.8941, 0.8549,\n",
       "           0.8353, 0.7765, 0.7059, 0.8314, 0.8235, 0.8275, 0.8353, 0.8745,\n",
       "           0.8627, 0.9529, 0.7922, 0.0000],\n",
       "          [0.0000, 0.0000, 0.0000, 0.0000, 0.0000, 0.0000, 0.0000, 0.0000,\n",
       "           0.0000, 0.0039, 0.0118, 0.0000, 0.0471, 0.8588, 0.8627, 0.8314,\n",
       "           0.8549, 0.7529, 0.6627, 0.8902, 0.8157, 0.8549, 0.8784, 0.8314,\n",
       "           0.8863, 0.7725, 0.8196, 0.2039],\n",
       "          [0.0000, 0.0000, 0.0000, 0.0000, 0.0000, 0.0000, 0.0000, 0.0000,\n",
       "           0.0000, 0.0000, 0.0235, 0.0000, 0.3882, 0.9569, 0.8706, 0.8627,\n",
       "           0.8549, 0.7961, 0.7765, 0.8667, 0.8431, 0.8353, 0.8706, 0.8627,\n",
       "           0.9608, 0.4667, 0.6549, 0.2196],\n",
       "          [0.0000, 0.0000, 0.0000, 0.0000, 0.0000, 0.0000, 0.0000, 0.0000,\n",
       "           0.0000, 0.0157, 0.0000, 0.0000, 0.2157, 0.9255, 0.8941, 0.9020,\n",
       "           0.8941, 0.9412, 0.9098, 0.8353, 0.8549, 0.8745, 0.9176, 0.8510,\n",
       "           0.8510, 0.8196, 0.3608, 0.0000],\n",
       "          [0.0000, 0.0000, 0.0039, 0.0157, 0.0235, 0.0275, 0.0078, 0.0000,\n",
       "           0.0000, 0.0000, 0.0000, 0.0000, 0.9294, 0.8863, 0.8510, 0.8745,\n",
       "           0.8706, 0.8588, 0.8706, 0.8667, 0.8471, 0.8745, 0.8980, 0.8431,\n",
       "           0.8549, 1.0000, 0.3020, 0.0000],\n",
       "          [0.0000, 0.0118, 0.0000, 0.0000, 0.0000, 0.0000, 0.0000, 0.0000,\n",
       "           0.0000, 0.2431, 0.5686, 0.8000, 0.8941, 0.8118, 0.8353, 0.8667,\n",
       "           0.8549, 0.8157, 0.8275, 0.8549, 0.8784, 0.8745, 0.8588, 0.8431,\n",
       "           0.8784, 0.9569, 0.6235, 0.0000],\n",
       "          [0.0000, 0.0000, 0.0000, 0.0000, 0.0706, 0.1725, 0.3216, 0.4196,\n",
       "           0.7412, 0.8941, 0.8627, 0.8706, 0.8510, 0.8863, 0.7843, 0.8039,\n",
       "           0.8275, 0.9020, 0.8784, 0.9176, 0.6902, 0.7373, 0.9804, 0.9725,\n",
       "           0.9137, 0.9333, 0.8431, 0.0000],\n",
       "          [0.0000, 0.2235, 0.7333, 0.8157, 0.8784, 0.8667, 0.8784, 0.8157,\n",
       "           0.8000, 0.8392, 0.8157, 0.8196, 0.7843, 0.6235, 0.9608, 0.7569,\n",
       "           0.8078, 0.8745, 1.0000, 1.0000, 0.8667, 0.9176, 0.8667, 0.8275,\n",
       "           0.8627, 0.9098, 0.9647, 0.0000],\n",
       "          [0.0118, 0.7922, 0.8941, 0.8784, 0.8667, 0.8275, 0.8275, 0.8392,\n",
       "           0.8039, 0.8039, 0.8039, 0.8627, 0.9412, 0.3137, 0.5882, 1.0000,\n",
       "           0.8980, 0.8667, 0.7373, 0.6039, 0.7490, 0.8235, 0.8000, 0.8196,\n",
       "           0.8706, 0.8941, 0.8824, 0.0000],\n",
       "          [0.3843, 0.9137, 0.7765, 0.8235, 0.8706, 0.8980, 0.8980, 0.9176,\n",
       "           0.9765, 0.8627, 0.7608, 0.8431, 0.8510, 0.9451, 0.2549, 0.2863,\n",
       "           0.4157, 0.4588, 0.6588, 0.8588, 0.8667, 0.8431, 0.8510, 0.8745,\n",
       "           0.8745, 0.8784, 0.8980, 0.1137],\n",
       "          [0.2941, 0.8000, 0.8314, 0.8000, 0.7569, 0.8039, 0.8275, 0.8824,\n",
       "           0.8471, 0.7255, 0.7725, 0.8078, 0.7765, 0.8353, 0.9412, 0.7647,\n",
       "           0.8902, 0.9608, 0.9373, 0.8745, 0.8549, 0.8314, 0.8196, 0.8706,\n",
       "           0.8627, 0.8667, 0.9020, 0.2627],\n",
       "          [0.1882, 0.7961, 0.7176, 0.7608, 0.8353, 0.7725, 0.7255, 0.7451,\n",
       "           0.7608, 0.7529, 0.7922, 0.8392, 0.8588, 0.8667, 0.8627, 0.9255,\n",
       "           0.8824, 0.8471, 0.7804, 0.8078, 0.7294, 0.7098, 0.6941, 0.6745,\n",
       "           0.7098, 0.8039, 0.8078, 0.4510],\n",
       "          [0.0000, 0.4784, 0.8588, 0.7569, 0.7020, 0.6706, 0.7176, 0.7686,\n",
       "           0.8000, 0.8235, 0.8353, 0.8118, 0.8275, 0.8235, 0.7843, 0.7686,\n",
       "           0.7608, 0.7490, 0.7647, 0.7490, 0.7765, 0.7529, 0.6902, 0.6118,\n",
       "           0.6549, 0.6941, 0.8235, 0.3608],\n",
       "          [0.0000, 0.0000, 0.2902, 0.7412, 0.8314, 0.7490, 0.6863, 0.6745,\n",
       "           0.6863, 0.7098, 0.7255, 0.7373, 0.7412, 0.7373, 0.7569, 0.7765,\n",
       "           0.8000, 0.8196, 0.8235, 0.8235, 0.8275, 0.7373, 0.7373, 0.7608,\n",
       "           0.7529, 0.8471, 0.6667, 0.0000],\n",
       "          [0.0078, 0.0000, 0.0000, 0.0000, 0.2588, 0.7843, 0.8706, 0.9294,\n",
       "           0.9373, 0.9490, 0.9647, 0.9529, 0.9569, 0.8667, 0.8627, 0.7569,\n",
       "           0.7490, 0.7020, 0.7137, 0.7137, 0.7098, 0.6902, 0.6510, 0.6588,\n",
       "           0.3882, 0.2275, 0.0000, 0.0000],\n",
       "          [0.0000, 0.0000, 0.0000, 0.0000, 0.0000, 0.0000, 0.0000, 0.1569,\n",
       "           0.2392, 0.1725, 0.2824, 0.1608, 0.1373, 0.0000, 0.0000, 0.0000,\n",
       "           0.0000, 0.0000, 0.0000, 0.0000, 0.0000, 0.0000, 0.0000, 0.0000,\n",
       "           0.0000, 0.0000, 0.0000, 0.0000],\n",
       "          [0.0000, 0.0000, 0.0000, 0.0000, 0.0000, 0.0000, 0.0000, 0.0000,\n",
       "           0.0000, 0.0000, 0.0000, 0.0000, 0.0000, 0.0000, 0.0000, 0.0000,\n",
       "           0.0000, 0.0000, 0.0000, 0.0000, 0.0000, 0.0000, 0.0000, 0.0000,\n",
       "           0.0000, 0.0000, 0.0000, 0.0000],\n",
       "          [0.0000, 0.0000, 0.0000, 0.0000, 0.0000, 0.0000, 0.0000, 0.0000,\n",
       "           0.0000, 0.0000, 0.0000, 0.0000, 0.0000, 0.0000, 0.0000, 0.0000,\n",
       "           0.0000, 0.0000, 0.0000, 0.0000, 0.0000, 0.0000, 0.0000, 0.0000,\n",
       "           0.0000, 0.0000, 0.0000, 0.0000]]]),\n",
       " 9)"
      ]
     },
     "execution_count": 8,
     "metadata": {},
     "output_type": "execute_result"
    }
   ],
   "source": [
    "img, lable = train_data[0]\n",
    "img, lable"
   ]
  },
  {
   "cell_type": "code",
   "execution_count": 9,
   "id": "11b2eab7",
   "metadata": {
    "colab": {
     "base_uri": "https://localhost:8080/"
    },
    "executionInfo": {
     "elapsed": 1523,
     "status": "ok",
     "timestamp": 1698520826111,
     "user": {
      "displayName": "PRIYANSHU PATEL",
      "userId": "04328287060940396810"
     },
     "user_tz": -330
    },
    "id": "11b2eab7",
    "outputId": "18b51cd9-1d74-4ac1-ec42-de3161ec180e"
   },
   "outputs": [
    {
     "data": {
      "text/plain": [
       "(torch.Size([1, 28, 28]), 9)"
      ]
     },
     "execution_count": 9,
     "metadata": {},
     "output_type": "execute_result"
    }
   ],
   "source": [
    "\n",
    "img.shape, lable"
   ]
  },
  {
   "cell_type": "code",
   "execution_count": 10,
   "id": "43636728",
   "metadata": {},
   "outputs": [],
   "source": [
    "import random"
   ]
  },
  {
   "cell_type": "code",
   "execution_count": 11,
   "id": "01d99184",
   "metadata": {
    "colab": {
     "base_uri": "https://localhost:8080/",
     "height": 447
    },
    "executionInfo": {
     "elapsed": 43,
     "status": "ok",
     "timestamp": 1698520826661,
     "user": {
      "displayName": "PRIYANSHU PATEL",
      "userId": "04328287060940396810"
     },
     "user_tz": -330
    },
    "id": "01d99184",
    "outputId": "794849df-b4c8-46ec-af23-78d2df6e48da"
   },
   "outputs": [
    {
     "data": {
      "text/plain": [
       "<matplotlib.image.AxesImage at 0x7f0d9c2e2fe0>"
      ]
     },
     "execution_count": 11,
     "metadata": {},
     "output_type": "execute_result"
    },
    {
     "data": {
      "image/png": "[encoded data removed]",
      "text/plain": [
       "<Figure size 640x480 with 1 Axes>"
      ]
     },
     "metadata": {},
     "output_type": "display_data"
    }
   ],
   "source": [
    "plt.imshow(train_data.data[random.randint(0,60000)])"
   ]
  },
  {
   "cell_type": "code",
   "execution_count": 12,
   "id": "9ce9b7e8",
   "metadata": {
    "colab": {
     "base_uri": "https://localhost:8080/"
    },
    "executionInfo": {
     "elapsed": 34,
     "status": "ok",
     "timestamp": 1698520826663,
     "user": {
      "displayName": "PRIYANSHU PATEL",
      "userId": "04328287060940396810"
     },
     "user_tz": -330
    },
    "id": "9ce9b7e8",
    "outputId": "81e16e6c-ee16-40a7-8b19-cf36783be186",
    "scrolled": true
   },
   "outputs": [
    {
     "data": {
      "text/plain": [
       "{'T-shirt/top': 0,\n",
       " 'Trouser': 1,\n",
       " 'Pullover': 2,\n",
       " 'Dress': 3,\n",
       " 'Coat': 4,\n",
       " 'Sandal': 5,\n",
       " 'Shirt': 6,\n",
       " 'Sneaker': 7,\n",
       " 'Bag': 8,\n",
       " 'Ankle boot': 9}"
      ]
     },
     "execution_count": 12,
     "metadata": {},
     "output_type": "execute_result"
    }
   ],
   "source": [
    "train_data.class_to_idx"
   ]
  },
  {
   "cell_type": "code",
   "execution_count": 13,
   "id": "871f6b25",
   "metadata": {
    "colab": {
     "base_uri": "https://localhost:8080/"
    },
    "executionInfo": {
     "elapsed": 27,
     "status": "ok",
     "timestamp": 1698520826663,
     "user": {
      "displayName": "PRIYANSHU PATEL",
      "userId": "04328287060940396810"
     },
     "user_tz": -330
    },
    "id": "871f6b25",
    "outputId": "d9f28a81-2492-40e1-db8f-28a01350b5dc"
   },
   "outputs": [
    {
     "data": {
      "text/plain": [
       "(tensor([[[0.0000, 0.0000, 0.0000, 0.0000, 0.0000, 0.0000, 0.0000, 0.0745,\n",
       "           0.1216, 0.2784, 0.5686, 0.4667, 0.2784, 0.2118, 0.2706, 0.3098,\n",
       "           0.4784, 0.4824, 0.1882, 0.1098, 0.0000, 0.0000, 0.0000, 0.0000,\n",
       "           0.0000, 0.0000, 0.0000, 0.0000],\n",
       "          [0.0000, 0.0000, 0.0000, 0.0000, 0.0000, 0.0000, 0.1373, 0.2431,\n",
       "           0.1882, 0.1216, 0.2941, 0.6745, 0.8078, 0.5451, 0.4745, 0.7451,\n",
       "           0.5333, 0.1882, 0.1373, 0.2118, 0.2784, 0.0431, 0.0000, 0.0000,\n",
       "           0.0000, 0.0000, 0.0000, 0.0000],\n",
       "          [0.0000, 0.0000, 0.0000, 0.0000, 0.0000, 0.0353, 0.2706, 0.1608,\n",
       "           0.1529, 0.1647, 0.0941, 0.0000, 0.0980, 0.1843, 0.1529, 0.0471,\n",
       "           0.0157, 0.1255, 0.1843, 0.1725, 0.2392, 0.2314, 0.0000, 0.0000,\n",
       "           0.0000, 0.0000, 0.0000, 0.0000],\n",
       "          [0.0000, 0.0000, 0.0000, 0.0000, 0.0000, 0.1451, 0.2314, 0.1490,\n",
       "           0.1608, 0.1451, 0.1647, 0.1647, 0.1451, 0.1059, 0.1255, 0.1529,\n",
       "           0.1882, 0.1882, 0.1922, 0.1647, 0.1647, 0.2431, 0.0824, 0.0000,\n",
       "           0.0000, 0.0000, 0.0000, 0.0000],\n",
       "          [0.0000, 0.0000, 0.0000, 0.0000, 0.0000, 0.2118, 0.2314, 0.1608,\n",
       "           0.2118, 0.1529, 0.1137, 0.1137, 0.1137, 0.1333, 0.1137, 0.1216,\n",
       "           0.0824, 0.1098, 0.1059, 0.1922, 0.2039, 0.2510, 0.1255, 0.0000,\n",
       "           0.0000, 0.0000, 0.0000, 0.0000],\n",
       "          [0.0000, 0.0000, 0.0000, 0.0000, 0.0000, 0.2392, 0.2314, 0.1529,\n",
       "           0.1333, 0.0941, 0.0431, 0.0549, 0.0549, 0.1137, 0.0745, 0.0588,\n",
       "           0.0588, 0.0824, 0.0863, 0.2000, 0.2784, 0.2588, 0.1725, 0.0000,\n",
       "           0.0000, 0.0000, 0.0000, 0.0000],\n",
       "          [0.0000, 0.0000, 0.0000, 0.0000, 0.0000, 0.2706, 0.2431, 0.0431,\n",
       "           0.2510, 0.2000, 0.0549, 0.1333, 0.0980, 0.1137, 0.0941, 0.1333,\n",
       "           0.1333, 0.0745, 0.1333, 0.2510, 0.3569, 0.2667, 0.2431, 0.0000,\n",
       "           0.0000, 0.0000, 0.0000, 0.0000],\n",
       "          [0.0000, 0.0000, 0.0000, 0.0000, 0.0667, 0.3333, 0.1451, 0.4784,\n",
       "           0.8353, 0.0706, 0.2118, 0.2039, 0.2118, 0.1529, 0.1882, 0.2275,\n",
       "           0.2000, 0.2039, 0.1216, 0.4392, 0.4824, 0.2667, 0.2314, 0.0157,\n",
       "           0.0000, 0.0000, 0.0000, 0.0000],\n",
       "          [0.0000, 0.0000, 0.0000, 0.0000, 0.0863, 0.3451, 0.1608, 0.6118,\n",
       "           0.2706, 0.2039, 0.2392, 0.1843, 0.2039, 0.2275, 0.2039, 0.2039,\n",
       "           0.1647, 0.3490, 0.1333, 0.4667, 0.5804, 0.2510, 0.2392, 0.0745,\n",
       "           0.0000, 0.0000, 0.0000, 0.0000],\n",
       "          [0.0000, 0.0000, 0.0000, 0.0000, 0.1373, 0.3490, 0.3373, 0.5608,\n",
       "           0.0000, 0.3059, 0.2039, 0.2157, 0.2000, 0.1882, 0.1765, 0.2157,\n",
       "           0.1373, 0.3216, 0.2588, 0.1647, 0.7922, 0.2157, 0.2784, 0.1059,\n",
       "           0.0000, 0.0000, 0.0000, 0.0000],\n",
       "          [0.0000, 0.0000, 0.0000, 0.0000, 0.1725, 0.3333, 0.4431, 0.7373,\n",
       "           0.0000, 0.3176, 0.1725, 0.2039, 0.1922, 0.1922, 0.1882, 0.2275,\n",
       "           0.1843, 0.2510, 0.4039, 0.2157, 1.0000, 0.2784, 0.3686, 0.1451,\n",
       "           0.0000, 0.0000, 0.0000, 0.0000],\n",
       "          [0.0000, 0.0000, 0.0000, 0.0000, 0.2039, 0.3961, 0.4667, 0.4667,\n",
       "           0.0000, 0.2824, 0.1765, 0.1922, 0.2118, 0.2000, 0.1882, 0.2039,\n",
       "           0.2039, 0.1216, 0.4784, 0.0000, 0.9137, 0.3059, 0.3725, 0.1922,\n",
       "           0.0000, 0.0000, 0.0000, 0.0000],\n",
       "          [0.0000, 0.0000, 0.0000, 0.0000, 0.2510, 0.4235, 0.3961, 0.2275,\n",
       "           0.0000, 0.2510, 0.2039, 0.2196, 0.2157, 0.2118, 0.2039, 0.2039,\n",
       "           0.2314, 0.1137, 0.4745, 0.0157, 0.5216, 0.2941, 0.3882, 0.2510,\n",
       "           0.0000, 0.0000, 0.0000, 0.0000],\n",
       "          [0.0000, 0.0000, 0.0000, 0.0000, 0.2667, 0.3725, 0.4118, 0.3686,\n",
       "           0.0941, 0.2275, 0.2196, 0.2118, 0.2118, 0.2275, 0.2196, 0.2157,\n",
       "           0.2275, 0.1843, 0.3294, 0.1216, 0.2980, 0.4549, 0.4392, 0.2314,\n",
       "           0.0000, 0.0000, 0.0000, 0.0000],\n",
       "          [0.0000, 0.0000, 0.0000, 0.0000, 0.3490, 0.3608, 0.4431, 0.5216,\n",
       "           0.0000, 0.2588, 0.2314, 0.2000, 0.2157, 0.2314, 0.2196, 0.2118,\n",
       "           0.2000, 0.2157, 0.2118, 0.1922, 0.4510, 0.5412, 0.4431, 0.2431,\n",
       "           0.0196, 0.0000, 0.0000, 0.0000],\n",
       "          [0.0000, 0.0000, 0.0000, 0.0078, 0.3451, 0.3961, 0.5059, 0.4353,\n",
       "           0.0000, 0.3059, 0.2275, 0.2157, 0.2118, 0.2157, 0.2196, 0.2118,\n",
       "           0.2039, 0.2314, 0.2275, 0.2000, 0.1098, 0.5725, 0.4745, 0.2314,\n",
       "           0.0353, 0.0000, 0.0000, 0.0000],\n",
       "          [0.0000, 0.0000, 0.0000, 0.0275, 0.2941, 0.5412, 0.5529, 0.2000,\n",
       "           0.0745, 0.2588, 0.2431, 0.2118, 0.2392, 0.2275, 0.2196, 0.2196,\n",
       "           0.2157, 0.2196, 0.2314, 0.1490, 0.0000, 0.6000, 0.4667, 0.2549,\n",
       "           0.0588, 0.0000, 0.0000, 0.0000],\n",
       "          [0.0000, 0.0000, 0.0000, 0.0706, 0.2510, 0.5529, 0.5529, 0.0275,\n",
       "           0.1451, 0.2392, 0.2314, 0.1922, 0.2392, 0.2196, 0.2118, 0.2196,\n",
       "           0.2157, 0.2039, 0.2275, 0.2039, 0.0000, 0.8314, 0.4824, 0.2902,\n",
       "           0.0588, 0.0000, 0.0000, 0.0000],\n",
       "          [0.0000, 0.0000, 0.0000, 0.0863, 0.2275, 0.5725, 0.6902, 0.0353,\n",
       "           0.1647, 0.2392, 0.2118, 0.2157, 0.2275, 0.2275, 0.2314, 0.2392,\n",
       "           0.2510, 0.2392, 0.2392, 0.2824, 0.0000, 0.4118, 0.5608, 0.2941,\n",
       "           0.0706, 0.0000, 0.0000, 0.0000],\n",
       "          [0.0000, 0.0000, 0.0000, 0.1255, 0.1882, 0.6353, 0.7412, 0.0000,\n",
       "           0.2157, 0.2667, 0.2431, 0.2392, 0.2039, 0.2549, 0.2706, 0.2392,\n",
       "           0.2431, 0.2667, 0.2157, 0.2510, 0.0275, 0.2275, 0.6275, 0.2392,\n",
       "           0.0745, 0.0000, 0.0000, 0.0000],\n",
       "          [0.0000, 0.0000, 0.0000, 0.1098, 0.1529, 0.6392, 0.6275, 0.0000,\n",
       "           0.2039, 0.2157, 0.2431, 0.2510, 0.2000, 0.2196, 0.2275, 0.2039,\n",
       "           0.1882, 0.2314, 0.2039, 0.2275, 0.0941, 0.2314, 0.6275, 0.2392,\n",
       "           0.1098, 0.0000, 0.0000, 0.0000],\n",
       "          [0.0000, 0.0000, 0.0000, 0.1216, 0.1608, 0.6588, 0.5529, 0.0000,\n",
       "           0.3294, 0.2588, 0.2314, 0.2588, 0.2549, 0.2588, 0.2588, 0.2980,\n",
       "           0.2784, 0.2824, 0.3216, 0.3333, 0.0863, 0.1608, 0.5843, 0.2275,\n",
       "           0.0980, 0.0000, 0.0000, 0.0000],\n",
       "          [0.0000, 0.0000, 0.0000, 0.1529, 0.1882, 0.6667, 0.5451, 0.0000,\n",
       "           0.4902, 0.3843, 0.3882, 0.4000, 0.4157, 0.4039, 0.3882, 0.4039,\n",
       "           0.3725, 0.3765, 0.3765, 0.4118, 0.0706, 0.0431, 0.6588, 0.2941,\n",
       "           0.1137, 0.0000, 0.0000, 0.0000],\n",
       "          [0.0000, 0.0000, 0.0000, 0.1608, 0.1843, 0.6745, 0.4235, 0.0039,\n",
       "           0.3216, 0.3216, 0.3882, 0.3961, 0.3765, 0.4000, 0.3882, 0.3843,\n",
       "           0.3608, 0.3451, 0.3333, 0.3608, 0.0941, 0.0000, 0.5725, 0.3333,\n",
       "           0.1098, 0.0000, 0.0000, 0.0000],\n",
       "          [0.0000, 0.0000, 0.0000, 0.1451, 0.1765, 0.6471, 0.2824, 0.0000,\n",
       "           0.0000, 0.0000, 0.0000, 0.0000, 0.0000, 0.0000, 0.0000, 0.0000,\n",
       "           0.0000, 0.0000, 0.0000, 0.0000, 0.0000, 0.0000, 0.5176, 0.2588,\n",
       "           0.1373, 0.0000, 0.0000, 0.0000],\n",
       "          [0.0000, 0.0000, 0.0000, 0.2118, 0.3451, 0.6471, 0.1490, 0.0000,\n",
       "           0.0000, 0.0000, 0.0000, 0.0000, 0.0000, 0.0000, 0.0000, 0.0000,\n",
       "           0.0000, 0.0000, 0.0000, 0.0000, 0.0000, 0.1255, 0.5176, 0.3686,\n",
       "           0.2196, 0.0000, 0.0000, 0.0000],\n",
       "          [0.0000, 0.0000, 0.0000, 0.1529, 0.4431, 0.7059, 0.0588, 0.0000,\n",
       "           0.0078, 0.0000, 0.0000, 0.0000, 0.0000, 0.0000, 0.0000, 0.0000,\n",
       "           0.0000, 0.0000, 0.0000, 0.0039, 0.0000, 0.0471, 0.5725, 0.4157,\n",
       "           0.1333, 0.0000, 0.0000, 0.0000],\n",
       "          [0.0000, 0.0000, 0.0000, 0.0039, 0.1922, 0.4627, 0.0000, 0.0000,\n",
       "           0.0039, 0.0000, 0.0000, 0.0000, 0.0000, 0.0000, 0.0000, 0.0000,\n",
       "           0.0000, 0.0000, 0.0000, 0.0039, 0.0000, 0.0000, 0.4824, 0.2824,\n",
       "           0.0353, 0.0000, 0.0000, 0.0000]]]),\n",
       " 2)"
      ]
     },
     "execution_count": 13,
     "metadata": {},
     "output_type": "execute_result"
    }
   ],
   "source": [
    "train_data[400]"
   ]
  },
  {
   "cell_type": "code",
   "execution_count": 14,
   "id": "073c1b84",
   "metadata": {
    "colab": {
     "base_uri": "https://localhost:8080/",
     "height": 752
    },
    "executionInfo": {
     "elapsed": 2329,
     "status": "ok",
     "timestamp": 1698520828972,
     "user": {
      "displayName": "PRIYANSHU PATEL",
      "userId": "04328287060940396810"
     },
     "user_tz": -330
    },
    "id": "073c1b84",
    "outputId": "800e5416-ea34-4b2d-8dea-8aaad2609df2"
   },
   "outputs": [
    {
     "data": {
      "image/png": "[encoded data removed]",
      "text/plain": [
       "<Figure size 900x900 with 16 Axes>"
      ]
     },
     "metadata": {},
     "output_type": "display_data"
    }
   ],
   "source": [
    "## vizualize\n",
    "import random\n",
    "fig = plt.figure(figsize=(9,9))\n",
    "r, c = 4,4\n",
    "\n",
    "for i in range(1, r*c+1):\n",
    "    rand_idx = random.randint(0,len(train_data))\n",
    "    img,lab = train_data[rand_idx]\n",
    "    fig.add_subplot(r,c,i)\n",
    "    plt.imshow(img.squeeze(), cmap='gray')\n",
    "    plt.title(label=obj_class[lab])\n",
    "    plt.axis(False)"
   ]
  },
  {
   "cell_type": "code",
   "execution_count": 15,
   "id": "9c80ba8f",
   "metadata": {
    "executionInfo": {
     "elapsed": 51,
     "status": "ok",
     "timestamp": 1698520828973,
     "user": {
      "displayName": "PRIYANSHU PATEL",
      "userId": "04328287060940396810"
     },
     "user_tz": -330
    },
    "id": "9c80ba8f"
   },
   "outputs": [],
   "source": [
    "## dataloadwe\n",
    "\n",
    "train_loader = torch.utils.data.DataLoader(dataset=train_data, shuffle=True,batch_size=32)\n",
    "\n",
    "test_loader = torch.utils.data.DataLoader(dataset=test_data, shuffle=True,batch_size=32)"
   ]
  },
  {
   "cell_type": "code",
   "execution_count": 16,
   "id": "193a1071",
   "metadata": {
    "colab": {
     "base_uri": "https://localhost:8080/"
    },
    "executionInfo": {
     "elapsed": 50,
     "status": "ok",
     "timestamp": 1698520828973,
     "user": {
      "displayName": "PRIYANSHU PATEL",
      "userId": "04328287060940396810"
     },
     "user_tz": -330
    },
    "id": "193a1071",
    "outputId": "f7f23b30-e0e1-4d6c-d355-be40454736bf"
   },
   "outputs": [
    {
     "data": {
      "text/plain": [
       "(1875, 313)"
      ]
     },
     "execution_count": 16,
     "metadata": {},
     "output_type": "execute_result"
    }
   ],
   "source": [
    "len(train_loader), len(test_loader)"
   ]
  },
  {
   "cell_type": "code",
   "execution_count": 17,
   "id": "cdf9d69b",
   "metadata": {
    "colab": {
     "base_uri": "https://localhost:8080/",
     "height": 447
    },
    "executionInfo": {
     "elapsed": 41,
     "status": "ok",
     "timestamp": 1698520828974,
     "user": {
      "displayName": "PRIYANSHU PATEL",
      "userId": "04328287060940396810"
     },
     "user_tz": -330
    },
    "id": "cdf9d69b",
    "outputId": "892eb161-f36b-4578-a3a9-ca31e6877853"
   },
   "outputs": [
    {
     "name": "stdout",
     "output_type": "stream",
     "text": [
      "Sandal\n"
     ]
    },
    {
     "data": {
      "image/png": "[encoded data removed]",
      "text/plain": [
       "<Figure size 640x480 with 1 Axes>"
      ]
     },
     "metadata": {},
     "output_type": "display_data"
    }
   ],
   "source": [
    "for i in train_loader:\n",
    "    for j in range(len(i)):\n",
    "        plt.imshow(i[0][j].squeeze())\n",
    "        print(obj_class[i[1][j]])\n",
    "        break\n",
    "    break"
   ]
  },
  {
   "cell_type": "code",
   "execution_count": null,
   "id": "e2f15880",
   "metadata": {
    "executionInfo": {
     "elapsed": 32,
     "status": "ok",
     "timestamp": 1698520828974,
     "user": {
      "displayName": "PRIYANSHU PATEL",
      "userId": "04328287060940396810"
     },
     "user_tz": -330
    },
    "id": "e2f15880"
   },
   "outputs": [],
   "source": []
  },
  {
   "cell_type": "code",
   "execution_count": 18,
   "id": "089808b8",
   "metadata": {
    "colab": {
     "base_uri": "https://localhost:8080/"
    },
    "executionInfo": {
     "elapsed": 32,
     "status": "ok",
     "timestamp": 1698520829571,
     "user": {
      "displayName": "PRIYANSHU PATEL",
      "userId": "04328287060940396810"
     },
     "user_tz": -330
    },
    "id": "089808b8",
    "outputId": "ce084704-7fdf-40d9-b1e8-b6725c9a06a9"
   },
   "outputs": [
    {
     "name": "stdout",
     "output_type": "stream",
     "text": [
      "torch.Size([1, 28, 28])\n"
     ]
    },
    {
     "data": {
      "text/plain": [
       "torch.Size([1, 784])"
      ]
     },
     "execution_count": 18,
     "metadata": {},
     "output_type": "execute_result"
    }
   ],
   "source": [
    "## flattern layer -> (28x28) -> 784\n",
    "\n",
    "flat = nn.Flatten()\n",
    "x = train_data[0]\n",
    "# print(x[0])\n",
    "print(x[0].shape)\n",
    "flat(x[0]).shape"
   ]
  },
  {
   "cell_type": "code",
   "execution_count": 19,
   "id": "79b5bb26",
   "metadata": {
    "executionInfo": {
     "elapsed": 29,
     "status": "ok",
     "timestamp": 1698520829572,
     "user": {
      "displayName": "PRIYANSHU PATEL",
      "userId": "04328287060940396810"
     },
     "user_tz": -330
    },
    "id": "79b5bb26"
   },
   "outputs": [],
   "source": [
    "## model\n",
    "\n",
    "class cnn_fashion(nn.Module):\n",
    "    def __init__(self):\n",
    "        super().__init__()\n",
    "        self.flat1 = nn.Flatten()\n",
    "        self.l1 = nn.Linear(in_features=(28*28), out_features=100)\n",
    "        self.l2 = nn.Linear(in_features=100, out_features=len(obj_class))\n",
    "        self.rlu = nn.ReLU()\n",
    "    def forward(self, x):\n",
    "        x = self.flat1(x)\n",
    "        x = self.l1(x)\n",
    "        x = self.rlu(x)\n",
    "        x = self.l2(x)\n",
    "        return x"
   ]
  },
  {
   "cell_type": "code",
   "execution_count": 20,
   "id": "a50004f6",
   "metadata": {
    "colab": {
     "base_uri": "https://localhost:8080/"
    },
    "executionInfo": {
     "elapsed": 29,
     "status": "ok",
     "timestamp": 1698520829573,
     "user": {
      "displayName": "PRIYANSHU PATEL",
      "userId": "04328287060940396810"
     },
     "user_tz": -330
    },
    "id": "a50004f6",
    "outputId": "175a83cd-3eea-49af-def7-2d51aaaae01d"
   },
   "outputs": [
    {
     "data": {
      "text/plain": [
       "cnn_fashion(\n",
       "  (flat1): Flatten(start_dim=1, end_dim=-1)\n",
       "  (l1): Linear(in_features=784, out_features=100, bias=True)\n",
       "  (l2): Linear(in_features=100, out_features=10, bias=True)\n",
       "  (rlu): ReLU()\n",
       ")"
      ]
     },
     "execution_count": 20,
     "metadata": {},
     "output_type": "execute_result"
    }
   ],
   "source": [
    "model_0 = cnn_fashion()\n",
    "model_0.to(device)"
   ]
  },
  {
   "cell_type": "code",
   "execution_count": 21,
   "id": "0c3d4e1a",
   "metadata": {
    "colab": {
     "base_uri": "https://localhost:8080/"
    },
    "executionInfo": {
     "elapsed": 23,
     "status": "ok",
     "timestamp": 1698520829573,
     "user": {
      "displayName": "PRIYANSHU PATEL",
      "userId": "04328287060940396810"
     },
     "user_tz": -330
    },
    "id": "0c3d4e1a",
    "outputId": "3cbbf72e-1123-46ab-a043-ef8cb13492b6"
   },
   "outputs": [
    {
     "data": {
      "text/plain": [
       "tensor([[ 0.0512, -0.0669,  0.2002, -0.2006, -0.0252, -0.0826, -0.0726,  0.0961,\n",
       "         -0.0665,  0.0705]], device='cuda:0', grad_fn=<AddmmBackward0>)"
      ]
     },
     "execution_count": 21,
     "metadata": {},
     "output_type": "execute_result"
    }
   ],
   "source": [
    "tmpd = train_data[1][0].to(device)\n",
    "model_0(tmpd)"
   ]
  },
  {
   "cell_type": "code",
   "execution_count": null,
   "id": "4fe39250",
   "metadata": {
    "executionInfo": {
     "elapsed": 19,
     "status": "ok",
     "timestamp": 1698520829574,
     "user": {
      "displayName": "PRIYANSHU PATEL",
      "userId": "04328287060940396810"
     },
     "user_tz": -330
    },
    "id": "4fe39250"
   },
   "outputs": [],
   "source": []
  },
  {
   "cell_type": "code",
   "execution_count": 22,
   "id": "cd384ad4",
   "metadata": {
    "executionInfo": {
     "elapsed": 18,
     "status": "ok",
     "timestamp": 1698520829574,
     "user": {
      "displayName": "PRIYANSHU PATEL",
      "userId": "04328287060940396810"
     },
     "user_tz": -330
    },
    "id": "cd384ad4"
   },
   "outputs": [],
   "source": [
    "loss_fn = nn.CrossEntropyLoss()\n",
    "optim_fn = torch.optim.Adam(params=model_0.parameters(), lr=0.01)"
   ]
  },
  {
   "cell_type": "code",
   "execution_count": 23,
   "id": "551f724a",
   "metadata": {
    "executionInfo": {
     "elapsed": 11,
     "status": "ok",
     "timestamp": 1698520830405,
     "user": {
      "displayName": "PRIYANSHU PATEL",
      "userId": "04328287060940396810"
     },
     "user_tz": -330
    },
    "id": "551f724a"
   },
   "outputs": [],
   "source": [
    "from tqdm.auto import tqdm"
   ]
  },
  {
   "cell_type": "code",
   "execution_count": 24,
   "id": "f88ae705",
   "metadata": {
    "colab": {
     "base_uri": "https://localhost:8080/"
    },
    "executionInfo": {
     "elapsed": 7,
     "status": "ok",
     "timestamp": 1698520830405,
     "user": {
      "displayName": "PRIYANSHU PATEL",
      "userId": "04328287060940396810"
     },
     "user_tz": -330
    },
    "id": "f88ae705",
    "outputId": "da8e4f26-ab27-42dc-ccd3-d3b1aa3ffc44",
    "scrolled": true
   },
   "outputs": [
    {
     "data": {
      "text/plain": [
       "Dataset FashionMNIST\n",
       "    Number of datapoints: 60000\n",
       "    Root location: dataset\n",
       "    Split: Train\n",
       "    StandardTransform\n",
       "Transform: ToTensor()"
      ]
     },
     "execution_count": 24,
     "metadata": {},
     "output_type": "execute_result"
    }
   ],
   "source": [
    "train_loader.dataset"
   ]
  },
  {
   "cell_type": "code",
   "execution_count": 25,
   "id": "628541b6",
   "metadata": {
    "colab": {
     "base_uri": "https://localhost:8080/",
     "height": 101,
     "referenced_widgets": [
      "95410fd2190f411492752ff58efbea16",
      "4fe79c4ca5b246209c2a225907ac5886",
      "bc88d8e34962403bb7e66f6414266d60",
      "aaf717da418041c78fc4f7621a15b065",
      "4f93403b13414086ad44a14b196e7b30",
      "5e2e713ae8844fd5833dd62fd376441f",
      "d8b3874f9c5449269a06bd074c012441",
      "9e122bbcb5b448d48bab7abf13d950e5",
      "eb1572e030d5448895a643f9ec1ee3b6",
      "65abbec95c734cb483b8514da3f38e82",
      "738d5a361ec9471f9523f9cbaaae6752"
     ]
    },
    "executionInfo": {
     "elapsed": 41933,
     "status": "ok",
     "timestamp": 1698520872784,
     "user": {
      "displayName": "PRIYANSHU PATEL",
      "userId": "04328287060940396810"
     },
     "user_tz": -330
    },
    "id": "628541b6",
    "outputId": "f5da06de-dca5-4b17-9b31-b3b23c1d2b79"
   },
   "outputs": [
    {
     "data": {
      "application/vnd.jupyter.widget-view+json": {
       "model_id": "45b8a8d4f5d4441a8960520c14c7b440",
       "version_major": 2,
       "version_minor": 0
      },
      "text/plain": [
       "  0%|          | 0/3 [00:00<?, ?it/s]"
      ]
     },
     "metadata": {},
     "output_type": "display_data"
    },
    {
     "name": "stdout",
     "output_type": "stream",
     "text": [
      "Train Loss: 0.538351833820343, Test loss: 0.5067976713180542, trainacc 80.65499877929688, testacc 81.5894546508789\n",
      "Train Loss: 0.43586069345474243, Test loss: 0.46380648016929626, trainacc 84.54000091552734, testacc 84.15534973144531\n",
      "Train Loss: 0.4155261516571045, Test loss: 0.4614439010620117, trainacc 85.22166442871094, testacc 83.99560546875\n"
     ]
    }
   ],
   "source": [
    "## training loop\n",
    "\n",
    "\n",
    "epochs=3\n",
    "acc = Accuracy(task='multiclass', num_classes=len(obj_class)).to(device)\n",
    "\n",
    "for e in tqdm(range(epochs)): # epochs\n",
    "    model_0.train()\n",
    "    total_loss = 0\n",
    "    train_acc = 0\n",
    "    # batch loop\n",
    "    for bs, (X,y) in enumerate(train_loader): # batches of 1875\n",
    "        X, y = X.to(device), y.to(device)\n",
    "        y_preds = model_0(X) # 32 at a time\n",
    "\n",
    "        loss = loss_fn(y_preds, y)\n",
    "        total_loss+=loss\n",
    "        train_acc += acc(y_preds, y)\n",
    "        optim_fn.zero_grad()\n",
    "        loss.backward()\n",
    "        optim_fn.step()\n",
    "\n",
    "#         if bs % 400 == 0:\n",
    "#             print(f\"Looked at {bs * len(X)}/{train_loader.dataset}\")\n",
    "\n",
    "    total_loss/=len(train_loader)\n",
    "    train_acc/=len(train_loader)\n",
    "\n",
    "    #test\n",
    "    test_loss, test_acc = 0,0\n",
    "    model_0.eval()\n",
    "    with torch.inference_mode():\n",
    "        for X,y in test_loader:\n",
    "            X, y = X.to(device), y.to(device)\n",
    "            test_preds = model_0(X)\n",
    "            test_loss+=loss_fn(test_preds, y)\n",
    "\n",
    "            #acc\n",
    "\n",
    "            test_acc += acc(test_preds.argmax(dim=1), y)\n",
    "        test_loss /= len(test_loader)\n",
    "        test_acc /= len(test_loader)\n",
    "\n",
    "    print(f\"Train Loss: {total_loss}, Test loss: {test_loss}, trainacc {train_acc*100}, testacc {test_acc*100}\")\n"
   ]
  },
  {
   "cell_type": "code",
   "execution_count": 26,
   "id": "1b3ecbea",
   "metadata": {
    "colab": {
     "base_uri": "https://localhost:8080/"
    },
    "executionInfo": {
     "elapsed": 1859,
     "status": "ok",
     "timestamp": 1698520874614,
     "user": {
      "displayName": "PRIYANSHU PATEL",
      "userId": "04328287060940396810"
     },
     "user_tz": -330
    },
    "id": "1b3ecbea",
    "outputId": "5119a2e7-eeb6-42ca-9cd0-c722dfb1c03e"
   },
   "outputs": [
    {
     "name": "stdout",
     "output_type": "stream",
     "text": [
      "tensor(0.4616, device='cuda:0') tensor(0.8397, device='cuda:0')\n"
     ]
    }
   ],
   "source": [
    "## making preds\n",
    "\n",
    "with torch.inference_mode():\n",
    "    loss, accr = 0,0\n",
    "    for X, y in test_loader:\n",
    "        X , y = X.to(device), y.to(device)\n",
    "        y_preds = model_0(X)\n",
    "        loss += loss_fn(y_preds, y)\n",
    "        accr += acc(y_preds.argmax(dim=1), y)\n",
    "    print(loss/len(test_loader), accr/len(test_loader))"
   ]
  },
  {
   "cell_type": "code",
   "execution_count": 27,
   "id": "e9468133",
   "metadata": {
    "executionInfo": {
     "elapsed": 7,
     "status": "ok",
     "timestamp": 1698520874615,
     "user": {
      "displayName": "PRIYANSHU PATEL",
      "userId": "04328287060940396810"
     },
     "user_tz": -330
    },
    "id": "e9468133"
   },
   "outputs": [],
   "source": [
    "## model conv net\n",
    "\n",
    "## model\n",
    "\n",
    "class cnn_fashion2(nn.Module):\n",
    "    def __init__(self, inp_shape, hidden_shape, out_shape):\n",
    "        super().__init__()\n",
    "        \n",
    "        # block 1\n",
    "        self.cnn_block_1 = nn.Sequential(\n",
    "            nn.Conv2d(in_channels=inp_shape,\n",
    "                      out_channels=hidden_shape,\n",
    "                      kernel_size=3,\n",
    "                      stride=1,\n",
    "                      padding=1),\n",
    "            nn.ReLU(),\n",
    "            nn.Conv2d(in_channels=hidden_shape,\n",
    "                     out_channels=hidden_shape,\n",
    "                     kernel_size=3,\n",
    "                     padding=1,\n",
    "                     stride=1),\n",
    "            nn.ReLU(),\n",
    "            nn.MaxPool2d(kernel_size=2, stride=2)\n",
    "        )\n",
    "        \n",
    "        #block 2\n",
    "        self.cnn_block_2 = nn.Sequential(\n",
    "            nn.Conv2d(in_channels=hidden_shape,\n",
    "                     out_channels=hidden_shape,\n",
    "                     kernel_size=3,\n",
    "                     padding=1),\n",
    "            nn.ReLU(),\n",
    "            nn.Conv2d(in_channels=hidden_shape,\n",
    "                     out_channels=hidden_shape,\n",
    "                     kernel_size=3,\n",
    "                     padding=1),\n",
    "            nn.ReLU(),\n",
    "            nn.MaxPool2d(kernel_size=2)\n",
    "        )\n",
    "        \n",
    "        #out layer classifier\n",
    "        self.class_layer = nn.Sequential(\n",
    "            nn.Flatten(),\n",
    "            nn.Linear(in_features=hidden_shape*7*7,\n",
    "                     out_features=out_shape)\n",
    "        )\n",
    "    \n",
    "    def forward(self, x):\n",
    "        x = self.cnn_block_1(x)\n",
    "#         print(\"cnn block 1\", x.shape)\n",
    "        x = self.cnn_block_2(x)\n",
    "#         print(\"cnn block 2\", x.shape)\n",
    "        x = self.class_layer(x)\n",
    "#         print(\"cnn block 3\", x.shape)\n",
    "        return x\n",
    "        \n",
    "        "
   ]
  },
  {
   "cell_type": "code",
   "execution_count": 28,
   "id": "3bbdcc84",
   "metadata": {},
   "outputs": [
    {
     "name": "stderr",
     "output_type": "stream",
     "text": [
      "Clipping input data to the valid range for imshow with RGB data ([0..1] for floats or [0..255] for integers).\n"
     ]
    },
    {
     "name": "stdout",
     "output_type": "stream",
     "text": [
      "torch.Size([32, 3, 64, 64])\n",
      "torch.Size([3, 64, 64])\n"
     ]
    },
    {
     "data": {
      "image/png": "[encoded data removed]",
      "text/plain": [
       "<Figure size 640x480 with 1 Axes>"
      ]
     },
     "metadata": {},
     "output_type": "display_data"
    }
   ],
   "source": [
    "## making sample image\n",
    "images = torch.randn(size=(32,3,64,64))\n",
    "test_image = images[0]\n",
    "\n",
    "print(images.shape)\n",
    "print(test_image.shape)\n",
    "test_image = test_image.reshape([64,64,3])\n",
    "plt.imshow(test_image)\n",
    "test_image = test_image.reshape([3,64,64])"
   ]
  },
  {
   "cell_type": "code",
   "execution_count": 29,
   "id": "989bd546",
   "metadata": {
    "scrolled": true
   },
   "outputs": [
    {
     "data": {
      "text/plain": [
       "torch.Size([10, 62, 62])"
      ]
     },
     "execution_count": 29,
     "metadata": {},
     "output_type": "execute_result"
    }
   ],
   "source": [
    "## single conv pass\n",
    "\n",
    "conv_layer = nn.Conv2d(in_channels=3, \n",
    "                      out_channels=10, \n",
    "                      kernel_size=3,\n",
    "                      stride=1,\n",
    "                      padding=0)\n",
    "\n",
    "conv_test_res = conv_layer(test_image)\n",
    "conv_test_res.shape"
   ]
  },
  {
   "cell_type": "code",
   "execution_count": 30,
   "id": "b4f373ff",
   "metadata": {
    "scrolled": true
   },
   "outputs": [],
   "source": [
    "## test model 3\n",
    "model3 = cnn_fashion2(inp_shape=1, hidden_shape=10, out_shape=len(obj_class)).to(device)"
   ]
  },
  {
   "cell_type": "code",
   "execution_count": 31,
   "id": "4f28116d",
   "metadata": {},
   "outputs": [
    {
     "name": "stdout",
     "output_type": "stream",
     "text": [
      "torch.Size([10, 1, 28, 28])\n",
      "torch.Size([1, 28, 28])\n"
     ]
    },
    {
     "data": {
      "text/plain": [
       "<matplotlib.image.AxesImage at 0x7f0d96620df0>"
      ]
     },
     "execution_count": 31,
     "metadata": {},
     "output_type": "execute_result"
    },
    {
     "data": {
      "image/png": "[encoded data removed]",
      "text/plain": [
       "<Figure size 640x480 with 1 Axes>"
      ]
     },
     "metadata": {},
     "output_type": "display_data"
    }
   ],
   "source": [
    "## test img 2\n",
    "image2 = torch.randn([10,1,28,28])\n",
    "test_img2 = image2[0]\n",
    "\n",
    "print(image2.shape)\n",
    "print(test_img2.shape)\n",
    "plt.imshow(test_img2.reshape([28,28,1]))"
   ]
  },
  {
   "cell_type": "code",
   "execution_count": 32,
   "id": "984b6d0c",
   "metadata": {},
   "outputs": [
    {
     "data": {
      "text/plain": [
       "tensor([[ 0.0394, -0.1404, -0.0725, -0.0052, -0.1089,  0.0590, -0.0425, -0.0876,\n",
       "         -0.0295,  0.0728]], device='cuda:0', grad_fn=<AddmmBackward0>)"
      ]
     },
     "execution_count": 32,
     "metadata": {},
     "output_type": "execute_result"
    }
   ],
   "source": [
    "test_img2 = test_img2.to(device)\n",
    "model3(test_img2.unsqueeze(0))"
   ]
  },
  {
   "cell_type": "code",
   "execution_count": 33,
   "id": "0ee2e0ca",
   "metadata": {},
   "outputs": [],
   "source": [
    "## loss fn\n",
    "\n",
    "loss_fn_2 = nn.CrossEntropyLoss()\n",
    "optim_fn_2 = torch.optim.Adam(params=model3.parameters(), lr=0.01)"
   ]
  },
  {
   "cell_type": "code",
   "execution_count": 34,
   "id": "3e97264a",
   "metadata": {},
   "outputs": [
    {
     "name": "stdout",
     "output_type": "stream",
     "text": [
      "Epoch : 0 | Train Loss : 0.56 | Test Loss : 0.46 | Train Acc : 0.80 | Test Acc : 0.83\n",
      "Epoch : 1 | Train Loss : 0.41 | Test Loss : 0.46 | Train Acc : 0.85 | Test Acc : 0.84\n",
      "Epoch : 2 | Train Loss : 0.40 | Test Loss : 0.43 | Train Acc : 0.86 | Test Acc : 0.84\n",
      "28.299305200576782\n"
     ]
    }
   ],
   "source": [
    "##train loop\n",
    "import time\n",
    "\n",
    "s_time = time.time()\n",
    "\n",
    "epochs = 3\n",
    "for e in range(epochs):\n",
    "    \n",
    "    ## train\n",
    "    model3.train()\n",
    "    train_loss, train_acc = 0, 0\n",
    "    \n",
    "    for bs, (X_tr,y_tr) in enumerate(train_loader):\n",
    "        X_tr,y_tr = X_tr.to(device), y_tr.to(device)\n",
    "        y_tmp = model3(X_tr)\n",
    "        \n",
    "        tmp_loss = loss_fn_2(y_tmp, y_tr)\n",
    "        train_loss += tmp_loss\n",
    "        \n",
    "        train_acc += acc(y_tmp, y_tr)\n",
    "        \n",
    "        optim_fn_2.zero_grad()\n",
    "        tmp_loss.backward()\n",
    "        optim_fn_2.step()\n",
    "    \n",
    "    train_loss /= len(train_loader)\n",
    "    train_acc /= len(train_loader)\n",
    "    \n",
    "    ## test\n",
    "    model3.eval()\n",
    "    test_loss, test_acc = 0,0\n",
    "    \n",
    "    for (X_te, y_te) in test_loader:\n",
    "        X_te, y_te = X_te.to(device), y_te.to(device)\n",
    "        y_tmp = model3(X_te)\n",
    "        test_loss += loss_fn_2(y_tmp, y_te)\n",
    "        test_acc += acc(y_tmp, y_te)\n",
    "    test_loss /= len(test_loader)\n",
    "    test_acc /= len(test_loader)\n",
    "    \n",
    "    print(f\"Epoch : {e} | Train Loss : {train_loss:.2f} | Test Loss : {test_loss:.2f} | Train Acc : {train_acc:.2f} | Test Acc : {test_acc:.2f}\")\n",
    "    \n",
    "print(f\"{time.time() - s_time}\")"
   ]
  },
  {
   "cell_type": "code",
   "execution_count": 35,
   "id": "64b33f38",
   "metadata": {
    "scrolled": true
   },
   "outputs": [
    {
     "name": "stdout",
     "output_type": "stream",
     "text": [
      "tensor(0.4285, device='cuda:0') tensor(0.8421, device='cuda:0')\n"
     ]
    }
   ],
   "source": [
    "## making preds\n",
    "\n",
    "with torch.inference_mode():\n",
    "    loss, accr = 0,0\n",
    "    for X, y in test_loader:\n",
    "        X , y = X.to(device), y.to(device)\n",
    "        y_preds = model3(X)\n",
    "        loss += loss_fn(y_preds, y)\n",
    "        accr += acc(y_preds.argmax(dim=1), y)\n",
    "    print(loss/len(test_loader), accr/len(test_loader))"
   ]
  },
  {
   "cell_type": "code",
   "execution_count": null,
   "id": "7d2e6839",
   "metadata": {},
   "outputs": [],
   "source": []
  },
  {
   "cell_type": "code",
   "execution_count": 36,
   "id": "cab9d5f7",
   "metadata": {},
   "outputs": [
    {
     "name": "stdout",
     "output_type": "stream",
     "text": [
      "Actual: Coat\n",
      "Pridct: Coat\n"
     ]
    },
    {
     "data": {
      "image/png": "[encoded data removed]",
      "text/plain": [
       "<Figure size 640x480 with 1 Axes>"
      ]
     },
     "metadata": {},
     "output_type": "display_data"
    }
   ],
   "source": [
    "to_show = random.randint(0,10000)\n",
    "plt.imshow(test_data.data[to_show])\n",
    "\n",
    "print(f\"Actual: {obj_class[test_data[to_show][1]]}\")\n",
    "print(f\"Pridct: {obj_class[model3(test_data[to_show][0].unsqueeze(0).to(device)).argmax(dim=1)]}\")"
   ]
  },
  {
   "cell_type": "code",
   "execution_count": 37,
   "id": "f88fc935",
   "metadata": {},
   "outputs": [
    {
     "name": "stdout",
     "output_type": "stream",
     "text": [
      "[2. 0. 7. ... 4. 9. 8.]\n",
      "[4. 0. 7. ... 4. 9. 8.]\n"
     ]
    }
   ],
   "source": [
    "## confussion metrics\n",
    "\n",
    "import numpy as np\n",
    "\n",
    "with torch.inference_mode():\n",
    "    y_pred_arr = np.array([])\n",
    "    y_orignal = np.array([])\n",
    "    for X, y in test_loader:\n",
    "        X , y = X.to(device), y.to(device)\n",
    "        y_preds = model3(X)\n",
    "\n",
    "        \n",
    "#         print(y_preds.argmax(dim=1).cpu().detach().numpy())\n",
    "#         print(y.cpu().detach().numpy())\n",
    "        \n",
    "        y_pred_arr = np.append(y_pred_arr,np.array(y_preds.argmax(dim=1).cpu().detach().numpy()))\n",
    "        y_orignal = np.append(y_orignal, y.cpu().detach().numpy())\n",
    "        \n",
    "    print(y_pred_arr)\n",
    "    print(y_orignal)    "
   ]
  },
  {
   "cell_type": "code",
   "execution_count": 40,
   "id": "98b16251",
   "metadata": {},
   "outputs": [],
   "source": [
    "from sklearn.metrics import confusion_matrix"
   ]
  },
  {
   "cell_type": "code",
   "execution_count": 41,
   "id": "32f7dfc3",
   "metadata": {},
   "outputs": [],
   "source": [
    "conf_matrics = np.array(confusion_matrix(y_pred_arr, y_orignal))"
   ]
  },
  {
   "cell_type": "code",
   "execution_count": 42,
   "id": "4f6feb7b",
   "metadata": {},
   "outputs": [],
   "source": [
    "import seaborn as sns"
   ]
  },
  {
   "cell_type": "code",
   "execution_count": 43,
   "id": "e0954e65",
   "metadata": {},
   "outputs": [
    {
     "data": {
      "text/plain": [
       "<AxesSubplot:>"
      ]
     },
     "execution_count": 43,
     "metadata": {},
     "output_type": "execute_result"
    },
    {
     "data": {
      "image/png": "[encoded data removed]",
      "text/plain": [
       "<Figure size 640x480 with 2 Axes>"
      ]
     },
     "metadata": {},
     "output_type": "display_data"
    }
   ],
   "source": [
    "sns.heatmap(conf_matrics, annot=True)"
   ]
  },
  {
   "cell_type": "code",
   "execution_count": 44,
   "id": "803c94fb",
   "metadata": {},
   "outputs": [
    {
     "name": "stdout",
     "output_type": "stream",
     "text": [
      "Defaulting to user installation because normal site-packages is not writeable\n",
      "Requirement already satisfied: mlxtend in /home/infinity/.local/lib/python3.10/site-packages (0.23.0)\n",
      "Requirement already satisfied: scipy>=1.2.1 in /home/infinity/.local/lib/python3.10/site-packages (from mlxtend) (1.10.1)\n",
      "Requirement already satisfied: scikit-learn>=1.0.2 in /home/infinity/.local/lib/python3.10/site-packages (from mlxtend) (1.3.0)\n",
      "Requirement already satisfied: numpy>=1.16.2 in /home/infinity/.local/lib/python3.10/site-packages (from mlxtend) (1.24.4)\n",
      "Requirement already satisfied: joblib>=0.13.2 in /home/infinity/.local/lib/python3.10/site-packages (from mlxtend) (1.3.2)\n",
      "Requirement already satisfied: pandas>=0.24.2 in /home/infinity/.local/lib/python3.10/site-packages (from mlxtend) (2.0.3)\n",
      "Requirement already satisfied: matplotlib>=3.0.0 in /usr/lib/python3/dist-packages (from mlxtend) (3.5.1)\n",
      "Requirement already satisfied: tzdata>=2022.1 in /home/infinity/.local/lib/python3.10/site-packages (from pandas>=0.24.2->mlxtend) (2023.3)\n",
      "Requirement already satisfied: pytz>=2020.1 in /home/infinity/.local/lib/python3.10/site-packages (from pandas>=0.24.2->mlxtend) (2023.3)\n",
      "Requirement already satisfied: python-dateutil>=2.8.2 in /home/infinity/.local/lib/python3.10/site-packages (from pandas>=0.24.2->mlxtend) (2.8.2)\n",
      "Requirement already satisfied: threadpoolctl>=2.0.0 in /home/infinity/.local/lib/python3.10/site-packages (from scikit-learn>=1.0.2->mlxtend) (3.2.0)\n",
      "Requirement already satisfied: six>=1.5 in /usr/lib/python3/dist-packages (from python-dateutil>=2.8.2->pandas>=0.24.2->mlxtend) (1.16.0)\n"
     ]
    }
   ],
   "source": [
    "!pip install mlxtend"
   ]
  },
  {
   "cell_type": "code",
   "execution_count": 45,
   "id": "d5437501",
   "metadata": {},
   "outputs": [],
   "source": [
    "from mlxtend.plotting import plot_confusion_matrix"
   ]
  },
  {
   "cell_type": "code",
   "execution_count": 46,
   "id": "47bf6555",
   "metadata": {},
   "outputs": [
    {
     "data": {
      "text/plain": [
       "(<Figure size 1000x700 with 1 Axes>,\n",
       " <AxesSubplot:xlabel='predicted label', ylabel='true label'>)"
      ]
     },
     "execution_count": 46,
     "metadata": {},
     "output_type": "execute_result"
    },
    {
     "data": {
      "image/png": "[encoded data removed]",
      "text/plain": [
       "<Figure size 1000x700 with 1 Axes>"
      ]
     },
     "metadata": {},
     "output_type": "display_data"
    }
   ],
   "source": [
    "plot_confusion_matrix(conf_matrics, class_names=obj_class, figsize=(10,7))"
   ]
  },
  {
   "cell_type": "code",
   "execution_count": 47,
   "id": "ec030053",
   "metadata": {},
   "outputs": [],
   "source": [
    "## saving model\n",
    "\n",
    "torch.save(model3.state_dict(), \"3_cnn_model.pth\")"
   ]
  },
  {
   "cell_type": "code",
   "execution_count": 48,
   "id": "075caaba",
   "metadata": {},
   "outputs": [
    {
     "data": {
      "text/plain": [
       "cnn_fashion2(\n",
       "  (cnn_block_1): Sequential(\n",
       "    (0): Conv2d(1, 10, kernel_size=(3, 3), stride=(1, 1), padding=(1, 1))\n",
       "    (1): ReLU()\n",
       "    (2): Conv2d(10, 10, kernel_size=(3, 3), stride=(1, 1), padding=(1, 1))\n",
       "    (3): ReLU()\n",
       "    (4): MaxPool2d(kernel_size=2, stride=2, padding=0, dilation=1, ceil_mode=False)\n",
       "  )\n",
       "  (cnn_block_2): Sequential(\n",
       "    (0): Conv2d(10, 10, kernel_size=(3, 3), stride=(1, 1), padding=(1, 1))\n",
       "    (1): ReLU()\n",
       "    (2): Conv2d(10, 10, kernel_size=(3, 3), stride=(1, 1), padding=(1, 1))\n",
       "    (3): ReLU()\n",
       "    (4): MaxPool2d(kernel_size=2, stride=2, padding=0, dilation=1, ceil_mode=False)\n",
       "  )\n",
       "  (class_layer): Sequential(\n",
       "    (0): Flatten(start_dim=1, end_dim=-1)\n",
       "    (1): Linear(in_features=490, out_features=10, bias=True)\n",
       "  )\n",
       ")"
      ]
     },
     "execution_count": 48,
     "metadata": {},
     "output_type": "execute_result"
    }
   ],
   "source": [
    "## loading a mofel\n",
    "\n",
    "model_loaded_3 = cnn_fashion2(inp_shape=1, hidden_shape=10, out_shape=len(obj_class))\n",
    "\n",
    "model_loaded_3.load_state_dict(torch.load(\"3_cnn_model.pth\"))\n",
    "model_loaded_3.to(device)"
   ]
  },
  {
   "cell_type": "code",
   "execution_count": null,
   "id": "8009ef1a",
   "metadata": {},
   "outputs": [],
   "source": []
  },
  {
   "cell_type": "code",
   "execution_count": null,
   "id": "f05efde3",
   "metadata": {},
   "outputs": [],
   "source": []
  },
  {
   "cell_type": "code",
   "execution_count": 49,
   "id": "d76a4a31",
   "metadata": {},
   "outputs": [
    {
     "name": "stdout",
     "output_type": "stream",
     "text": [
      "Orignal Model tensor(0.4284, device='cuda:0') tensor(0.8422, device='cuda:0')\n"
     ]
    }
   ],
   "source": [
    "##  making preds with orignal model\n",
    "\n",
    "\n",
    "with torch.inference_mode():\n",
    "    loss, accr = 0,0\n",
    "    for X, y in test_loader:\n",
    "        X , y = X.to(device), y.to(device)\n",
    "        y_preds = model3(X)\n",
    "        loss += loss_fn(y_preds, y)\n",
    "        accr += acc(y_preds.argmax(dim=1), y)\n",
    "    print(\"Orignal Model\",loss/len(test_loader), accr/len(test_loader))"
   ]
  },
  {
   "cell_type": "code",
   "execution_count": 50,
   "id": "b4ab6c17",
   "metadata": {},
   "outputs": [
    {
     "name": "stdout",
     "output_type": "stream",
     "text": [
      "Loaded Model tensor(0.4277, device='cuda:0') tensor(0.8425, device='cuda:0')\n"
     ]
    }
   ],
   "source": [
    "## making infrwcece with loaded model\n",
    "\n",
    "with torch.inference_mode():\n",
    "    loss, accr = 0,0\n",
    "    for X, y in test_loader:\n",
    "        X , y = X.to(device), y.to(device)\n",
    "        y_preds = model_loaded_3(X)\n",
    "        loss += loss_fn(y_preds, y)\n",
    "        accr += acc(y_preds.argmax(dim=1), y)\n",
    "    print(\"Loaded Model\",loss/len(test_loader), accr/len(test_loader))"
   ]
  },
  {
   "cell_type": "code",
   "execution_count": null,
   "id": "58912e8c",
   "metadata": {},
   "outputs": [],
   "source": []
  },
  {
   "cell_type": "code",
   "execution_count": null,
   "id": "2f0cbc42",
   "metadata": {},
   "outputs": [],
   "source": []
  }
 ],
 "metadata": {
  "accelerator": "GPU",
  "colab": {
   "gpuType": "T4",
   "provenance": []
  },
  "kernelspec": {
   "display_name": "Python 3 (ipykernel)",
   "language": "python",
   "name": "python3"
  },
  "language_info": {
   "codemirror_mode": {
    "name": "ipython",
    "version": 3
   },
   "file_extension": ".py",
   "mimetype": "text/x-python",
   "name": "python",
   "nbconvert_exporter": "python",
   "pygments_lexer": "ipython3",
   "version": "3.10.12"
  },
  "widgets": {
   "application/vnd.jupyter.widget-state+json": {
    "4f93403b13414086ad44a14b196e7b30": {
     "model_module": "@jupyter-widgets/base",
     "model_module_version": "1.2.0",
     "model_name": "LayoutModel",
     "state": {
      "_model_module": "@jupyter-widgets/base",
      "_model_module_version": "1.2.0",
      "_model_name": "LayoutModel",
      "_view_count": null,
      "_view_module": "@jupyter-widgets/base",
      "_view_module_version": "1.2.0",
      "_view_name": "LayoutView",
      "align_content": null,
      "align_items": null,
      "align_self": null,
      "border": null,
      "bottom": null,
      "display": null,
      "flex": null,
      "flex_flow": null,
      "grid_area": null,
      "grid_auto_columns": null,
      "grid_auto_flow": null,
      "grid_auto_rows": null,
      "grid_column": null,
      "grid_gap": null,
      "grid_row": null,
      "grid_template_areas": null,
      "grid_template_columns": null,
      "grid_template_rows": null,
      "height": null,
      "justify_content": null,
      "justify_items": null,
      "left": null,
      "margin": null,
      "max_height": null,
      "max_width": null,
      "min_height": null,
      "min_width": null,
      "object_fit": null,
      "object_position": null,
      "order": null,
      "overflow": null,
      "overflow_x": null,
      "overflow_y": null,
      "padding": null,
      "right": null,
      "top": null,
      "visibility": null,
      "width": null
     }
    },
    "4fe79c4ca5b246209c2a225907ac5886": {
     "model_module": "@jupyter-widgets/controls",
     "model_module_version": "1.5.0",
     "model_name": "HTMLModel",
     "state": {
      "_dom_classes": [],
      "_model_module": "@jupyter-widgets/controls",
      "_model_module_version": "1.5.0",
      "_model_name": "HTMLModel",
      "_view_count": null,
      "_view_module": "@jupyter-widgets/controls",
      "_view_module_version": "1.5.0",
      "_view_name": "HTMLView",
      "description": "",
      "description_tooltip": null,
      "layout": "IPY_MODEL_5e2e713ae8844fd5833dd62fd376441f",
      "placeholder": "​",
      "style": "IPY_MODEL_d8b3874f9c5449269a06bd074c012441",
      "value": "100%"
     }
    },
    "5e2e713ae8844fd5833dd62fd376441f": {
     "model_module": "@jupyter-widgets/base",
     "model_module_version": "1.2.0",
     "model_name": "LayoutModel",
     "state": {
      "_model_module": "@jupyter-widgets/base",
      "_model_module_version": "1.2.0",
      "_model_name": "LayoutModel",
      "_view_count": null,
      "_view_module": "@jupyter-widgets/base",
      "_view_module_version": "1.2.0",
      "_view_name": "LayoutView",
      "align_content": null,
      "align_items": null,
      "align_self": null,
      "border": null,
      "bottom": null,
      "display": null,
      "flex": null,
      "flex_flow": null,
      "grid_area": null,
      "grid_auto_columns": null,
      "grid_auto_flow": null,
      "grid_auto_rows": null,
      "grid_column": null,
      "grid_gap": null,
      "grid_row": null,
      "grid_template_areas": null,
      "grid_template_columns": null,
      "grid_template_rows": null,
      "height": null,
      "justify_content": null,
      "justify_items": null,
      "left": null,
      "margin": null,
      "max_height": null,
      "max_width": null,
      "min_height": null,
      "min_width": null,
      "object_fit": null,
      "object_position": null,
      "order": null,
      "overflow": null,
      "overflow_x": null,
      "overflow_y": null,
      "padding": null,
      "right": null,
      "top": null,
      "visibility": null,
      "width": null
     }
    },
    "65abbec95c734cb483b8514da3f38e82": {
     "model_module": "@jupyter-widgets/base",
     "model_module_version": "1.2.0",
     "model_name": "LayoutModel",
     "state": {
      "_model_module": "@jupyter-widgets/base",
      "_model_module_version": "1.2.0",
      "_model_name": "LayoutModel",
      "_view_count": null,
      "_view_module": "@jupyter-widgets/base",
      "_view_module_version": "1.2.0",
      "_view_name": "LayoutView",
      "align_content": null,
      "align_items": null,
      "align_self": null,
      "border": null,
      "bottom": null,
      "display": null,
      "flex": null,
      "flex_flow": null,
      "grid_area": null,
      "grid_auto_columns": null,
      "grid_auto_flow": null,
      "grid_auto_rows": null,
      "grid_column": null,
      "grid_gap": null,
      "grid_row": null,
      "grid_template_areas": null,
      "grid_template_columns": null,
      "grid_template_rows": null,
      "height": null,
      "justify_content": null,
      "justify_items": null,
      "left": null,
      "margin": null,
      "max_height": null,
      "max_width": null,
      "min_height": null,
      "min_width": null,
      "object_fit": null,
      "object_position": null,
      "order": null,
      "overflow": null,
      "overflow_x": null,
      "overflow_y": null,
      "padding": null,
      "right": null,
      "top": null,
      "visibility": null,
      "width": null
     }
    },
    "738d5a361ec9471f9523f9cbaaae6752": {
     "model_module": "@jupyter-widgets/controls",
     "model_module_version": "1.5.0",
     "model_name": "DescriptionStyleModel",
     "state": {
      "_model_module": "@jupyter-widgets/controls",
      "_model_module_version": "1.5.0",
      "_model_name": "DescriptionStyleModel",
      "_view_count": null,
      "_view_module": "@jupyter-widgets/base",
      "_view_module_version": "1.2.0",
      "_view_name": "StyleView",
      "description_width": ""
     }
    },
    "95410fd2190f411492752ff58efbea16": {
     "model_module": "@jupyter-widgets/controls",
     "model_module_version": "1.5.0",
     "model_name": "HBoxModel",
     "state": {
      "_dom_classes": [],
      "_model_module": "@jupyter-widgets/controls",
      "_model_module_version": "1.5.0",
      "_model_name": "HBoxModel",
      "_view_count": null,
      "_view_module": "@jupyter-widgets/controls",
      "_view_module_version": "1.5.0",
      "_view_name": "HBoxView",
      "box_style": "",
      "children": [
       "IPY_MODEL_4fe79c4ca5b246209c2a225907ac5886",
       "IPY_MODEL_bc88d8e34962403bb7e66f6414266d60",
       "IPY_MODEL_aaf717da418041c78fc4f7621a15b065"
      ],
      "layout": "IPY_MODEL_4f93403b13414086ad44a14b196e7b30"
     }
    },
    "9e122bbcb5b448d48bab7abf13d950e5": {
     "model_module": "@jupyter-widgets/base",
     "model_module_version": "1.2.0",
     "model_name": "LayoutModel",
     "state": {
      "_model_module": "@jupyter-widgets/base",
      "_model_module_version": "1.2.0",
      "_model_name": "LayoutModel",
      "_view_count": null,
      "_view_module": "@jupyter-widgets/base",
      "_view_module_version": "1.2.0",
      "_view_name": "LayoutView",
      "align_content": null,
      "align_items": null,
      "align_self": null,
      "border": null,
      "bottom": null,
      "display": null,
      "flex": null,
      "flex_flow": null,
      "grid_area": null,
      "grid_auto_columns": null,
      "grid_auto_flow": null,
      "grid_auto_rows": null,
      "grid_column": null,
      "grid_gap": null,
      "grid_row": null,
      "grid_template_areas": null,
      "grid_template_columns": null,
      "grid_template_rows": null,
      "height": null,
      "justify_content": null,
      "justify_items": null,
      "left": null,
      "margin": null,
      "max_height": null,
      "max_width": null,
      "min_height": null,
      "min_width": null,
      "object_fit": null,
      "object_position": null,
      "order": null,
      "overflow": null,
      "overflow_x": null,
      "overflow_y": null,
      "padding": null,
      "right": null,
      "top": null,
      "visibility": null,
      "width": null
     }
    },
    "aaf717da418041c78fc4f7621a15b065": {
     "model_module": "@jupyter-widgets/controls",
     "model_module_version": "1.5.0",
     "model_name": "HTMLModel",
     "state": {
      "_dom_classes": [],
      "_model_module": "@jupyter-widgets/controls",
      "_model_module_version": "1.5.0",
      "_model_name": "HTMLModel",
      "_view_count": null,
      "_view_module": "@jupyter-widgets/controls",
      "_view_module_version": "1.5.0",
      "_view_name": "HTMLView",
      "description": "",
      "description_tooltip": null,
      "layout": "IPY_MODEL_65abbec95c734cb483b8514da3f38e82",
      "placeholder": "​",
      "style": "IPY_MODEL_738d5a361ec9471f9523f9cbaaae6752",
      "value": " 3/3 [00:41&lt;00:00, 13.89s/it]"
     }
    },
    "bc88d8e34962403bb7e66f6414266d60": {
     "model_module": "@jupyter-widgets/controls",
     "model_module_version": "1.5.0",
     "model_name": "FloatProgressModel",
     "state": {
      "_dom_classes": [],
      "_model_module": "@jupyter-widgets/controls",
      "_model_module_version": "1.5.0",
      "_model_name": "FloatProgressModel",
      "_view_count": null,
      "_view_module": "@jupyter-widgets/controls",
      "_view_module_version": "1.5.0",
      "_view_name": "ProgressView",
      "bar_style": "success",
      "description": "",
      "description_tooltip": null,
      "layout": "IPY_MODEL_9e122bbcb5b448d48bab7abf13d950e5",
      "max": 3,
      "min": 0,
      "orientation": "horizontal",
      "style": "IPY_MODEL_eb1572e030d5448895a643f9ec1ee3b6",
      "value": 3
     }
    },
    "d8b3874f9c5449269a06bd074c012441": {
     "model_module": "@jupyter-widgets/controls",
     "model_module_version": "1.5.0",
     "model_name": "DescriptionStyleModel",
     "state": {
      "_model_module": "@jupyter-widgets/controls",
      "_model_module_version": "1.5.0",
      "_model_name": "DescriptionStyleModel",
      "_view_count": null,
      "_view_module": "@jupyter-widgets/base",
      "_view_module_version": "1.2.0",
      "_view_name": "StyleView",
      "description_width": ""
     }
    },
    "eb1572e030d5448895a643f9ec1ee3b6": {
     "model_module": "@jupyter-widgets/controls",
     "model_module_version": "1.5.0",
     "model_name": "ProgressStyleModel",
     "state": {
      "_model_module": "@jupyter-widgets/controls",
      "_model_module_version": "1.5.0",
      "_model_name": "ProgressStyleModel",
      "_view_count": null,
      "_view_module": "@jupyter-widgets/base",
      "_view_module_version": "1.2.0",
      "_view_name": "StyleView",
      "bar_color": null,
      "description_width": ""
     }
    }
   }
  }
 },
 "nbformat": 4,
 "nbformat_minor": 5
}
