{
 "cells": [
  {
   "cell_type": "code",
   "execution_count": 1,
   "metadata": {},
   "outputs": [
    {
     "name": "stderr",
     "output_type": "stream",
     "text": [
      "/home/infinity/Desktop/Learn Pytorch/venv/lib/python3.10/site-packages/tqdm/auto.py:21: TqdmWarning: IProgress not found. Please update jupyter and ipywidgets. See https://ipywidgets.readthedocs.io/en/stable/user_install.html\n",
      "  from .autonotebook import tqdm as notebook_tqdm\n"
     ]
    }
   ],
   "source": [
    "from pathlib import Path\n",
    "import torch\n",
    "from torch import nn\n",
    "from config import get_config, get_weights_file_path\n",
    "from train import get_model, get_ds, run_validation"
   ]
  },
  {
   "cell_type": "code",
   "execution_count": 2,
   "metadata": {},
   "outputs": [
    {
     "name": "stdout",
     "output_type": "stream",
     "text": [
      "Using Device: cuda\n",
      "Max len of source sentence:  291\n",
      "Max len of Target sentence:  349\n"
     ]
    },
    {
     "name": "stderr",
     "output_type": "stream",
     "text": [
      "/tmp/ipykernel_48023/3621789744.py:9: FutureWarning: You are using `torch.load` with `weights_only=False` (the current default value), which uses the default pickle module implicitly. It is possible to construct malicious pickle data which will execute arbitrary code during unpickling (See https://github.com/pytorch/pytorch/blob/main/SECURITY.md#untrusted-models for more details). In a future release, the default value for `weights_only` will be flipped to `True`. This limits the functions that could be executed during unpickling. Arbitrary objects will no longer be allowed to be loaded via this mode unless they are explicitly allowlisted by the user via `torch.serialization.add_safe_globals`. We recommend you start setting `weights_only=True` for any use case where you don't have full control of the loaded file. Please open an issue on GitHub for any issues related to this experimental feature.\n",
      "  state = torch.load(model_filename)\n"
     ]
    },
    {
     "data": {
      "text/plain": [
       "<All keys matched successfully>"
      ]
     },
     "execution_count": 2,
     "metadata": {},
     "output_type": "execute_result"
    }
   ],
   "source": [
    "device = torch.device(\"cuda\" if torch.cuda.is_available() else \"cpu\")\n",
    "print(\"Using Device: {}\".format(device))\n",
    "config = get_config()\n",
    "train_loader, val_loader, tokenize_src, tokenize_tgt = get_ds(config)\n",
    "model = get_model(config, tokenize_src.get_vocab_size(), tokenize_tgt.get_vocab_size()).to(device)\n",
    "\n",
    "#laoding weights\n",
    "model_filename = get_weights_file_path(config, \"03\")\n",
    "state = torch.load(model_filename)\n",
    "model.load_state_dict(state[\"model_state_dict\"])"
   ]
  },
  {
   "cell_type": "code",
   "execution_count": 5,
   "metadata": {},
   "outputs": [
    {
     "name": "stdout",
     "output_type": "stream",
     "text": [
      "--------------------------------------------------------------------------------\n",
      "    SOURCE: And they have taken gods beside Allah that they might be unto them a glory. *Chapter: 19\n",
      "    TARGET: और उन लोगों ने खुदा को छोड़कर दूसरे-दूसरे माबूद बना रखे हैं ताकि वह उनकी इज्ज़त के बाएस हों हरग़िज़ नहीं\n",
      " PREDICTED: और ये लोग ख़ुदा की राह में बाहम झगड़ने लगे कि ये लोग ( ख़ुदा की ) राह से रोकते हैं\n",
      "--------------------------------------------------------------------------------\n",
      "    SOURCE: An unknown host error indicates that the server with the requested name, %1, could not be located on the Internet.\n",
      "    TARGET: एक अज्ञात होस्ट त्रुटि दर्शाता है कि निवेदित नाम का सर्वर,% 1, इंटरनेट पर पता नहीं लगाया जा सका.\n",
      " PREDICTED: अज्ञात सर्वर अनुक्रिया के दौरान त्रुटि हुई .\n",
      "--------------------------------------------------------------------------------\n",
      "    SOURCE: They are deaf; they are dumb; they are blind so they will not return (to the right way).\n",
      "    TARGET: कि अब उन्हें कुछ सुझाई नहीं देता ये लोग बहरे गूँगे अन्धे हैं कि फिर अपनी गुमराही से बाज़ नहीं आ सकते\n",
      " PREDICTED: और ये लोग ( क़यामत में ) हमेशा ( ) हैं और ये लोग ( कुछ ) नहीं जानते\n",
      "--------------------------------------------------------------------------------\n",
      "    SOURCE: They will not believe in it until they clearly see the grievous chastisement.\n",
      "    TARGET: ये लोग जब तक दर्दनाक अज़ाब को न देख लेगें उस पर ईमान न लाएँगे\n",
      " PREDICTED: और ये लोग आख़ेरत पर अज़ाब नहीं की बल्कि ये लोग ( आख़ेरत में ) दर्दनाक अज़ाब की तरफ से आ पहुँचे\n",
      "--------------------------------------------------------------------------------\n",
      "    SOURCE: I just need to take a nap, is all.\n",
      "    TARGET: मैं सिर्फ एक झपकी लेने की जरूरत है, सब है.\n",
      " PREDICTED: मैं सिर्फ एक छोटे से अधिक अधिक है , एक टुकड़ा .\n",
      "--------------------------------------------------------------------------------\n",
      "    SOURCE: but he said, \"How can you worship things you carve with your own hands,\n",
      "    TARGET: उसने कहा, \"क्या तुम उनको पूजते हो, जिन्हें स्वयं तराशते हो,\n",
      " PREDICTED: किन्तु उन्होंने कहा , \" ऐ इबलीस ! तुझे अपने आपको अपने आपको अपने आपको अपने आपको अपने आपको अपने आपको अपने आपको अपने आपको अपने आपको अपने आपको अपने आपको अपने आपको अपने आपको अपने आपको अपने आपको अपने आपको दबा हुआ ।\"\n",
      "--------------------------------------------------------------------------------\n",
      "    SOURCE: All right, kids.\n",
      "    TARGET: ठीक है, बच्चों के लिए.\n",
      " PREDICTED: ठीक है , अपने बच्चे .\n",
      "--------------------------------------------------------------------------------\n",
      "    SOURCE: America/Inuvik\n",
      "    TARGET: अमेरिका/इनुविक\n",
      " PREDICTED: अमेरिका / निकोसिया\n",
      "--------------------------------------------------------------------------------\n",
      "    SOURCE: Fr\n",
      "    TARGET: शुक्र\n",
      " PREDICTED: शुक्र\n",
      "--------------------------------------------------------------------------------\n",
      "    SOURCE: Combining Half Marks\n",
      "    TARGET: आधा चिन्हों को संयुक्त करनाKCharselect unicode block name\n",
      " PREDICTED: \n"
     ]
    }
   ],
   "source": [
    "run_validation(model, val_loader, tokenize_src, tokenize_tgt, config[\"seq_len\"], device, lambda msg: print(msg), 0, None, num_examples=10)"
   ]
  },
  {
   "cell_type": "code",
   "execution_count": null,
   "metadata": {},
   "outputs": [],
   "source": []
  }
 ],
 "metadata": {
  "kernelspec": {
   "display_name": "venv",
   "language": "python",
   "name": "python3"
  },
  "language_info": {
   "codemirror_mode": {
    "name": "ipython",
    "version": 3
   },
   "file_extension": ".py",
   "mimetype": "text/x-python",
   "name": "python",
   "nbconvert_exporter": "python",
   "pygments_lexer": "ipython3",
   "version": "3.10.12"
  }
 },
 "nbformat": 4,
 "nbformat_minor": 2
}
