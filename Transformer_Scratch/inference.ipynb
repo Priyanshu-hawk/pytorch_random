{
 "cells": [
  {
   "cell_type": "code",
   "execution_count": null,
   "metadata": {},
   "outputs": [],
   "source": [
    "from pathlib import Path\n",
    "import torch\n",
    "from torch import nn\n",
    "from config import get_config, get_weights_file_path\n",
    "from train import get_model, get_ds, run_validation"
   ]
  },
  {
   "cell_type": "code",
   "execution_count": null,
   "metadata": {},
   "outputs": [],
   "source": [
    "device = torch.device(\"cuda\" if torch.cuda.is_available() else \"cpu\")\n",
    "print(\"Using Device: {}\".format(device))\n",
    "config = get_config()\n",
    "train_loader, val_loader, tokenize_src, tokenize_tgt = get_ds(config)\n",
    "model = get_model(config, tokenize_src.get_vocab_size(), tokenize_tgt.get_vocab_size()).to(device)\n",
    "\n",
    "#laoding weights\n",
    "model_filename = get_weights_file_path(config, \"29\")\n",
    "state = torch.load(model_filename)\n",
    "model.load_state_dict(state[\"model_state_dict\"])"
   ]
  },
  {
   "cell_type": "code",
   "execution_count": null,
   "metadata": {},
   "outputs": [],
   "source": [
    "run_validation(model, val_loader, tokenize_src, tokenize_tgt, config[\"seq_len\"], device, lambda msg: print(msg), 0, None, num_examples=10)"
   ]
  }
 ],
 "metadata": {
  "kernelspec": {
   "display_name": "venv",
   "language": "python",
   "name": "python3"
  },
  "language_info": {
   "name": "python",
   "version": "3.10.12"
  }
 },
 "nbformat": 4,
 "nbformat_minor": 2
}
