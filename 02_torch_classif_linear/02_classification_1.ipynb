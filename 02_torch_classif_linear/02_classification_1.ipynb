{
 "cells": [
  {
   "cell_type": "code",
   "execution_count": null,
   "id": "3bf2c090",
   "metadata": {},
   "outputs": [],
   "source": [
    "# classification"
   ]
  },
  {
   "cell_type": "code",
   "execution_count": 1,
   "id": "425aee4a",
   "metadata": {},
   "outputs": [],
   "source": [
    "## data\n",
    "\n",
    "from sklearn.datasets import make_circles\n",
    "\n",
    "n_samples = 20000\n",
    "\n",
    "X, y = make_circles(n_samples,noise=0.03)"
   ]
  },
  {
   "cell_type": "code",
   "execution_count": 2,
   "id": "9a18f794",
   "metadata": {},
   "outputs": [
    {
     "data": {
      "text/plain": [
       "array([[ 0.8139228 ,  0.13974787],\n",
       "       [ 0.89665121, -0.45099051],\n",
       "       [ 0.05558764, -0.80632151],\n",
       "       [-0.14364588, -0.81196768],\n",
       "       [-0.40526946,  0.87338028]])"
      ]
     },
     "execution_count": 2,
     "metadata": {},
     "output_type": "execute_result"
    }
   ],
   "source": [
    "X[:5]"
   ]
  },
  {
   "cell_type": "code",
   "execution_count": 3,
   "id": "6d867466",
   "metadata": {},
   "outputs": [
    {
     "data": {
      "text/plain": [
       "((20000, 2), (20000,))"
      ]
     },
     "execution_count": 3,
     "metadata": {},
     "output_type": "execute_result"
    }
   ],
   "source": [
    "X.shape,y.shape"
   ]
  },
  {
   "cell_type": "code",
   "execution_count": 4,
   "id": "bad8638f",
   "metadata": {},
   "outputs": [],
   "source": [
    "#EDA\n",
    "\n",
    "import pandas as pd\n",
    "\n",
    "circles = pd.DataFrame({\"X1\":X[:,0], \"X2\":X[:,1], \"y\":y})"
   ]
  },
  {
   "cell_type": "code",
   "execution_count": 5,
   "id": "d15e37f1",
   "metadata": {},
   "outputs": [
    {
     "data": {
      "text/html": [
       "<div>\n",
       "<style scoped>\n",
       "    .dataframe tbody tr th:only-of-type {\n",
       "        vertical-align: middle;\n",
       "    }\n",
       "\n",
       "    .dataframe tbody tr th {\n",
       "        vertical-align: top;\n",
       "    }\n",
       "\n",
       "    .dataframe thead th {\n",
       "        text-align: right;\n",
       "    }\n",
       "</style>\n",
       "<table border=\"1\" class=\"dataframe\">\n",
       "  <thead>\n",
       "    <tr style=\"text-align: right;\">\n",
       "      <th></th>\n",
       "      <th>X1</th>\n",
       "      <th>X2</th>\n",
       "      <th>y</th>\n",
       "    </tr>\n",
       "  </thead>\n",
       "  <tbody>\n",
       "    <tr>\n",
       "      <th>0</th>\n",
       "      <td>0.813923</td>\n",
       "      <td>0.139748</td>\n",
       "      <td>1</td>\n",
       "    </tr>\n",
       "    <tr>\n",
       "      <th>1</th>\n",
       "      <td>0.896651</td>\n",
       "      <td>-0.450991</td>\n",
       "      <td>0</td>\n",
       "    </tr>\n",
       "    <tr>\n",
       "      <th>2</th>\n",
       "      <td>0.055588</td>\n",
       "      <td>-0.806322</td>\n",
       "      <td>1</td>\n",
       "    </tr>\n",
       "    <tr>\n",
       "      <th>3</th>\n",
       "      <td>-0.143646</td>\n",
       "      <td>-0.811968</td>\n",
       "      <td>1</td>\n",
       "    </tr>\n",
       "    <tr>\n",
       "      <th>4</th>\n",
       "      <td>-0.405269</td>\n",
       "      <td>0.873380</td>\n",
       "      <td>0</td>\n",
       "    </tr>\n",
       "    <tr>\n",
       "      <th>...</th>\n",
       "      <td>...</td>\n",
       "      <td>...</td>\n",
       "      <td>...</td>\n",
       "    </tr>\n",
       "    <tr>\n",
       "      <th>19995</th>\n",
       "      <td>-0.943769</td>\n",
       "      <td>0.149634</td>\n",
       "      <td>0</td>\n",
       "    </tr>\n",
       "    <tr>\n",
       "      <th>19996</th>\n",
       "      <td>1.001085</td>\n",
       "      <td>-0.126551</td>\n",
       "      <td>0</td>\n",
       "    </tr>\n",
       "    <tr>\n",
       "      <th>19997</th>\n",
       "      <td>-0.742185</td>\n",
       "      <td>-0.535345</td>\n",
       "      <td>0</td>\n",
       "    </tr>\n",
       "    <tr>\n",
       "      <th>19998</th>\n",
       "      <td>-0.151942</td>\n",
       "      <td>-0.801201</td>\n",
       "      <td>1</td>\n",
       "    </tr>\n",
       "    <tr>\n",
       "      <th>19999</th>\n",
       "      <td>-0.581605</td>\n",
       "      <td>-0.564636</td>\n",
       "      <td>1</td>\n",
       "    </tr>\n",
       "  </tbody>\n",
       "</table>\n",
       "<p>20000 rows × 3 columns</p>\n",
       "</div>"
      ],
      "text/plain": [
       "             X1        X2  y\n",
       "0      0.813923  0.139748  1\n",
       "1      0.896651 -0.450991  0\n",
       "2      0.055588 -0.806322  1\n",
       "3     -0.143646 -0.811968  1\n",
       "4     -0.405269  0.873380  0\n",
       "...         ...       ... ..\n",
       "19995 -0.943769  0.149634  0\n",
       "19996  1.001085 -0.126551  0\n",
       "19997 -0.742185 -0.535345  0\n",
       "19998 -0.151942 -0.801201  1\n",
       "19999 -0.581605 -0.564636  1\n",
       "\n",
       "[20000 rows x 3 columns]"
      ]
     },
     "execution_count": 5,
     "metadata": {},
     "output_type": "execute_result"
    }
   ],
   "source": [
    "circles"
   ]
  },
  {
   "cell_type": "code",
   "execution_count": 6,
   "id": "987bb38d",
   "metadata": {},
   "outputs": [
    {
     "data": {
      "text/plain": [
       "<matplotlib.collections.PathCollection at 0x7fa6ca9bbdf0>"
      ]
     },
     "execution_count": 6,
     "metadata": {},
     "output_type": "execute_result"
    },
    {
     "data": {
      "image/png": "[encoded data removed]",
      "text/plain": [
       "<Figure size 640x480 with 1 Axes>"
      ]
     },
     "metadata": {},
     "output_type": "display_data"
    }
   ],
   "source": [
    "# vizualization\n",
    "\n",
    "import matplotlib.pyplot as plt\n",
    "\n",
    "plt.scatter(x=X[:, 0], y=X[:, 1], c=y, cmap=plt.cm.RdYlBu)"
   ]
  },
  {
   "cell_type": "code",
   "execution_count": 7,
   "id": "41d78f7d",
   "metadata": {},
   "outputs": [],
   "source": [
    "## Toy dataset: A dataset small enough to experiment but sizeable enough to experiment."
   ]
  },
  {
   "cell_type": "code",
   "execution_count": 8,
   "id": "f493f10d",
   "metadata": {},
   "outputs": [],
   "source": [
    "import torch"
   ]
  },
  {
   "cell_type": "code",
   "execution_count": 9,
   "id": "3dcaa595",
   "metadata": {},
   "outputs": [],
   "source": [
    "X = torch.from_numpy(X).type(torch.float)\n",
    "y = torch.from_numpy(y).type(torch.float)"
   ]
  },
  {
   "cell_type": "code",
   "execution_count": 10,
   "id": "4c00a318",
   "metadata": {},
   "outputs": [
    {
     "data": {
      "text/plain": [
       "tensor([[ 0.8139,  0.1397],\n",
       "        [ 0.8967, -0.4510],\n",
       "        [ 0.0556, -0.8063],\n",
       "        ...,\n",
       "        [-0.7422, -0.5353],\n",
       "        [-0.1519, -0.8012],\n",
       "        [-0.5816, -0.5646]])"
      ]
     },
     "execution_count": 10,
     "metadata": {},
     "output_type": "execute_result"
    }
   ],
   "source": [
    "X"
   ]
  },
  {
   "cell_type": "code",
   "execution_count": 11,
   "id": "4a06f817",
   "metadata": {},
   "outputs": [
    {
     "data": {
      "text/plain": [
       "tensor([1., 0., 1., 1., 0.])"
      ]
     },
     "execution_count": 11,
     "metadata": {},
     "output_type": "execute_result"
    }
   ],
   "source": [
    "y[:5]"
   ]
  },
  {
   "cell_type": "code",
   "execution_count": 12,
   "id": "5ce65bee",
   "metadata": {},
   "outputs": [
    {
     "data": {
      "text/plain": [
       "(torch.Size([15000, 2]),\n",
       " torch.Size([5000, 2]),\n",
       " torch.Size([15000]),\n",
       " torch.Size([5000]))"
      ]
     },
     "execution_count": 12,
     "metadata": {},
     "output_type": "execute_result"
    }
   ],
   "source": [
    "## traninig test split\n",
    "\n",
    "from sklearn.model_selection import train_test_split\n",
    "\n",
    "X_train, X_test, y_train, y_test = train_test_split(X, y, test_size=0.25, random_state=69)\n",
    "X_train.shape, X_test.shape, y_train.shape, y_test.shape"
   ]
  },
  {
   "cell_type": "code",
   "execution_count": 13,
   "id": "c318adc4",
   "metadata": {},
   "outputs": [
    {
     "data": {
      "text/plain": [
       "(0.001, 0.999)"
      ]
     },
     "execution_count": 13,
     "metadata": {},
     "output_type": "execute_result"
    }
   ],
   "source": [
    "## using SVM\n",
    "\n",
    "from sklearn.svm import SVC\n",
    "clf = SVC(gamma=\"auto\")\n",
    "clf.fit(X_train, y_train)\n",
    "from sklearn.metrics import mean_absolute_error, accuracy_score\n",
    "y_pred_svc = clf.predict(X_test)\n",
    "mean_absolute_error(y_pred_svc, y_test), accuracy_score(y_pred_svc, y_test)"
   ]
  },
  {
   "cell_type": "code",
   "execution_count": 14,
   "id": "e34d278a",
   "metadata": {},
   "outputs": [],
   "source": [
    "## using NN with torch"
   ]
  },
  {
   "cell_type": "code",
   "execution_count": 15,
   "id": "a98ff4b8",
   "metadata": {},
   "outputs": [],
   "source": [
    "#1. selecting device\n",
    "#2. building model\n",
    "#3. define loss and optimizer\n",
    "#4. create traning loop"
   ]
  },
  {
   "cell_type": "code",
   "execution_count": 16,
   "id": "a6babae1",
   "metadata": {},
   "outputs": [
    {
     "data": {
      "text/plain": [
       "'cuda'"
      ]
     },
     "execution_count": 16,
     "metadata": {},
     "output_type": "execute_result"
    }
   ],
   "source": [
    "#1. selecting device\n",
    "\n",
    "device = 'cuda' if torch.cuda.is_available() else 'cpu'\n",
    "device"
   ]
  },
  {
   "cell_type": "code",
   "execution_count": 17,
   "id": "09f0ba6f",
   "metadata": {},
   "outputs": [],
   "source": [
    "#2. building model\n",
    "\n",
    "from torch import nn"
   ]
  },
  {
   "cell_type": "code",
   "execution_count": 18,
   "id": "c9324083",
   "metadata": {
    "scrolled": false
   },
   "outputs": [],
   "source": [
    "\n",
    "\n",
    "#method 1\n",
    "\n",
    "# class CirclePred(nn.Module):\n",
    "#     def __init__(self):\n",
    "#         super().__init__()\n",
    "#         self.layer_1 = nn.Linear(in_features=2, out_features=5)\n",
    "        \n",
    "#         self.layer_2 = nn.Linear(in_features=5, out_features=10)\n",
    "#         self.layer_3 = nn.Linear(in_features=10, out_features=5)\n",
    "#         self.layer_4 = nn.Linear(in_features=5, out_features=1)\n",
    "    \n",
    "#     def forward(self, x):\n",
    "#         relu = nn.ReLU() # applying ReLU in intermidate layers\n",
    "#         self.l1 = relu(self.layer_1(x))\n",
    "#         self.l2 = relu(self.layer_2(self.l1))\n",
    "#         self.l3 = relu(self.layer_3(self.l2))\n",
    "\n",
    "#         self.f1 = self.layer_4(self.l3)\n",
    "#         return self.f1\n",
    "    \n",
    "# model0 = CirclePred().to(device)\n",
    "# print(model0)"
   ]
  },
  {
   "cell_type": "code",
   "execution_count": 19,
   "id": "8f1bf73a",
   "metadata": {},
   "outputs": [
    {
     "data": {
      "text/plain": [
       "Sequential(\n",
       "  (0): Linear(in_features=2, out_features=100, bias=True)\n",
       "  (1): ReLU()\n",
       "  (2): Linear(in_features=100, out_features=1, bias=True)\n",
       ")"
      ]
     },
     "execution_count": 19,
     "metadata": {},
     "output_type": "execute_result"
    }
   ],
   "source": [
    "## method 2 - using nn sequential\n",
    "\n",
    "model0 = nn.Sequential(\n",
    "    nn.Linear(in_features=2, out_features=100),\n",
    "    nn.ReLU(),\n",
    "    nn.Linear(in_features=100, out_features=1),\n",
    ")\n",
    "\n",
    "model0.to(device)\n",
    "model0"
   ]
  },
  {
   "cell_type": "code",
   "execution_count": 20,
   "id": "6339b3dd",
   "metadata": {
    "scrolled": true
   },
   "outputs": [
    {
     "data": {
      "text/plain": [
       "device(type='cuda', index=0)"
      ]
     },
     "execution_count": 20,
     "metadata": {},
     "output_type": "execute_result"
    }
   ],
   "source": [
    "next(model0.parameters()).device"
   ]
  },
  {
   "cell_type": "code",
   "execution_count": 21,
   "id": "4f81bef0",
   "metadata": {},
   "outputs": [
    {
     "data": {
      "text/plain": [
       "OrderedDict([('0.weight',\n",
       "              tensor([[ 7.0265e-01, -1.3783e-01],\n",
       "                      [ 5.4201e-01,  4.5503e-01],\n",
       "                      [-5.4677e-01,  4.3467e-01],\n",
       "                      [-2.5122e-01, -1.4660e-01],\n",
       "                      [-3.0927e-01, -3.3383e-01],\n",
       "                      [-3.7560e-01, -1.5551e-01],\n",
       "                      [-3.0211e-01, -3.6064e-01],\n",
       "                      [-3.9544e-01,  4.4985e-01],\n",
       "                      [ 6.6603e-01, -6.5957e-01],\n",
       "                      [-5.1630e-01,  2.0379e-01],\n",
       "                      [-9.0437e-02, -6.0967e-01],\n",
       "                      [ 6.5842e-01,  6.7194e-01],\n",
       "                      [-6.2669e-01, -2.7444e-01],\n",
       "                      [-3.4160e-01, -5.5390e-01],\n",
       "                      [-4.0980e-01, -4.1519e-01],\n",
       "                      [-5.4558e-01, -5.3268e-01],\n",
       "                      [ 4.9344e-01, -1.2457e-01],\n",
       "                      [ 4.7363e-01, -8.2115e-02],\n",
       "                      [ 7.0326e-01,  4.9085e-01],\n",
       "                      [-1.1385e-02,  5.2520e-01],\n",
       "                      [-5.0738e-01, -1.3275e-01],\n",
       "                      [ 9.9417e-02,  2.1944e-01],\n",
       "                      [ 2.7024e-01,  4.8949e-01],\n",
       "                      [-3.6057e-01, -2.2188e-01],\n",
       "                      [ 6.2303e-01,  5.6748e-01],\n",
       "                      [-6.3469e-01,  2.0221e-01],\n",
       "                      [-5.4983e-01,  5.2051e-01],\n",
       "                      [ 6.4290e-01,  2.3841e-01],\n",
       "                      [-2.6806e-01, -6.2727e-01],\n",
       "                      [ 5.7157e-01, -7.0053e-01],\n",
       "                      [ 2.9536e-02,  4.0286e-01],\n",
       "                      [-3.0479e-01, -6.2762e-01],\n",
       "                      [-1.5399e-01, -5.2447e-02],\n",
       "                      [-6.7609e-01,  5.7769e-02],\n",
       "                      [-5.4686e-01, -1.7319e-02],\n",
       "                      [-5.3972e-01,  1.7695e-01],\n",
       "                      [ 5.0947e-01,  5.0451e-01],\n",
       "                      [ 4.8700e-01,  4.8955e-01],\n",
       "                      [-1.9320e-01, -1.7743e-01],\n",
       "                      [ 5.9491e-01,  4.4117e-01],\n",
       "                      [ 5.1399e-01,  4.0997e-01],\n",
       "                      [-1.8092e-01,  6.6090e-01],\n",
       "                      [-5.9827e-01, -6.2277e-01],\n",
       "                      [ 4.8818e-01, -1.8137e-01],\n",
       "                      [-1.0433e-01,  3.2514e-01],\n",
       "                      [-5.7878e-02,  4.2098e-01],\n",
       "                      [ 6.5396e-01, -6.9585e-01],\n",
       "                      [ 6.8037e-01,  4.3961e-01],\n",
       "                      [-4.0020e-01, -6.3607e-01],\n",
       "                      [-6.8144e-01, -7.0115e-01],\n",
       "                      [ 1.8370e-01, -3.3840e-01],\n",
       "                      [ 3.2224e-01, -7.0226e-01],\n",
       "                      [-4.4345e-01, -7.0465e-01],\n",
       "                      [ 1.1757e-01,  6.0692e-01],\n",
       "                      [-3.5430e-01,  5.3447e-01],\n",
       "                      [ 7.0448e-01, -6.6229e-01],\n",
       "                      [ 9.6566e-02, -5.7647e-01],\n",
       "                      [-5.4513e-01, -5.3499e-01],\n",
       "                      [ 5.9560e-01,  1.3904e-01],\n",
       "                      [ 5.5046e-01, -1.8592e-01],\n",
       "                      [ 5.0277e-01,  6.1663e-01],\n",
       "                      [-2.2008e-01,  5.8746e-01],\n",
       "                      [-3.9006e-01,  6.0322e-01],\n",
       "                      [ 7.6496e-02,  1.2604e-01],\n",
       "                      [ 1.9148e-01,  5.2320e-01],\n",
       "                      [ 6.4519e-01,  3.7099e-01],\n",
       "                      [-5.9142e-01,  3.3983e-01],\n",
       "                      [ 4.3773e-02, -5.4920e-01],\n",
       "                      [-4.5468e-01,  4.9764e-02],\n",
       "                      [-2.7387e-01,  4.3785e-01],\n",
       "                      [-4.6306e-01,  4.6606e-01],\n",
       "                      [ 4.3234e-04, -5.4765e-01],\n",
       "                      [-6.1020e-01,  4.3694e-03],\n",
       "                      [-6.7685e-01, -3.6670e-01],\n",
       "                      [ 1.6801e-01, -3.5515e-01],\n",
       "                      [ 4.0067e-01, -3.4624e-01],\n",
       "                      [-3.4602e-01, -5.1226e-01],\n",
       "                      [ 4.3489e-02, -3.2549e-01],\n",
       "                      [-4.2136e-01,  6.6242e-01],\n",
       "                      [-1.2149e-01,  3.7822e-01],\n",
       "                      [-4.2251e-01,  1.0312e-01],\n",
       "                      [ 5.0301e-02,  1.3792e-01],\n",
       "                      [-2.4120e-01, -2.4285e-02],\n",
       "                      [ 6.3018e-01, -2.9208e-01],\n",
       "                      [-3.1088e-01, -2.9686e-01],\n",
       "                      [ 1.2898e-01,  4.6149e-01],\n",
       "                      [-6.8437e-01,  2.8109e-01],\n",
       "                      [ 2.7904e-01,  3.7831e-01],\n",
       "                      [-4.2933e-01,  4.4780e-01],\n",
       "                      [-1.1987e-02, -3.4604e-01],\n",
       "                      [-6.9263e-01,  2.0267e-01],\n",
       "                      [-6.5123e-01,  4.9921e-01],\n",
       "                      [-4.3203e-01,  4.9762e-01],\n",
       "                      [-3.9652e-01,  4.7961e-01],\n",
       "                      [ 6.4293e-02, -5.4981e-01],\n",
       "                      [ 2.5406e-02, -7.0065e-01],\n",
       "                      [ 2.4440e-01,  2.2569e-01],\n",
       "                      [-3.1547e-01,  5.0622e-01],\n",
       "                      [-1.1555e-01, -7.8526e-02],\n",
       "                      [-2.4373e-01,  5.9962e-01]], device='cuda:0')),\n",
       "             ('0.bias',\n",
       "              tensor([ 0.6347, -0.2564, -0.4762, -0.5755, -0.1206, -0.4821, -0.5565,  0.6568,\n",
       "                       0.2364, -0.1309, -0.0392,  0.2661,  0.6361,  0.2966, -0.5440,  0.4521,\n",
       "                      -0.0161, -0.2057, -0.4900, -0.3954,  0.3204,  0.2349, -0.3435, -0.0644,\n",
       "                      -0.3734, -0.5198,  0.4558, -0.0155,  0.4248,  0.3709, -0.2815,  0.2389,\n",
       "                      -0.0305, -0.3125, -0.1098,  0.6728, -0.2429,  0.5997,  0.4693,  0.6787,\n",
       "                      -0.2563, -0.3930,  0.2546, -0.6956, -0.1915, -0.4553,  0.0422, -0.0795,\n",
       "                       0.1082, -0.3132, -0.3056,  0.5479,  0.2380, -0.4932,  0.1098,  0.1556,\n",
       "                       0.2874,  0.1343, -0.3189,  0.1894,  0.4119,  0.2675,  0.4642,  0.5688,\n",
       "                      -0.0221,  0.3413, -0.4848, -0.2506, -0.5588, -0.0489,  0.3381, -0.4036,\n",
       "                      -0.3468, -0.5956, -0.1702,  0.1323,  0.5749, -0.6193, -0.4693,  0.6895,\n",
       "                      -0.4231,  0.5902, -0.6956,  0.5478,  0.3551,  0.3102,  0.5653,  0.5419,\n",
       "                      -0.1196,  0.5882, -0.4557,  0.6333, -0.1313,  0.3641,  0.1444,  0.0933,\n",
       "                      -0.4992,  0.6192,  0.5200,  0.3763], device='cuda:0')),\n",
       "             ('2.weight',\n",
       "              tensor([[-0.0442,  0.0576,  0.0406,  0.0946,  0.0773,  0.0028,  0.0784, -0.0792,\n",
       "                        0.0893,  0.0416,  0.0928, -0.0131,  0.0909,  0.0331,  0.0965, -0.0080,\n",
       "                       -0.0443, -0.0025,  0.0813,  0.0397, -0.0713, -0.0649,  0.0054, -0.0207,\n",
       "                       -0.0196, -0.0866, -0.0296, -0.0539,  0.0520,  0.0358, -0.0269,  0.0994,\n",
       "                       -0.0525, -0.0974, -0.0013,  0.0726,  0.0794, -0.0067, -0.0888, -0.0341,\n",
       "                       -0.0867,  0.0339, -0.0358, -0.0618,  0.0550,  0.0367, -0.0638, -0.0755,\n",
       "                       -0.0267,  0.0628,  0.0480, -0.0075,  0.0274,  0.0921, -0.0869, -0.0876,\n",
       "                       -0.0016,  0.0483, -0.0270, -0.0770,  0.0829, -0.0615,  0.0167,  0.0840,\n",
       "                       -0.0972, -0.0589, -0.0530,  0.0460, -0.0076, -0.0811,  0.0986, -0.0521,\n",
       "                        0.0934, -0.0352, -0.0158, -0.0765, -0.0179,  0.0094, -0.0949,  0.0129,\n",
       "                        0.0639,  0.0421,  0.0793, -0.0929, -0.0578, -0.0505,  0.0915,  0.0588,\n",
       "                        0.0279,  0.0848, -0.0605,  0.0618, -0.0802, -0.0483, -0.0414,  0.0303,\n",
       "                        0.0726, -0.0239,  0.0540, -0.0123]], device='cuda:0')),\n",
       "             ('2.bias', tensor([0.0297], device='cuda:0'))])"
      ]
     },
     "execution_count": 21,
     "metadata": {},
     "output_type": "execute_result"
    }
   ],
   "source": [
    "model0.state_dict()"
   ]
  },
  {
   "cell_type": "code",
   "execution_count": 22,
   "id": "7fdb26d3",
   "metadata": {},
   "outputs": [],
   "source": [
    "#3. define loss and optimizer\n",
    "\n",
    "loss_fn = torch.nn.BCEWithLogitsLoss() # binary cross entropy loss, built in sigmoid\n",
    "optimizer_fn = torch.optim.AdamW(params=model0.parameters(),lr=0.01)"
   ]
  },
  {
   "cell_type": "code",
   "execution_count": 23,
   "id": "e9959340",
   "metadata": {
    "scrolled": true
   },
   "outputs": [
    {
     "data": {
      "text/plain": [
       "(BCEWithLogitsLoss(),\n",
       " AdamW (\n",
       " Parameter Group 0\n",
       "     amsgrad: False\n",
       "     betas: (0.9, 0.999)\n",
       "     capturable: False\n",
       "     differentiable: False\n",
       "     eps: 1e-08\n",
       "     foreach: None\n",
       "     fused: None\n",
       "     lr: 0.01\n",
       "     maximize: False\n",
       "     weight_decay: 0.01\n",
       " ))"
      ]
     },
     "execution_count": 23,
     "metadata": {},
     "output_type": "execute_result"
    }
   ],
   "source": [
    "loss_fn, optimizer_fn"
   ]
  },
  {
   "cell_type": "code",
   "execution_count": 24,
   "id": "fa9d7740",
   "metadata": {},
   "outputs": [],
   "source": [
    "def acc_s(y_true, y_pred):\n",
    "    correct = torch.eq(y_true, y_pred).sum().item()\n",
    "    acc = (correct/len(y_pred)) * 100\n",
    "    return acc"
   ]
  },
  {
   "cell_type": "code",
   "execution_count": 25,
   "id": "717fa2ac",
   "metadata": {
    "scrolled": true
   },
   "outputs": [
    {
     "name": "stdout",
     "output_type": "stream",
     "text": [
      "Epoch: 0 | train accuracy 51.1 | test accuracy 51.35999999999999 | loss 0.6980222 | test loss 0.68809813\n",
      "Epoch: 100 | train accuracy 99.95333333333333 | test accuracy 99.86 | loss 0.0765647 | test loss 0.076858915\n",
      "Epoch: 200 | train accuracy 99.97333333333333 | test accuracy 99.88 | loss 0.020724334 | test loss 0.022406382\n",
      "Epoch: 300 | train accuracy 99.97333333333333 | test accuracy 99.88 | loss 0.011242229 | test loss 0.01293534\n",
      "Epoch: 400 | train accuracy 99.98 | test accuracy 99.9 | loss 0.0075912653 | test loss 0.009265256\n",
      "Epoch: 500 | train accuracy 99.98 | test accuracy 99.88 | loss 0.005733822 | test loss 0.007384182\n",
      "Epoch: 600 | train accuracy 99.98 | test accuracy 99.88 | loss 0.0046195975 | test loss 0.0062571545\n",
      "Epoch: 700 | train accuracy 99.98 | test accuracy 99.88 | loss 0.0038841004 | test loss 0.005519856\n",
      "Epoch: 800 | train accuracy 99.98 | test accuracy 99.88 | loss 0.0033630503 | test loss 0.005001464\n",
      "Epoch: 900 | train accuracy 99.98 | test accuracy 99.88 | loss 0.0029745593 | test loss 0.004615506\n"
     ]
    }
   ],
   "source": [
    "#4. create traning loop\n",
    "\n",
    "EPOCH = 1000\n",
    "\n",
    "epoch_c = []\n",
    "train_loss_c = []\n",
    "test_loss_c = []\n",
    "\n",
    "X_train, X_test = X_train.to(device), X_test.to(device)\n",
    "y_train, y_test = y_train.to(device), y_test.to(device)\n",
    " \n",
    "for e in range(EPOCH):\n",
    "    model0.train() # setting to train\n",
    "    \n",
    "    #forward\n",
    "    y_logits = model0(X_train)\n",
    "    y_pred = torch.round(torch.sigmoid(y_logits.squeeze())) # this is for loss_fn, \n",
    "    \n",
    "    #calc loss\n",
    "    get_loss = loss_fn(y_logits.squeeze(), y_train) #BCEWithLogitsLoss takes raw logits as inout and apply sigmod an round in it.\n",
    "    \n",
    "    acc = acc_s( y_train, y_pred)\n",
    "    \n",
    "    #optimze\n",
    "    optimizer_fn.zero_grad()\n",
    "    \n",
    "    #backprop\n",
    "    get_loss.backward()\n",
    "    \n",
    "    #step optimize, perform gradient decdent\n",
    "    optimizer_fn.step()\n",
    "    \n",
    "    model0.eval() # turn off gradent\n",
    "    \n",
    "    if e%100 == 0:\n",
    "        with torch.inference_mode():\n",
    "            \n",
    "            test_logits =  model0(X_test)\n",
    "            test_preds = torch.round(torch.sigmoid(test_logits.squeeze()))\n",
    "            test_loss = loss_fn(test_logits.squeeze(), y_test)\n",
    "            \n",
    "            test_acc = acc_s(y_test, test_preds)\n",
    "            epoch_c.append(e)\n",
    "            train_loss_c.append(get_loss.cpu().detach().numpy()) # detach to convert tensor to numpy\n",
    "            test_loss_c.append(test_loss)\n",
    "            print(\"Epoch:\",e, \"| train accuracy\" ,acc, \"| test accuracy\", test_acc,\n",
    "                  \"| loss\",get_loss.cpu().detach().numpy(), \"| test loss\", test_loss.cpu().detach().numpy())"
   ]
  },
  {
   "cell_type": "code",
   "execution_count": null,
   "id": "0faa1d25",
   "metadata": {},
   "outputs": [
    {
     "name": "stdout",
     "output_type": "stream",
     "text": [
      "File already present\n"
     ]
    }
   ],
   "source": [
    "import requests\n",
    "import os\n",
    "\n",
    "file_url = \"https://raw.githubusercontent.com/priyanshu-hawk/pytorch_random/main/helper_functions.py\"\n",
    "file_name = file_url.split(\"/\")[-1]\n",
    "\n",
    "if not os.path.exists(file_name):\n",
    "    r = requests.get(file_url)\n",
    "    print(r.status_code)\n",
    "    with open(file_name, 'w') as f:\n",
    "        f.write(r.content.decode())\n",
    "else:\n",
    "    print(\"File already present\")"
   ]
  },
  {
   "cell_type": "code",
   "execution_count": 27,
   "id": "66a22a00",
   "metadata": {},
   "outputs": [
    {
     "data": {
      "image/png": "[encoded data removed]",
      "text/plain": [
       "<Figure size 640x480 with 1 Axes>"
      ]
     },
     "metadata": {},
     "output_type": "display_data"
    }
   ],
   "source": [
    "from helper_functions import plot_decision_boundary\n",
    "\n",
    "plot_decision_boundary(model0, X_train, y_train)"
   ]
  },
  {
   "cell_type": "code",
   "execution_count": 28,
   "id": "b607b43e",
   "metadata": {},
   "outputs": [
    {
     "data": {
      "image/png": "[encoded data removed]",
      "text/plain": [
       "<Figure size 640x480 with 1 Axes>"
      ]
     },
     "metadata": {},
     "output_type": "display_data"
    }
   ],
   "source": [
    "plot_decision_boundary(model0, X_test, y_test)"
   ]
  },
  {
   "cell_type": "markdown",
   "id": "56d39ff2",
   "metadata": {},
   "source": [
    "## model improvment\n",
    "\n",
    "1. more layers\n",
    "2. more hidden units\n",
    "3. fit for long\n",
    "4. change activation fn\n",
    "5. chnage lr.\n",
    "\n",
    "### already did above"
   ]
  },
  {
   "cell_type": "code",
   "execution_count": 35,
   "id": "538fc0ea",
   "metadata": {},
   "outputs": [
    {
     "data": {
      "text/plain": [
       "Sequential(\n",
       "  (0): Linear(in_features=2, out_features=100, bias=True)\n",
       "  (1): ReLU()\n",
       "  (2): Linear(in_features=100, out_features=1, bias=True)\n",
       ")"
      ]
     },
     "execution_count": 35,
     "metadata": {},
     "output_type": "execute_result"
    }
   ],
   "source": [
    "# putting model0 to device\n",
    "\n",
    "model0.to(device)"
   ]
  },
  {
   "cell_type": "code",
   "execution_count": 36,
   "id": "858b4d60",
   "metadata": {},
   "outputs": [
    {
     "data": {
      "text/plain": [
       "device(type='cuda', index=0)"
      ]
     },
     "execution_count": 36,
     "metadata": {},
     "output_type": "execute_result"
    }
   ],
   "source": [
    "X_test.device"
   ]
  },
  {
   "cell_type": "code",
   "execution_count": 37,
   "id": "0af8fd71",
   "metadata": {},
   "outputs": [
    {
     "data": {
      "text/plain": [
       "device(type='cuda', index=0)"
      ]
     },
     "execution_count": 37,
     "metadata": {},
     "output_type": "execute_result"
    }
   ],
   "source": [
    "next(model0.parameters()).device"
   ]
  },
  {
   "cell_type": "code",
   "execution_count": 54,
   "id": "60de7cd5",
   "metadata": {},
   "outputs": [
    {
     "name": "stdout",
     "output_type": "stream",
     "text": [
      "5000\n"
     ]
    }
   ],
   "source": [
    "y_logits = model0(X_test) # raw logits\n",
    "print(len(y_logits))\n",
    "y_preds = torch.round(torch.sigmoid(y_logits.squeeze()))"
   ]
  },
  {
   "cell_type": "code",
   "execution_count": 55,
   "id": "c923e2cb",
   "metadata": {},
   "outputs": [
    {
     "data": {
      "text/plain": [
       "5000"
      ]
     },
     "execution_count": 55,
     "metadata": {},
     "output_type": "execute_result"
    }
   ],
   "source": [
    "len(y_preds)"
   ]
  },
  {
   "cell_type": "code",
   "execution_count": 56,
   "id": "cb61215a",
   "metadata": {
    "scrolled": true
   },
   "outputs": [
    {
     "data": {
      "text/plain": [
       "tensor([1., 1., 1.,  ..., 1., 1., 0.], device='cuda:0',\n",
       "       grad_fn=<RoundBackward0>)"
      ]
     },
     "execution_count": 56,
     "metadata": {},
     "output_type": "execute_result"
    }
   ],
   "source": [
    "y_preds"
   ]
  },
  {
   "cell_type": "code",
   "execution_count": 63,
   "id": "3669614c",
   "metadata": {
    "scrolled": true
   },
   "outputs": [],
   "source": [
    "# y_preds.cpu().detach().numpy(), y_test.cpu().detach().numpy()"
   ]
  },
  {
   "cell_type": "code",
   "execution_count": 62,
   "id": "1e84450b",
   "metadata": {},
   "outputs": [
    {
     "data": {
      "text/plain": [
       "0.999"
      ]
     },
     "execution_count": 62,
     "metadata": {},
     "output_type": "execute_result"
    }
   ],
   "source": [
    "# chrecking accuracy\n",
    "from sklearn.metrics import accuracy_score\n",
    "# y_preds.cpu().detach().numpy()\n",
    "accuracy_score(y_test.cpu().detach().numpy(), y_preds.cpu().detach().numpy())"
   ]
  },
  {
   "cell_type": "code",
   "execution_count": null,
   "id": "0f21fc96",
   "metadata": {},
   "outputs": [],
   "source": []
  },
  {
   "cell_type": "code",
   "execution_count": null,
   "id": "494628d2",
   "metadata": {},
   "outputs": [],
   "source": []
  },
  {
   "cell_type": "code",
   "execution_count": null,
   "id": "d88c0ab7",
   "metadata": {},
   "outputs": [],
   "source": []
  },
  {
   "cell_type": "code",
   "execution_count": null,
   "id": "1e3063c3",
   "metadata": {},
   "outputs": [],
   "source": []
  },
  {
   "cell_type": "code",
   "execution_count": null,
   "id": "704df864",
   "metadata": {},
   "outputs": [],
   "source": []
  },
  {
   "cell_type": "code",
   "execution_count": null,
   "id": "469d5662",
   "metadata": {},
   "outputs": [],
   "source": []
  },
  {
   "cell_type": "code",
   "execution_count": null,
   "id": "8c32a7f7",
   "metadata": {},
   "outputs": [],
   "source": []
  }
 ],
 "metadata": {
  "kernelspec": {
   "display_name": "Python 3 (ipykernel)",
   "language": "python",
   "name": "python3"
  },
  "language_info": {
   "codemirror_mode": {
    "name": "ipython",
    "version": 3
   },
   "file_extension": ".py",
   "mimetype": "text/x-python",
   "name": "python",
   "nbconvert_exporter": "python",
   "pygments_lexer": "ipython3",
   "version": "3.10.12"
  }
 },
 "nbformat": 4,
 "nbformat_minor": 5
}
