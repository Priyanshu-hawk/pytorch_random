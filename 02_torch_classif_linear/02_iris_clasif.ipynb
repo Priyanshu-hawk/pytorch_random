{
 "cells": [
  {
   "cell_type": "code",
   "execution_count": 1,
   "id": "cc8d27cc",
   "metadata": {},
   "outputs": [],
   "source": [
    "from sklearn.datasets import load_iris\n",
    "import torch\n",
    "from torch import nn"
   ]
  },
  {
   "cell_type": "code",
   "execution_count": 13,
   "id": "f6b9c07a",
   "metadata": {},
   "outputs": [],
   "source": [
    "device = torch.device('cuda' if torch.cuda.is_available() else 'cpu')"
   ]
  },
  {
   "cell_type": "code",
   "execution_count": 14,
   "id": "33f3c1c4",
   "metadata": {},
   "outputs": [
    {
     "data": {
      "text/plain": [
       "device(type='cuda')"
      ]
     },
     "execution_count": 14,
     "metadata": {},
     "output_type": "execute_result"
    }
   ],
   "source": [
    "device"
   ]
  },
  {
   "cell_type": "code",
   "execution_count": 15,
   "id": "72cc518c",
   "metadata": {},
   "outputs": [],
   "source": [
    "X,y = load_iris(return_X_y=True)"
   ]
  },
  {
   "cell_type": "code",
   "execution_count": 16,
   "id": "04f9bc77",
   "metadata": {},
   "outputs": [],
   "source": [
    "X = torch.from_numpy(X).type(torch.float).to(device)\n",
    "y = torch.from_numpy(y).type(torch.long).to(device)"
   ]
  },
  {
   "cell_type": "code",
   "execution_count": 17,
   "id": "1a24f35e",
   "metadata": {},
   "outputs": [],
   "source": [
    "from sklearn.model_selection import train_test_split\n",
    "\n",
    "X_train, X_test, y_train, y_test = train_test_split(X,y, test_size=0.20, random_state=26)"
   ]
  },
  {
   "cell_type": "code",
   "execution_count": 18,
   "id": "9a8dcda2",
   "metadata": {
    "scrolled": true
   },
   "outputs": [
    {
     "data": {
      "text/plain": [
       "(torch.Size([120, 4]),\n",
       " torch.Size([30, 4]),\n",
       " torch.Size([120]),\n",
       " torch.Size([30]))"
      ]
     },
     "execution_count": 18,
     "metadata": {},
     "output_type": "execute_result"
    }
   ],
   "source": [
    "X_train.shape, X_test.shape, y_train.shape, y_test.shape"
   ]
  },
  {
   "cell_type": "code",
   "execution_count": 19,
   "id": "5e53251d",
   "metadata": {},
   "outputs": [
    {
     "data": {
      "text/plain": [
       "(device(type='cuda', index=0),\n",
       " device(type='cuda', index=0),\n",
       " device(type='cuda', index=0),\n",
       " device(type='cuda', index=0))"
      ]
     },
     "execution_count": 19,
     "metadata": {},
     "output_type": "execute_result"
    }
   ],
   "source": [
    "X_train.device, X_test.device, y_train.device, y_test.device"
   ]
  },
  {
   "cell_type": "code",
   "execution_count": 38,
   "id": "7b0fe293",
   "metadata": {},
   "outputs": [],
   "source": [
    "# model\n",
    "import torch\n",
    "from torch import nn\n",
    "\n",
    "class FlowerClassifier(nn.Module):\n",
    "    def __init__(self):\n",
    "        super().__init__()\n",
    "        \n",
    "        self.l1 = nn.Linear(in_features=4, out_features=10)\n",
    "        self.l2 = nn.Linear(in_features=10, out_features=3)\n",
    "        self.relu = nn.ReLU()\n",
    "        \n",
    "    def forward(self, x):\n",
    "        \n",
    "        x = self.l1(x)\n",
    "        x = self.relu(x)\n",
    "        x = self.l2(x)\n",
    "        return x"
   ]
  },
  {
   "cell_type": "code",
   "execution_count": 39,
   "id": "597a7138",
   "metadata": {},
   "outputs": [],
   "source": [
    "model0 = FlowerClassifier()"
   ]
  },
  {
   "cell_type": "code",
   "execution_count": 40,
   "id": "3b86624b",
   "metadata": {},
   "outputs": [
    {
     "data": {
      "text/plain": [
       "FlowerClassifier(\n",
       "  (l1): Linear(in_features=4, out_features=10, bias=True)\n",
       "  (l2): Linear(in_features=10, out_features=3, bias=True)\n",
       "  (relu): ReLU()\n",
       ")"
      ]
     },
     "execution_count": 40,
     "metadata": {},
     "output_type": "execute_result"
    }
   ],
   "source": [
    "model0"
   ]
  },
  {
   "cell_type": "code",
   "execution_count": 41,
   "id": "7fc5791b",
   "metadata": {},
   "outputs": [
    {
     "data": {
      "text/plain": [
       "device(type='cpu')"
      ]
     },
     "execution_count": 41,
     "metadata": {},
     "output_type": "execute_result"
    }
   ],
   "source": [
    "next(model0.parameters()).device"
   ]
  },
  {
   "cell_type": "code",
   "execution_count": 42,
   "id": "dc046bdd",
   "metadata": {
    "scrolled": true
   },
   "outputs": [
    {
     "data": {
      "text/plain": [
       "FlowerClassifier(\n",
       "  (l1): Linear(in_features=4, out_features=10, bias=True)\n",
       "  (l2): Linear(in_features=10, out_features=3, bias=True)\n",
       "  (relu): ReLU()\n",
       ")"
      ]
     },
     "execution_count": 42,
     "metadata": {},
     "output_type": "execute_result"
    }
   ],
   "source": [
    "# setting it to device\n",
    "model0.to(device)"
   ]
  },
  {
   "cell_type": "code",
   "execution_count": 43,
   "id": "1f107a9b",
   "metadata": {},
   "outputs": [
    {
     "data": {
      "text/plain": [
       "tensor([[-0.3128, -0.1016, -1.0153],\n",
       "        [-0.3437, -0.1155, -0.9149],\n",
       "        [-0.3495, -0.0575, -1.0823],\n",
       "        [-0.3349,  0.0024, -1.2656],\n",
       "        [-0.3998, -0.2093, -0.5718],\n",
       "        [-0.3803, -0.2257, -0.4988],\n",
       "        [-0.3931, -0.1877, -0.7145],\n",
       "        [-0.3990, -0.0580, -0.9692],\n",
       "        [-0.3924, -0.2241, -0.4765],\n",
       "        [-0.3867,  0.0272, -1.2735],\n",
       "        [-0.4133, -0.0533, -0.9438],\n",
       "        [-0.3723, -0.0917, -0.9183],\n",
       "        [-0.3930, -0.0962, -0.9313],\n",
       "        [-0.3761, -0.0066, -1.0388],\n",
       "        [-0.3677,  0.0218, -1.2131],\n",
       "        [-0.3584, -0.2102, -0.6866],\n",
       "        [-0.4362, -0.0168, -1.1176],\n",
       "        [-0.3723,  0.0475, -1.3173],\n",
       "        [-0.3538, -0.0093, -1.1675],\n",
       "        [-0.3369, -0.0824, -1.1630],\n",
       "        [-0.3834, -0.0936, -0.9168],\n",
       "        [-0.4062, -0.1910, -0.6571],\n",
       "        [-0.4254, -0.1938, -0.6167],\n",
       "        [-0.3940, -0.1948, -0.6966],\n",
       "        [-0.3028, -0.2640, -0.4692],\n",
       "        [-0.3830, -0.2236, -0.4993],\n",
       "        [-0.3638, -0.2214, -0.6019],\n",
       "        [-0.3266, -0.1137, -0.9656],\n",
       "        [-0.3519, -0.1241, -0.8701],\n",
       "        [-0.3979, -0.0852, -0.9143],\n",
       "        [-0.3779, -0.2125, -0.6090],\n",
       "        [-0.3928,  0.0246, -1.3729],\n",
       "        [-0.4004, -0.2142, -0.5118],\n",
       "        [-0.3803, -0.0070, -1.0728],\n",
       "        [-0.3879, -0.2147, -0.5912],\n",
       "        [-0.3877, -0.0559, -1.0378],\n",
       "        [-0.3890, -0.2023, -0.6557],\n",
       "        [-0.4026, -0.1751, -0.7755],\n",
       "        [-0.4041, -0.1984, -0.6277],\n",
       "        [-0.3688,  0.0674, -1.4121],\n",
       "        [-0.3913, -0.2156, -0.5455],\n",
       "        [-0.3803, -0.0070, -1.0728],\n",
       "        [-0.3046, -0.0825, -1.0244],\n",
       "        [-0.3492, -0.0074, -1.1861],\n",
       "        [-0.4287, -0.1943, -0.6876],\n",
       "        [-0.3421, -0.0387, -1.0905],\n",
       "        [-0.3572, -0.2223, -0.5911],\n",
       "        [-0.3961, -0.0752, -0.9617],\n",
       "        [-0.3591,  0.0279, -1.2206],\n",
       "        [-0.3524,  0.0517, -1.3034],\n",
       "        [-0.3531, -0.0825, -0.9791],\n",
       "        [-0.3512,  0.0770, -1.5093],\n",
       "        [-0.3727, -0.2184, -0.5881],\n",
       "        [-0.2932, -0.0029, -1.2525],\n",
       "        [-0.4141, -0.1845, -0.7326],\n",
       "        [-0.3927, -0.2052, -0.6211],\n",
       "        [-0.3543,  0.0154, -1.3717],\n",
       "        [-0.4002, -0.1939, -0.6824],\n",
       "        [-0.3443, -0.2168, -0.6312],\n",
       "        [-0.4055,  0.0785, -1.2808],\n",
       "        [-0.4111, -0.2008, -0.5985],\n",
       "        [-0.3360, -0.1241, -0.8674],\n",
       "        [-0.3549, -0.1503, -0.7152],\n",
       "        [-0.3273, -0.0943, -1.0944],\n",
       "        [-0.3367, -0.0365, -1.1099],\n",
       "        [-0.3925, -0.0790, -1.0236],\n",
       "        [-0.3767,  0.0548, -1.4640],\n",
       "        [-0.3092,  0.0063, -1.2339],\n",
       "        [-0.4290, -0.1931, -0.6159],\n",
       "        [-0.3300, -0.0757, -1.0874],\n",
       "        [-0.3488,  0.0335, -1.3112],\n",
       "        [-0.3362, -0.1019, -1.0343],\n",
       "        [-0.3818, -0.0654, -1.0412],\n",
       "        [-0.3826, -0.0132, -1.3011],\n",
       "        [-0.3465, -0.0890, -1.0877],\n",
       "        [-0.4046, -0.2052, -0.5476],\n",
       "        [-0.3598, -0.0486, -1.0458],\n",
       "        [-0.4270, -0.1851, -0.6660],\n",
       "        [-0.3853, -0.0419, -1.1088],\n",
       "        [-0.3865, -0.2061, -0.6352],\n",
       "        [-0.3704, -0.0279, -1.0924],\n",
       "        [-0.3734,  0.0496, -1.4734],\n",
       "        [-0.3271, -0.1546, -0.8405],\n",
       "        [-0.3234, -0.0271, -1.1216],\n",
       "        [-0.3491, -0.2284, -0.5587],\n",
       "        [-0.3801, -0.0699, -1.0344],\n",
       "        [-0.3780, -0.0914, -0.9362],\n",
       "        [-0.3640, -0.0686, -1.0173],\n",
       "        [-0.3892, -0.2040, -0.6357],\n",
       "        [-0.3742, -0.2093, -0.6125],\n",
       "        [-0.3894, -0.0265, -1.0629],\n",
       "        [-0.3438,  0.0092, -1.2597],\n",
       "        [-0.3454, -0.0636, -1.1740],\n",
       "        [-0.3677, -0.0938, -0.8470],\n",
       "        [-0.3740, -0.2077, -0.6326],\n",
       "        [-0.4150, -0.1845, -0.6773],\n",
       "        [-0.3448, -0.1409, -0.8286],\n",
       "        [-0.3743, -0.2096, -0.6436],\n",
       "        [-0.3634, -0.0986, -0.9243],\n",
       "        [-0.3548, -0.0740, -1.0758],\n",
       "        [-0.3917, -0.0301, -1.0757],\n",
       "        [-0.3336, -0.0772, -1.1366],\n",
       "        [-0.3439,  0.0249, -1.1127],\n",
       "        [-0.3878,  0.0503, -1.2385],\n",
       "        [-0.3691, -0.1979, -0.6912],\n",
       "        [-0.3693, -0.0314, -1.0704],\n",
       "        [-0.3794, -0.2210, -0.5650],\n",
       "        [-0.4208,  0.0750, -1.5144],\n",
       "        [-0.3940, -0.2135, -0.5460],\n",
       "        [-0.3420, -0.1200, -0.9081],\n",
       "        [-0.3762, -0.0525, -1.0919],\n",
       "        [-0.3539, -0.0106, -1.1820],\n",
       "        [-0.4010, -0.0116, -1.0858],\n",
       "        [-0.3518,  0.0218, -1.2104],\n",
       "        [-0.3139, -0.1650, -0.7225],\n",
       "        [-0.3443, -0.0421, -1.1703],\n",
       "        [-0.3551,  0.0256, -1.3351],\n",
       "        [-0.3963, -0.2078, -0.5553],\n",
       "        [-0.3208, -0.1377, -0.9149],\n",
       "        [-0.3372, -0.1063, -0.8765]], device='cuda:0',\n",
       "       grad_fn=<AddmmBackward0>)"
      ]
     },
     "execution_count": 43,
     "metadata": {},
     "output_type": "execute_result"
    }
   ],
   "source": [
    "model0(X_train)"
   ]
  },
  {
   "cell_type": "code",
   "execution_count": 44,
   "id": "0ee82dbb",
   "metadata": {},
   "outputs": [],
   "source": [
    "loss_fn = nn.CrossEntropyLoss()\n",
    "optimizer_fn = torch.optim.Adam(params=model0.parameters(), lr=0.1)\n"
   ]
  },
  {
   "cell_type": "code",
   "execution_count": 45,
   "id": "e5e6f224",
   "metadata": {},
   "outputs": [],
   "source": [
    "## test model\n",
    "# c = model0(X_train)"
   ]
  },
  {
   "cell_type": "code",
   "execution_count": 46,
   "id": "4a07d72e",
   "metadata": {
    "scrolled": true
   },
   "outputs": [
    {
     "name": "stdout",
     "output_type": "stream",
     "text": [
      "0 loss: 1.2484545\n",
      "100 loss: 0.07067658\n",
      "200 loss: 0.06085237\n",
      "300 loss: 0.055808526\n",
      "400 loss: 0.052590385\n",
      "500 loss: 0.05063651\n",
      "600 loss: 0.04956914\n",
      "700 loss: 0.048946932\n",
      "800 loss: 0.052215498\n",
      "900 loss: 0.05132576\n"
     ]
    }
   ],
   "source": [
    "# training loop\n",
    "\n",
    "epoch = 1000\n",
    "for e in range(epoch):\n",
    "    model0.train()\n",
    "    \n",
    "    y_logits = model0(X_train)\n",
    "#     print(y_logits)\n",
    "    loss = loss_fn(y_logits, y_train)\n",
    "    optimizer_fn.zero_grad()\n",
    "    loss.backward()\n",
    "    optimizer_fn.step()\n",
    "    model0.eval()\n",
    "    if e%100 == 0:\n",
    "        with torch.inference_mode():\n",
    "            print(e, \"loss:\",loss.cpu().detach().numpy())"
   ]
  },
  {
   "cell_type": "code",
   "execution_count": 47,
   "id": "64f54b31",
   "metadata": {
    "scrolled": true
   },
   "outputs": [
    {
     "data": {
      "text/plain": [
       "array([1, 1, 0, 0, 2, 1, 0, 2, 2, 2, 0, 1, 1, 0, 1, 0, 2, 1, 2, 0, 0, 2,\n",
       "       2, 2, 2, 2, 1, 0, 0, 2])"
      ]
     },
     "execution_count": 47,
     "metadata": {},
     "output_type": "execute_result"
    }
   ],
   "source": [
    "y_test.cpu().detach().numpy()"
   ]
  },
  {
   "cell_type": "code",
   "execution_count": null,
   "id": "2813b89b",
   "metadata": {},
   "outputs": [],
   "source": []
  },
  {
   "cell_type": "code",
   "execution_count": 48,
   "id": "99804a20",
   "metadata": {},
   "outputs": [
    {
     "data": {
      "text/plain": [
       "array([1, 1, 0, 0, 2, 1, 0, 2, 2, 2, 0, 1, 1, 0, 1, 0, 2, 1, 2, 0, 0, 2,\n",
       "       2, 2, 2, 2, 1, 0, 0, 2])"
      ]
     },
     "execution_count": 48,
     "metadata": {},
     "output_type": "execute_result"
    }
   ],
   "source": [
    "from sklearn.metrics import accuracy_score\n",
    "import numpy as np\n",
    "y_preds = []\n",
    "for xt in X_test:\n",
    "    ypreds = model0(xt)\n",
    "    y_preds.append(ypreds.argmax().item())\n",
    "# y_preds = np.array(y_preds)\n",
    "\n",
    "np.array(y_preds)"
   ]
  },
  {
   "cell_type": "code",
   "execution_count": 49,
   "id": "3f5c2c2f",
   "metadata": {},
   "outputs": [
    {
     "data": {
      "text/plain": [
       "1.0"
      ]
     },
     "execution_count": 49,
     "metadata": {},
     "output_type": "execute_result"
    }
   ],
   "source": [
    "accuracy_score(y_test.cpu().detach().numpy(), y_preds)"
   ]
  },
  {
   "cell_type": "code",
   "execution_count": null,
   "id": "4e08d0a2",
   "metadata": {},
   "outputs": [],
   "source": []
  },
  {
   "cell_type": "code",
   "execution_count": null,
   "id": "32974e20",
   "metadata": {},
   "outputs": [],
   "source": []
  }
 ],
 "metadata": {
  "kernelspec": {
   "display_name": "Python 3 (ipykernel)",
   "language": "python",
   "name": "python3"
  },
  "language_info": {
   "codemirror_mode": {
    "name": "ipython",
    "version": 3
   },
   "file_extension": ".py",
   "mimetype": "text/x-python",
   "name": "python",
   "nbconvert_exporter": "python",
   "pygments_lexer": "ipython3",
   "version": "3.10.12"
  }
 },
 "nbformat": 4,
 "nbformat_minor": 5
}
