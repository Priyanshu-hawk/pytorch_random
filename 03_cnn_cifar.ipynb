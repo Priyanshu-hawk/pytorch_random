{
 "cells": [
  {
   "cell_type": "code",
   "execution_count": 1,
   "id": "012df042",
   "metadata": {},
   "outputs": [
    {
     "name": "stderr",
     "output_type": "stream",
     "text": [
      "2023-11-02 21:01:47.322532: I tensorflow/core/platform/cpu_feature_guard.cc:182] This TensorFlow binary is optimized to use available CPU instructions in performance-critical operations.\n",
      "To enable the following instructions: AVX2 FMA, in other operations, rebuild TensorFlow with the appropriate compiler flags.\n",
      "2023-11-02 21:01:48.164868: W tensorflow/compiler/tf2tensorrt/utils/py_utils.cc:38] TF-TRT Warning: Could not find TensorRT\n"
     ]
    }
   ],
   "source": [
    "import torch\n",
    "from torch import nn\n",
    "\n",
    "\n",
    "from torch.utils.data import DataLoader\n",
    "\n",
    "\n",
    "from torchvision import datasets\n",
    "import torchvision.transforms as transforms\n",
    "\n",
    "import matplotlib.pyplot as plt\n",
    "import numpy as np\n",
    "from torchmetrics import Accuracy\n",
    "from mlxtend.plotting import plot_confusion_matrix\n",
    "from torch.nn import functional as F\n",
    "\n",
    "device = 'cuda' if torch.cuda.is_available() else 'cpu'"
   ]
  },
  {
   "cell_type": "code",
   "execution_count": 2,
   "id": "dcaa6e97",
   "metadata": {},
   "outputs": [
    {
     "name": "stdout",
     "output_type": "stream",
     "text": [
      "Files already downloaded and verified\n",
      "Files already downloaded and verified\n"
     ]
    }
   ],
   "source": [
    "transform_train = transforms.Compose([\n",
    "    transforms.RandomCrop(32, padding=4),\n",
    "    transforms.RandomHorizontalFlip(),\n",
    "    transforms.ToTensor(),\n",
    "    transforms.Normalize((0.4914, 0.4822, 0.4465), (0.2023, 0.1994, 0.2010)),\n",
    "])\n",
    "\n",
    "transform_test = transforms.Compose([\n",
    "    transforms.ToTensor(),\n",
    "    transforms.Normalize((0.4914, 0.4822, 0.4465), (0.2023, 0.1994, 0.2010)),\n",
    "])\n",
    "\n",
    "train_data = datasets.CIFAR10(\"dataset\", download=True, train=True, transform=transform_train)\n",
    "test_data = datasets.CIFAR10(\"dataset\", download=True, train=False , transform=transform_test)"
   ]
  },
  {
   "cell_type": "code",
   "execution_count": 3,
   "id": "f89c2c8a",
   "metadata": {},
   "outputs": [
    {
     "data": {
      "text/plain": [
       "Dataset CIFAR10\n",
       "    Number of datapoints: 50000\n",
       "    Root location: dataset\n",
       "    Split: Train\n",
       "    StandardTransform\n",
       "Transform: Compose(\n",
       "               RandomCrop(size=(32, 32), padding=4)\n",
       "               RandomHorizontalFlip(p=0.5)\n",
       "               ToTensor()\n",
       "               Normalize(mean=(0.4914, 0.4822, 0.4465), std=(0.2023, 0.1994, 0.201))\n",
       "           )"
      ]
     },
     "execution_count": 3,
     "metadata": {},
     "output_type": "execute_result"
    }
   ],
   "source": [
    "# seeing train data\n",
    "train_data"
   ]
  },
  {
   "cell_type": "code",
   "execution_count": 4,
   "id": "c837ef2b",
   "metadata": {},
   "outputs": [
    {
     "data": {
      "text/plain": [
       "Dataset CIFAR10\n",
       "    Number of datapoints: 10000\n",
       "    Root location: dataset\n",
       "    Split: Test\n",
       "    StandardTransform\n",
       "Transform: Compose(\n",
       "               ToTensor()\n",
       "               Normalize(mean=(0.4914, 0.4822, 0.4465), std=(0.2023, 0.1994, 0.201))\n",
       "           )"
      ]
     },
     "execution_count": 4,
     "metadata": {},
     "output_type": "execute_result"
    }
   ],
   "source": [
    "# seeing test data\n",
    "test_data"
   ]
  },
  {
   "cell_type": "code",
   "execution_count": 5,
   "id": "e6721a16",
   "metadata": {
    "scrolled": true
   },
   "outputs": [
    {
     "data": {
      "text/plain": [
       "['airplane',\n",
       " 'automobile',\n",
       " 'bird',\n",
       " 'cat',\n",
       " 'deer',\n",
       " 'dog',\n",
       " 'frog',\n",
       " 'horse',\n",
       " 'ship',\n",
       " 'truck']"
      ]
     },
     "execution_count": 5,
     "metadata": {},
     "output_type": "execute_result"
    }
   ],
   "source": [
    "## seeing objects\n",
    "obj_class = train_data.classes\n",
    "obj_class"
   ]
  },
  {
   "cell_type": "code",
   "execution_count": 6,
   "id": "b47282e8",
   "metadata": {
    "scrolled": true
   },
   "outputs": [
    {
     "data": {
      "text/plain": [
       "torch.Size([3, 32, 32])"
      ]
     },
     "execution_count": 6,
     "metadata": {},
     "output_type": "execute_result"
    }
   ],
   "source": [
    "train_data[0][0].shape"
   ]
  },
  {
   "cell_type": "markdown",
   "id": "5f001d51",
   "metadata": {},
   "source": [
    "## In the simplest case, the output value of the layer with input size.\n",
    "\n",
    "### Batch, channel, height, width"
   ]
  },
  {
   "cell_type": "code",
   "execution_count": 7,
   "id": "d46325ba",
   "metadata": {},
   "outputs": [
    {
     "data": {
      "text/plain": [
       "torch.Size([3, 32, 32])"
      ]
     },
     "execution_count": 7,
     "metadata": {},
     "output_type": "execute_result"
    }
   ],
   "source": [
    "train_data[0][0].shape ## all ready in format"
   ]
  },
  {
   "cell_type": "code",
   "execution_count": 8,
   "id": "80aeb02e",
   "metadata": {
    "scrolled": false
   },
   "outputs": [
    {
     "name": "stderr",
     "output_type": "stream",
     "text": [
      "Clipping input data to the valid range for imshow with RGB data ([0..1] for floats or [0..255] for integers).\n"
     ]
    },
    {
     "data": {
      "text/plain": [
       "<matplotlib.image.AxesImage at 0x7f59e5c0a170>"
      ]
     },
     "execution_count": 8,
     "metadata": {},
     "output_type": "execute_result"
    },
    {
     "data": {
      "image/png": "[encoded data removed]",
      "text/plain": [
       "<Figure size 640x480 with 1 Axes>"
      ]
     },
     "metadata": {},
     "output_type": "display_data"
    }
   ],
   "source": [
    "## changing format for vizualation\n",
    "trans_img = np.transpose(train_data[0][0], [1,2,0]) # transpose (H, W, C)\n",
    "plt.imshow(trans_img)"
   ]
  },
  {
   "cell_type": "code",
   "execution_count": 9,
   "id": "5b8f5f8a",
   "metadata": {
    "scrolled": true
   },
   "outputs": [
    {
     "data": {
      "text/plain": [
       "(32, 32, 3)"
      ]
     },
     "execution_count": 9,
     "metadata": {},
     "output_type": "execute_result"
    }
   ],
   "source": [
    "train_data.data[0].shape"
   ]
  },
  {
   "cell_type": "code",
   "execution_count": 10,
   "id": "dfc6b467",
   "metadata": {},
   "outputs": [
    {
     "data": {
      "text/plain": [
       "<matplotlib.image.AxesImage at 0x7f59e5a10790>"
      ]
     },
     "execution_count": 10,
     "metadata": {},
     "output_type": "execute_result"
    },
    {
     "data": {
      "image/png": "[encoded data removed]",
      "text/plain": [
       "<Figure size 640x480 with 1 Axes>"
      ]
     },
     "metadata": {},
     "output_type": "display_data"
    }
   ],
   "source": [
    "plt.imshow(train_data.data[0])"
   ]
  },
  {
   "cell_type": "code",
   "execution_count": 11,
   "id": "aef38615",
   "metadata": {},
   "outputs": [],
   "source": [
    "train_loader = DataLoader(dataset=train_data, shuffle=True, batch_size=32, num_workers=4)\n",
    "test_loader = DataLoader(dataset=test_data, shuffle=True, batch_size=32, num_workers=4)"
   ]
  },
  {
   "cell_type": "code",
   "execution_count": 12,
   "id": "6b9ff11d",
   "metadata": {},
   "outputs": [
    {
     "data": {
      "text/plain": [
       "Dataset CIFAR10\n",
       "    Number of datapoints: 50000\n",
       "    Root location: dataset\n",
       "    Split: Train\n",
       "    StandardTransform\n",
       "Transform: Compose(\n",
       "               RandomCrop(size=(32, 32), padding=4)\n",
       "               RandomHorizontalFlip(p=0.5)\n",
       "               ToTensor()\n",
       "               Normalize(mean=(0.4914, 0.4822, 0.4465), std=(0.2023, 0.1994, 0.201))\n",
       "           )"
      ]
     },
     "execution_count": 12,
     "metadata": {},
     "output_type": "execute_result"
    }
   ],
   "source": [
    "train_loader.dataset"
   ]
  },
  {
   "cell_type": "code",
   "execution_count": 13,
   "id": "a8e71a1e",
   "metadata": {},
   "outputs": [
    {
     "data": {
      "text/plain": [
       "Dataset CIFAR10\n",
       "    Number of datapoints: 10000\n",
       "    Root location: dataset\n",
       "    Split: Test\n",
       "    StandardTransform\n",
       "Transform: Compose(\n",
       "               ToTensor()\n",
       "               Normalize(mean=(0.4914, 0.4822, 0.4465), std=(0.2023, 0.1994, 0.201))\n",
       "           )"
      ]
     },
     "execution_count": 13,
     "metadata": {},
     "output_type": "execute_result"
    }
   ],
   "source": [
    "test_loader.dataset"
   ]
  },
  {
   "cell_type": "code",
   "execution_count": 14,
   "id": "b5a742e5",
   "metadata": {
    "scrolled": false
   },
   "outputs": [
    {
     "name": "stderr",
     "output_type": "stream",
     "text": [
      "Clipping input data to the valid range for imshow with RGB data ([0..1] for floats or [0..255] for integers).\n"
     ]
    },
    {
     "name": "stdout",
     "output_type": "stream",
     "text": [
      "airplane\n"
     ]
    },
    {
     "data": {
      "image/png": "[encoded data removed]",
      "text/plain": [
       "<Figure size 640x480 with 1 Axes>"
      ]
     },
     "metadata": {},
     "output_type": "display_data"
    }
   ],
   "source": [
    "for X,y in train_loader:\n",
    "    plt.imshow(np.transpose(X[0], [1,2,0]))\n",
    "    print(obj_class[y[0]])\n",
    "    break"
   ]
  },
  {
   "cell_type": "code",
   "execution_count": null,
   "id": "06a4d003",
   "metadata": {},
   "outputs": [],
   "source": []
  },
  {
   "cell_type": "code",
   "execution_count": 15,
   "id": "d39b8097",
   "metadata": {},
   "outputs": [],
   "source": [
    "## model\n",
    "\n",
    "class CNNCIFAR10_CLF(nn.Module):\n",
    "    def __init__(self, inp_shape, cnn_hidden_shape, classif_hiiden_shape, out_shape):\n",
    "        super().__init__()\n",
    "        \n",
    "        self.inp_shape = inp_shape\n",
    "        self.cnn_hidden_shape = cnn_hidden_shape\n",
    "        self.classif_hiiden_shape = classif_hiiden_shape\n",
    "        self.out_shape = out_shape\n",
    "        \n",
    "        ## cnn block 1\n",
    "        self.block1 = nn.Sequential(\n",
    "            nn.Conv2d(inp_shape, cnn_hidden_shape, kernel_size=3,stride=1, padding=1),\n",
    "            nn.ReLU(),\n",
    "            nn.Conv2d(cnn_hidden_shape, cnn_hidden_shape, 3, 1, 1),\n",
    "            nn.ReLU(),\n",
    "            nn.MaxPool2d(2,2),\n",
    "        )\n",
    "        \n",
    "        cnn_hidden_shape*=2\n",
    "        self.block2 = nn.Sequential(\n",
    "            nn.Conv2d(cnn_hidden_shape//2, cnn_hidden_shape, 2),\n",
    "            nn.ReLU(),\n",
    "            nn.Conv2d(cnn_hidden_shape, cnn_hidden_shape, 2, 1, 1),\n",
    "            nn.ReLU(),\n",
    "            nn.MaxPool2d(2,2),\n",
    "        )\n",
    "        \n",
    "        cnn_hidden_shape*=2\n",
    "        self.block3 = nn.Sequential(\n",
    "            nn.Conv2d(cnn_hidden_shape//2, cnn_hidden_shape, 2),\n",
    "            nn.ReLU(),\n",
    "            nn.Conv2d(cnn_hidden_shape, cnn_hidden_shape, 2, 1, 1),\n",
    "            nn.ReLU(),\n",
    "            nn.MaxPool2d(2,2),\n",
    "        )\n",
    "        cnn_hidden_shape //= 2\n",
    "        self.classif = nn.Sequential(\n",
    "            nn.Flatten(),\n",
    "            nn.Linear(in_features=cnn_hidden_shape*8*8, out_features=classif_hiiden_shape),\n",
    "            nn.ReLU(),\n",
    "            nn.Linear(classif_hiiden_shape, 500),\n",
    "            nn.ReLU(),\n",
    "            nn.Linear(500, out_shape)\n",
    "        )\n",
    "    \n",
    "#     def classification_layer(self, x):\n",
    "#         self.flat = nn.Flatten()\n",
    "#         self.l1 = nn.Linear(in_features=self.flat(x).shape[1], out_features=self.classif_hiiden_shape).to(device)\n",
    "#         self.l2 = nn.Linear(self.classif_hiiden_shape, 500).to(device)\n",
    "#         self.l3 = nn.Linear(500, self.out_shape).to(device)\n",
    "#         self.relu = nn.ReLU()\n",
    "        \n",
    "#         x = self.flat(x)\n",
    "# #         print(\"xxx\", x, x.shape)\n",
    "#         x = self.l1(x)\n",
    "#         x = self.relu(x)\n",
    "#         x = self.l2(x)\n",
    "#         x = self.relu(x)\n",
    "#         x = self.l3(x)\n",
    "#         return(x)\n",
    "        \n",
    "    def forward(self, x):\n",
    "        x = self.block1(x)\n",
    "#         print(\"Block 1:\", x.shape)\n",
    "        x = self.block2(x)\n",
    "#         print(\"Block 2:\", x.shape)\n",
    "        \n",
    "        X = self.block3(x)\n",
    "#         print(x.shape)\n",
    "        \n",
    "#         self.calc_flat_inp(x)\n",
    "        x = self.classif(x)\n",
    "#         print(\"classif:\", x.shape)\n",
    "        return x"
   ]
  },
  {
   "cell_type": "code",
   "execution_count": 16,
   "id": "16685574",
   "metadata": {},
   "outputs": [],
   "source": [
    "model0 = CNNCIFAR10_CLF(inp_shape=3,\n",
    "                       cnn_hidden_shape=16,\n",
    "                       classif_hiiden_shape=1000,\n",
    "                       out_shape=len(obj_class)).to(device)\n",
    "\n",
    "model0 = nn.DataParallel(model0)"
   ]
  },
  {
   "cell_type": "code",
   "execution_count": 17,
   "id": "63d1cf79",
   "metadata": {},
   "outputs": [
    {
     "data": {
      "text/plain": [
       "2588190"
      ]
     },
     "execution_count": 17,
     "metadata": {},
     "output_type": "execute_result"
    }
   ],
   "source": [
    "sum(p.numel() for p in model0.parameters()) # total prams"
   ]
  },
  {
   "cell_type": "code",
   "execution_count": 18,
   "id": "d6c4fc4a",
   "metadata": {},
   "outputs": [
    {
     "data": {
      "text/plain": [
       "2588190"
      ]
     },
     "execution_count": 18,
     "metadata": {},
     "output_type": "execute_result"
    }
   ],
   "source": [
    "sum(p.numel() for p in model0.parameters() if p.requires_grad) # trainable_prams"
   ]
  },
  {
   "cell_type": "code",
   "execution_count": 19,
   "id": "5281a271",
   "metadata": {},
   "outputs": [
    {
     "name": "stderr",
     "output_type": "stream",
     "text": [
      "Clipping input data to the valid range for imshow with RGB data ([0..1] for floats or [0..255] for integers).\n"
     ]
    },
    {
     "data": {
      "text/plain": [
       "<matplotlib.image.AxesImage at 0x7f59e5a69f60>"
      ]
     },
     "execution_count": 19,
     "metadata": {},
     "output_type": "execute_result"
    },
    {
     "data": {
      "image/png": "[encoded data removed]",
      "text/plain": [
       "<Figure size 640x480 with 1 Axes>"
      ]
     },
     "metadata": {},
     "output_type": "display_data"
    }
   ],
   "source": [
    "## temp data\n",
    "tmp_img = torch.randn([1,3,32,32])\n",
    "\n",
    "plt.imshow(np.transpose(tmp_img[0], [1,2,0]))"
   ]
  },
  {
   "cell_type": "code",
   "execution_count": 20,
   "id": "75ec948a",
   "metadata": {},
   "outputs": [
    {
     "data": {
      "text/plain": [
       "tensor([[-0.0435,  0.0457, -0.0274, -0.0383,  0.0125, -0.0384, -0.0042, -0.0020,\n",
       "         -0.0002, -0.0440]], device='cuda:0', grad_fn=<AddmmBackward0>)"
      ]
     },
     "execution_count": 20,
     "metadata": {},
     "output_type": "execute_result"
    }
   ],
   "source": [
    "model0(tmp_img.to(device))"
   ]
  },
  {
   "cell_type": "code",
   "execution_count": 21,
   "id": "bfeb8046",
   "metadata": {},
   "outputs": [],
   "source": [
    "## loss and optim"
   ]
  },
  {
   "cell_type": "code",
   "execution_count": 22,
   "id": "8acf036d",
   "metadata": {},
   "outputs": [],
   "source": [
    "loss_fn = nn.CrossEntropyLoss()\n",
    "optim_fn = torch.optim.Adam(params=model0.parameters(), lr=0.0001)"
   ]
  },
  {
   "cell_type": "code",
   "execution_count": 23,
   "id": "d2129f4c",
   "metadata": {},
   "outputs": [],
   "source": [
    "acc_score = Accuracy(task=\"multiclass\", num_classes=len(obj_class)).to(device)"
   ]
  },
  {
   "cell_type": "code",
   "execution_count": 24,
   "id": "137f2dbd",
   "metadata": {
    "scrolled": false
   },
   "outputs": [
    {
     "name": "stdout",
     "output_type": "stream",
     "text": [
      "Epoch: 0 | Train_loss: 1.78 | Test_loss: 1.55 | Train_acc: 34.98 | Test_acc: 42.59 | Tot_Time: 6.870547294616699\n",
      "Epoch: 1 | Train_loss: 1.50 | Test_loss: 1.38 | Train_acc: 44.98 | Test_acc: 49.51 | Tot_Time: 6.500678062438965\n",
      "Epoch: 2 | Train_loss: 1.40 | Test_loss: 1.29 | Train_acc: 49.08 | Test_acc: 53.17 | Tot_Time: 6.738807678222656\n",
      "Epoch: 3 | Train_loss: 1.31 | Test_loss: 1.20 | Train_acc: 52.41 | Test_acc: 57.15 | Tot_Time: 6.851980209350586\n",
      "Epoch: 4 | Train_loss: 1.24 | Test_loss: 1.12 | Train_acc: 55.26 | Test_acc: 59.62 | Tot_Time: 6.854910850524902\n",
      "Epoch: 5 | Train_loss: 1.18 | Test_loss: 1.06 | Train_acc: 57.57 | Test_acc: 61.46 | Tot_Time: 6.960414409637451\n",
      "Epoch: 6 | Train_loss: 1.11 | Test_loss: 1.02 | Train_acc: 60.09 | Test_acc: 64.06 | Tot_Time: 6.8390302658081055\n",
      "Epoch: 7 | Train_loss: 1.07 | Test_loss: 0.97 | Train_acc: 61.70 | Test_acc: 65.52 | Tot_Time: 6.931263446807861\n",
      "Epoch: 8 | Train_loss: 1.03 | Test_loss: 0.93 | Train_acc: 63.06 | Test_acc: 67.06 | Tot_Time: 6.934036493301392\n",
      "Epoch: 9 | Train_loss: 0.99 | Test_loss: 0.92 | Train_acc: 64.43 | Test_acc: 67.58 | Tot_Time: 6.978438854217529\n",
      "Epoch: 10 | Train_loss: 0.96 | Test_loss: 0.90 | Train_acc: 65.92 | Test_acc: 69.09 | Tot_Time: 6.811887979507446\n",
      "Epoch: 11 | Train_loss: 0.93 | Test_loss: 0.87 | Train_acc: 67.25 | Test_acc: 69.33 | Tot_Time: 6.795457363128662\n",
      "Epoch: 12 | Train_loss: 0.90 | Test_loss: 0.87 | Train_acc: 68.27 | Test_acc: 69.28 | Tot_Time: 6.893319845199585\n",
      "Epoch: 13 | Train_loss: 0.87 | Test_loss: 0.85 | Train_acc: 69.24 | Test_acc: 70.26 | Tot_Time: 7.187603235244751\n",
      "Epoch: 14 | Train_loss: 0.85 | Test_loss: 0.81 | Train_acc: 70.05 | Test_acc: 72.33 | Tot_Time: 7.008372783660889\n",
      "Epoch: 15 | Train_loss: 0.83 | Test_loss: 0.81 | Train_acc: 70.80 | Test_acc: 71.84 | Tot_Time: 8.700549840927124\n",
      "Epoch: 16 | Train_loss: 0.80 | Test_loss: 0.76 | Train_acc: 71.70 | Test_acc: 73.79 | Tot_Time: 7.50507664680481\n",
      "Epoch: 17 | Train_loss: 0.78 | Test_loss: 0.77 | Train_acc: 72.67 | Test_acc: 72.75 | Tot_Time: 7.395425796508789\n",
      "Epoch: 18 | Train_loss: 0.76 | Test_loss: 0.74 | Train_acc: 73.18 | Test_acc: 74.49 | Tot_Time: 7.632632255554199\n",
      "Epoch: 19 | Train_loss: 0.74 | Test_loss: 0.73 | Train_acc: 74.16 | Test_acc: 75.14 | Tot_Time: 7.715239524841309\n",
      "Epoch: 20 | Train_loss: 0.72 | Test_loss: 0.72 | Train_acc: 74.37 | Test_acc: 74.96 | Tot_Time: 7.547601222991943\n",
      "Epoch: 21 | Train_loss: 0.71 | Test_loss: 0.71 | Train_acc: 74.96 | Test_acc: 75.34 | Tot_Time: 7.54873251914978\n",
      "Epoch: 22 | Train_loss: 0.69 | Test_loss: 0.71 | Train_acc: 75.63 | Test_acc: 75.21 | Tot_Time: 6.773463010787964\n",
      "Epoch: 23 | Train_loss: 0.68 | Test_loss: 0.69 | Train_acc: 75.93 | Test_acc: 75.96 | Tot_Time: 7.014308214187622\n",
      "Epoch: 24 | Train_loss: 0.67 | Test_loss: 0.68 | Train_acc: 76.45 | Test_acc: 76.24 | Tot_Time: 7.70453667640686\n",
      "Epoch: 25 | Train_loss: 0.65 | Test_loss: 0.70 | Train_acc: 77.38 | Test_acc: 76.37 | Tot_Time: 7.640243768692017\n",
      "Epoch: 26 | Train_loss: 0.63 | Test_loss: 0.68 | Train_acc: 77.77 | Test_acc: 76.66 | Tot_Time: 7.701981067657471\n",
      "Epoch: 27 | Train_loss: 0.63 | Test_loss: 0.66 | Train_acc: 77.93 | Test_acc: 77.26 | Tot_Time: 7.624269247055054\n",
      "Epoch: 28 | Train_loss: 0.61 | Test_loss: 0.68 | Train_acc: 78.59 | Test_acc: 76.55 | Tot_Time: 7.703943729400635\n",
      "Epoch: 29 | Train_loss: 0.60 | Test_loss: 0.66 | Train_acc: 79.13 | Test_acc: 77.30 | Tot_Time: 7.713790416717529\n",
      "Epoch: 30 | Train_loss: 0.59 | Test_loss: 0.67 | Train_acc: 79.10 | Test_acc: 77.53 | Tot_Time: 7.61177134513855\n",
      "Epoch: 31 | Train_loss: 0.58 | Test_loss: 0.64 | Train_acc: 79.55 | Test_acc: 77.92 | Tot_Time: 7.579476594924927\n",
      "Epoch: 32 | Train_loss: 0.57 | Test_loss: 0.64 | Train_acc: 80.01 | Test_acc: 78.21 | Tot_Time: 7.661914348602295\n",
      "Epoch: 33 | Train_loss: 0.56 | Test_loss: 0.65 | Train_acc: 80.15 | Test_acc: 78.29 | Tot_Time: 7.622156143188477\n",
      "Epoch: 34 | Train_loss: 0.55 | Test_loss: 0.64 | Train_acc: 80.74 | Test_acc: 78.19 | Tot_Time: 7.605004072189331\n",
      "Epoch: 35 | Train_loss: 0.54 | Test_loss: 0.64 | Train_acc: 81.00 | Test_acc: 78.34 | Tot_Time: 7.6809375286102295\n",
      "Epoch: 36 | Train_loss: 0.53 | Test_loss: 0.63 | Train_acc: 81.39 | Test_acc: 78.70 | Tot_Time: 7.578279256820679\n",
      "Epoch: 37 | Train_loss: 0.52 | Test_loss: 0.63 | Train_acc: 81.83 | Test_acc: 78.80 | Tot_Time: 7.565368890762329\n",
      "Epoch: 38 | Train_loss: 0.51 | Test_loss: 0.62 | Train_acc: 82.12 | Test_acc: 79.05 | Tot_Time: 7.561145782470703\n",
      "Epoch: 39 | Train_loss: 0.51 | Test_loss: 0.61 | Train_acc: 82.19 | Test_acc: 79.75 | Tot_Time: 7.663572311401367\n",
      "Epoch: 40 | Train_loss: 0.50 | Test_loss: 0.62 | Train_acc: 82.52 | Test_acc: 78.75 | Tot_Time: 6.804924249649048\n",
      "Epoch: 41 | Train_loss: 0.49 | Test_loss: 0.62 | Train_acc: 83.01 | Test_acc: 78.89 | Tot_Time: 6.588310480117798\n",
      "Epoch: 42 | Train_loss: 0.48 | Test_loss: 0.63 | Train_acc: 83.18 | Test_acc: 79.35 | Tot_Time: 6.787694215774536\n",
      "Epoch: 43 | Train_loss: 0.47 | Test_loss: 0.61 | Train_acc: 83.30 | Test_acc: 79.55 | Tot_Time: 7.016673564910889\n",
      "Epoch: 44 | Train_loss: 0.46 | Test_loss: 0.62 | Train_acc: 83.51 | Test_acc: 79.32 | Tot_Time: 7.133901357650757\n",
      "Epoch: 45 | Train_loss: 0.46 | Test_loss: 0.61 | Train_acc: 83.77 | Test_acc: 79.75 | Tot_Time: 7.1243062019348145\n",
      "Epoch: 46 | Train_loss: 0.45 | Test_loss: 0.62 | Train_acc: 84.16 | Test_acc: 79.75 | Tot_Time: 6.898261308670044\n",
      "Epoch: 47 | Train_loss: 0.44 | Test_loss: 0.61 | Train_acc: 84.43 | Test_acc: 79.93 | Tot_Time: 6.742144346237183\n",
      "Epoch: 48 | Train_loss: 0.44 | Test_loss: 0.62 | Train_acc: 84.58 | Test_acc: 79.97 | Tot_Time: 7.25590968132019\n",
      "Epoch: 49 | Train_loss: 0.43 | Test_loss: 0.63 | Train_acc: 84.97 | Test_acc: 79.34 | Tot_Time: 7.307980060577393\n",
      "Epoch: 50 | Train_loss: 0.42 | Test_loss: 0.65 | Train_acc: 85.36 | Test_acc: 79.39 | Tot_Time: 7.159135341644287\n",
      "Epoch: 51 | Train_loss: 0.41 | Test_loss: 0.62 | Train_acc: 85.39 | Test_acc: 79.89 | Tot_Time: 7.659704208374023\n",
      "Epoch: 52 | Train_loss: 0.41 | Test_loss: 0.62 | Train_acc: 85.58 | Test_acc: 79.78 | Tot_Time: 7.047230958938599\n",
      "Epoch: 53 | Train_loss: 0.40 | Test_loss: 0.64 | Train_acc: 85.86 | Test_acc: 79.53 | Tot_Time: 7.011033058166504\n",
      "Epoch: 54 | Train_loss: 0.40 | Test_loss: 0.63 | Train_acc: 85.99 | Test_acc: 79.81 | Tot_Time: 6.884237051010132\n",
      "Epoch: 55 | Train_loss: 0.39 | Test_loss: 0.63 | Train_acc: 86.32 | Test_acc: 79.80 | Tot_Time: 7.162044286727905\n",
      "Epoch: 56 | Train_loss: 0.38 | Test_loss: 0.63 | Train_acc: 86.26 | Test_acc: 80.13 | Tot_Time: 7.3119471073150635\n",
      "Epoch: 57 | Train_loss: 0.37 | Test_loss: 0.64 | Train_acc: 86.83 | Test_acc: 80.17 | Tot_Time: 6.996850490570068\n",
      "Epoch: 58 | Train_loss: 0.37 | Test_loss: 0.63 | Train_acc: 86.97 | Test_acc: 80.21 | Tot_Time: 7.448956489562988\n",
      "Epoch: 59 | Train_loss: 0.36 | Test_loss: 0.64 | Train_acc: 87.11 | Test_acc: 80.40 | Tot_Time: 8.023472785949707\n",
      "Epoch: 60 | Train_loss: 0.36 | Test_loss: 0.65 | Train_acc: 87.53 | Test_acc: 80.15 | Tot_Time: 7.0822765827178955\n",
      "Epoch: 61 | Train_loss: 0.35 | Test_loss: 0.65 | Train_acc: 87.63 | Test_acc: 80.16 | Tot_Time: 7.0755369663238525\n",
      "Epoch: 62 | Train_loss: 0.34 | Test_loss: 0.64 | Train_acc: 87.85 | Test_acc: 80.38 | Tot_Time: 7.440072536468506\n",
      "Epoch: 63 | Train_loss: 0.34 | Test_loss: 0.65 | Train_acc: 88.15 | Test_acc: 80.60 | Tot_Time: 7.350066184997559\n",
      "Epoch: 64 | Train_loss: 0.33 | Test_loss: 0.63 | Train_acc: 88.28 | Test_acc: 80.72 | Tot_Time: 6.927260398864746\n",
      "Epoch: 65 | Train_loss: 0.33 | Test_loss: 0.65 | Train_acc: 88.24 | Test_acc: 80.54 | Tot_Time: 6.911652088165283\n",
      "Epoch: 66 | Train_loss: 0.32 | Test_loss: 0.65 | Train_acc: 88.44 | Test_acc: 80.19 | Tot_Time: 6.895413160324097\n",
      "Epoch: 67 | Train_loss: 0.32 | Test_loss: 0.65 | Train_acc: 88.62 | Test_acc: 80.81 | Tot_Time: 7.081151008605957\n",
      "Epoch: 68 | Train_loss: 0.31 | Test_loss: 0.68 | Train_acc: 89.01 | Test_acc: 80.47 | Tot_Time: 7.15113377571106\n",
      "Epoch: 69 | Train_loss: 0.31 | Test_loss: 0.69 | Train_acc: 89.21 | Test_acc: 80.22 | Tot_Time: 6.956804990768433\n",
      "Epoch: 70 | Train_loss: 0.31 | Test_loss: 0.65 | Train_acc: 89.15 | Test_acc: 80.99 | Tot_Time: 6.984185218811035\n",
      "Epoch: 71 | Train_loss: 0.30 | Test_loss: 0.68 | Train_acc: 89.21 | Test_acc: 80.42 | Tot_Time: 6.866520643234253\n"
     ]
    },
    {
     "name": "stdout",
     "output_type": "stream",
     "text": [
      "Epoch: 72 | Train_loss: 0.30 | Test_loss: 0.67 | Train_acc: 89.46 | Test_acc: 81.09 | Tot_Time: 6.858785152435303\n",
      "Epoch: 73 | Train_loss: 0.29 | Test_loss: 0.68 | Train_acc: 89.58 | Test_acc: 80.44 | Tot_Time: 7.521502256393433\n",
      "Epoch: 74 | Train_loss: 0.29 | Test_loss: 0.68 | Train_acc: 89.72 | Test_acc: 80.38 | Tot_Time: 7.585809946060181\n",
      "Epoch: 75 | Train_loss: 0.28 | Test_loss: 0.68 | Train_acc: 89.98 | Test_acc: 80.86 | Tot_Time: 7.061185598373413\n",
      "Epoch: 76 | Train_loss: 0.28 | Test_loss: 0.69 | Train_acc: 90.22 | Test_acc: 81.00 | Tot_Time: 7.07199239730835\n",
      "Epoch: 77 | Train_loss: 0.28 | Test_loss: 0.69 | Train_acc: 90.14 | Test_acc: 80.40 | Tot_Time: 6.749029159545898\n",
      "Epoch: 78 | Train_loss: 0.27 | Test_loss: 0.68 | Train_acc: 90.51 | Test_acc: 80.99 | Tot_Time: 7.08056902885437\n",
      "Epoch: 79 | Train_loss: 0.27 | Test_loss: 0.70 | Train_acc: 90.49 | Test_acc: 80.91 | Tot_Time: 6.786983251571655\n",
      "Epoch: 80 | Train_loss: 0.26 | Test_loss: 0.70 | Train_acc: 90.82 | Test_acc: 80.77 | Tot_Time: 6.693647146224976\n",
      "Epoch: 81 | Train_loss: 0.26 | Test_loss: 0.68 | Train_acc: 90.87 | Test_acc: 80.92 | Tot_Time: 6.563166856765747\n",
      "Epoch: 82 | Train_loss: 0.25 | Test_loss: 0.71 | Train_acc: 90.99 | Test_acc: 80.30 | Tot_Time: 6.71221137046814\n",
      "Epoch: 83 | Train_loss: 0.25 | Test_loss: 0.71 | Train_acc: 91.00 | Test_acc: 80.65 | Tot_Time: 6.872178316116333\n",
      "Epoch: 84 | Train_loss: 0.25 | Test_loss: 0.69 | Train_acc: 91.27 | Test_acc: 81.12 | Tot_Time: 7.214047431945801\n",
      "Epoch: 85 | Train_loss: 0.24 | Test_loss: 0.69 | Train_acc: 91.44 | Test_acc: 81.28 | Tot_Time: 7.7068586349487305\n",
      "Epoch: 86 | Train_loss: 0.24 | Test_loss: 0.72 | Train_acc: 91.56 | Test_acc: 80.29 | Tot_Time: 7.119013786315918\n",
      "Epoch: 87 | Train_loss: 0.24 | Test_loss: 0.71 | Train_acc: 91.71 | Test_acc: 80.93 | Tot_Time: 7.149719953536987\n",
      "Epoch: 88 | Train_loss: 0.23 | Test_loss: 0.71 | Train_acc: 91.80 | Test_acc: 80.88 | Tot_Time: 6.938709020614624\n",
      "Epoch: 89 | Train_loss: 0.22 | Test_loss: 0.77 | Train_acc: 92.08 | Test_acc: 80.12 | Tot_Time: 6.797292947769165\n",
      "Epoch: 90 | Train_loss: 0.23 | Test_loss: 0.74 | Train_acc: 92.00 | Test_acc: 80.82 | Tot_Time: 6.77508020401001\n",
      "Epoch: 91 | Train_loss: 0.22 | Test_loss: 0.74 | Train_acc: 92.21 | Test_acc: 81.01 | Tot_Time: 6.726609706878662\n",
      "Epoch: 92 | Train_loss: 0.22 | Test_loss: 0.74 | Train_acc: 92.26 | Test_acc: 80.68 | Tot_Time: 7.344491720199585\n",
      "Epoch: 93 | Train_loss: 0.22 | Test_loss: 0.74 | Train_acc: 92.31 | Test_acc: 80.86 | Tot_Time: 6.803704738616943\n",
      "Epoch: 94 | Train_loss: 0.21 | Test_loss: 0.74 | Train_acc: 92.53 | Test_acc: 80.72 | Tot_Time: 6.705899477005005\n",
      "Epoch: 95 | Train_loss: 0.21 | Test_loss: 0.74 | Train_acc: 92.56 | Test_acc: 80.95 | Tot_Time: 6.8962225914001465\n",
      "Epoch: 96 | Train_loss: 0.20 | Test_loss: 0.77 | Train_acc: 92.74 | Test_acc: 81.14 | Tot_Time: 6.964121341705322\n",
      "Epoch: 97 | Train_loss: 0.21 | Test_loss: 0.75 | Train_acc: 92.70 | Test_acc: 81.36 | Tot_Time: 6.6501593589782715\n",
      "Epoch: 98 | Train_loss: 0.20 | Test_loss: 0.78 | Train_acc: 92.90 | Test_acc: 80.87 | Tot_Time: 6.717144012451172\n",
      "Epoch: 99 | Train_loss: 0.20 | Test_loss: 0.78 | Train_acc: 92.95 | Test_acc: 80.88 | Tot_Time: 7.600005865097046\n"
     ]
    }
   ],
   "source": [
    "## train loop\n",
    "import time\n",
    "\n",
    "epochs = 100\n",
    "for e in range(epochs):\n",
    "    start = time.time()\n",
    "    model0.train()\n",
    "    \n",
    "    train_loss, train_acc = 0,0\n",
    "    for X_tr, y_tr in train_loader:\n",
    "        X_tr, y_tr = X_tr.to(device), y_tr.to(device)\n",
    "        \n",
    "        y_logits = model0(X_tr)\n",
    "        loss = loss_fn(y_logits, y_tr)\n",
    "        \n",
    "        train_loss +=loss\n",
    "        train_acc += acc_score(y_logits, y_tr)\n",
    "        \n",
    "        optim_fn.zero_grad()\n",
    "        loss.backward()\n",
    "        optim_fn.step()\n",
    "    \n",
    "    train_loss /= len(train_loader)\n",
    "    train_acc /= len(train_loader)\n",
    "    \n",
    "    model0.eval()\n",
    "    test_loss, test_acc = 0,0\n",
    "    for X_te, y_te in test_loader:\n",
    "        X_te, y_te = X_te.to(device), y_te.to(device)\n",
    "        \n",
    "        y_temp = model0(X_te)\n",
    "        test_loss += loss_fn(y_temp, y_te)\n",
    "        test_acc += acc_score(y_temp, y_te)\n",
    "    \n",
    "    test_loss /= len(test_loader)\n",
    "    test_acc /= len(test_loader)\n",
    "    \n",
    "    print(f\"Epoch: {e} | Train_loss: {train_loss:.2f} | Test_loss: {test_loss:.2f} | Train_acc: {train_acc*100:.2f} | Test_acc: {test_acc*100:.2f} | Tot_Time: {time.time()-start}\")\n",
    "        "
   ]
  },
  {
   "cell_type": "code",
   "execution_count": 25,
   "id": "f1a9aa8e",
   "metadata": {},
   "outputs": [],
   "source": [
    "# import gc\n",
    "# gc.collect()\n",
    "# torch.cuda.empty_cache()\n",
    "# del model0"
   ]
  },
  {
   "cell_type": "code",
   "execution_count": 26,
   "id": "0d0c988e",
   "metadata": {},
   "outputs": [
    {
     "name": "stdout",
     "output_type": "stream",
     "text": [
      "[9. 9. 9. 3. 5. 8. 3. 2. 8. 7.]\n",
      "[9. 9. 9. 3. 3. 8. 3. 2. 8. 7.]\n"
     ]
    }
   ],
   "source": [
    "import numpy as np\n",
    "y_preds_test = np.array([])\n",
    "y_og = np.array([])\n",
    "for X,y in test_loader:\n",
    "    X,y = X.to(device), y.to(device)\n",
    "    y_preds_test = np.append(y_preds_test, model0(X).argmax(dim=1).cpu().detach().numpy())\n",
    "    y_og = np.append(y_og, y.cpu().detach().numpy())\n",
    "print(y_preds_test[:10])\n",
    "print(y_og[:10])"
   ]
  },
  {
   "cell_type": "code",
   "execution_count": 27,
   "id": "1ade66d0",
   "metadata": {},
   "outputs": [
    {
     "data": {
      "text/plain": [
       "array([[872,  14,  75,  20,  21,  13,   5,  14,  41,  40],\n",
       "       [ 16, 917,   6,   5,   2,   6,   3,   3,  21,  69],\n",
       "       [ 15,   2, 648,  39,  38,  19,  27,  14,   1,   1],\n",
       "       [ 10,   4,  49, 643,  39, 155,  36,  26,   4,   7],\n",
       "       [  9,   1,  70,  39, 796,  33,  18,  35,   1,   1],\n",
       "       [  3,   2,  38, 154,  27, 721,  16,  36,   5,   4],\n",
       "       [  8,   7,  70,  52,  42,  22, 886,  10,   4,   1],\n",
       "       [  6,   1,  25,  34,  29,  26,   5, 856,   3,   8],\n",
       "       [ 50,  18,  11,  12,   6,   4,   4,   2, 911,  34],\n",
       "       [ 11,  34,   8,   2,   0,   1,   0,   4,   9, 835]])"
      ]
     },
     "execution_count": 27,
     "metadata": {},
     "output_type": "execute_result"
    }
   ],
   "source": [
    "from sklearn.metrics import confusion_matrix\n",
    "\n",
    "confMat = confusion_matrix(y_preds_test, y_og)\n",
    "confMat"
   ]
  },
  {
   "cell_type": "code",
   "execution_count": null,
   "id": "1be89626",
   "metadata": {},
   "outputs": [],
   "source": []
  },
  {
   "cell_type": "code",
   "execution_count": 31,
   "id": "fb1fae2d",
   "metadata": {},
   "outputs": [
    {
     "data": {
      "text/plain": [
       "(<Figure size 1000x700 with 1 Axes>,\n",
       " <AxesSubplot:xlabel='predicted label', ylabel='true label'>)"
      ]
     },
     "execution_count": 31,
     "metadata": {},
     "output_type": "execute_result"
    },
    {
     "data": {
      "image/png": "[encoded data removed]",
      "text/plain": [
       "<Figure size 1000x700 with 1 Axes>"
      ]
     },
     "metadata": {},
     "output_type": "display_data"
    }
   ],
   "source": [
    "plot_confusion_matrix(confMat, figsize=(10,7), class_names=obj_class)"
   ]
  },
  {
   "cell_type": "code",
   "execution_count": 32,
   "id": "d6870835",
   "metadata": {},
   "outputs": [],
   "source": [
    "a = [1,2]"
   ]
  },
  {
   "cell_type": "code",
   "execution_count": 33,
   "id": "6618ac0f",
   "metadata": {},
   "outputs": [
    {
     "name": "stdout",
     "output_type": "stream",
     "text": [
      "1 2\n"
     ]
    }
   ],
   "source": [
    "print(*a)"
   ]
  },
  {
   "cell_type": "code",
   "execution_count": 34,
   "id": "ea6afa6f",
   "metadata": {},
   "outputs": [],
   "source": [
    "## saving model\n",
    "\n",
    "torch.save(model0, \"model_cifar_80_test.pth\")"
   ]
  },
  {
   "cell_type": "code",
   "execution_count": null,
   "id": "b0490e27",
   "metadata": {},
   "outputs": [],
   "source": []
  },
  {
   "cell_type": "code",
   "execution_count": null,
   "id": "7cf7e51a",
   "metadata": {},
   "outputs": [],
   "source": []
  },
  {
   "cell_type": "code",
   "execution_count": null,
   "id": "2dbdc234",
   "metadata": {},
   "outputs": [],
   "source": []
  },
  {
   "cell_type": "code",
   "execution_count": null,
   "id": "92163681",
   "metadata": {},
   "outputs": [],
   "source": []
  },
  {
   "cell_type": "code",
   "execution_count": null,
   "id": "d1257d9b",
   "metadata": {},
   "outputs": [],
   "source": []
  },
  {
   "cell_type": "code",
   "execution_count": null,
   "id": "7352121b",
   "metadata": {},
   "outputs": [],
   "source": []
  },
  {
   "cell_type": "code",
   "execution_count": null,
   "id": "f535be76",
   "metadata": {},
   "outputs": [],
   "source": []
  },
  {
   "cell_type": "code",
   "execution_count": null,
   "id": "f20c0bfb",
   "metadata": {},
   "outputs": [],
   "source": []
  },
  {
   "cell_type": "code",
   "execution_count": null,
   "id": "a9a0056c",
   "metadata": {},
   "outputs": [],
   "source": []
  },
  {
   "cell_type": "code",
   "execution_count": null,
   "id": "46e7afef",
   "metadata": {},
   "outputs": [],
   "source": []
  },
  {
   "cell_type": "code",
   "execution_count": null,
   "id": "f5e349d8",
   "metadata": {},
   "outputs": [],
   "source": []
  }
 ],
 "metadata": {
  "kernelspec": {
   "display_name": "Python 3 (ipykernel)",
   "language": "python",
   "name": "python3"
  },
  "language_info": {
   "codemirror_mode": {
    "name": "ipython",
    "version": 3
   },
   "file_extension": ".py",
   "mimetype": "text/x-python",
   "name": "python",
   "nbconvert_exporter": "python",
   "pygments_lexer": "ipython3",
   "version": "3.10.12"
  }
 },
 "nbformat": 4,
 "nbformat_minor": 5
}
