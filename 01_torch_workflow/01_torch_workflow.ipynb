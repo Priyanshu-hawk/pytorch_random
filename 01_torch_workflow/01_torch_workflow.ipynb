{
 "cells": [
  {
   "cell_type": "code",
   "execution_count": 1,
   "id": "e35a68a1",
   "metadata": {},
   "outputs": [],
   "source": [
    "## Objective\n",
    "\n",
    "what_we_do = {0: 'Data prep',\n",
    "              1: 'Building model', \n",
    "             2: 'Training/fit model',\n",
    "             3: 'Make preds/evals',\n",
    "             5: 'saving loading',\n",
    "             6: 'putting it all togather'}"
   ]
  },
  {
   "cell_type": "code",
   "execution_count": 2,
   "id": "91a0f13e",
   "metadata": {},
   "outputs": [],
   "source": [
    "import torch\n",
    "from torch import nn\n",
    "import matplotlib.pyplot as plt\n"
   ]
  },
  {
   "cell_type": "code",
   "execution_count": 3,
   "id": "7c0723f3",
   "metadata": {},
   "outputs": [],
   "source": [
    "# basic liner regression\n",
    "\n",
    "weight = 0.7\n",
    "bias = 0.3\n",
    "\n",
    "x = torch.arange(0,1,0.02).unsqueeze(dim=1)\n",
    "y = weight * x + bias"
   ]
  },
  {
   "cell_type": "code",
   "execution_count": 4,
   "id": "0ae54916",
   "metadata": {},
   "outputs": [
    {
     "data": {
      "text/plain": [
       "(tensor([[0.3000],\n",
       "         [0.3140],\n",
       "         [0.3280],\n",
       "         [0.3420],\n",
       "         [0.3560],\n",
       "         [0.3700],\n",
       "         [0.3840],\n",
       "         [0.3980],\n",
       "         [0.4120],\n",
       "         [0.4260]]),\n",
       " tensor([[0.0000],\n",
       "         [0.0200],\n",
       "         [0.0400],\n",
       "         [0.0600],\n",
       "         [0.0800],\n",
       "         [0.1000],\n",
       "         [0.1200],\n",
       "         [0.1400],\n",
       "         [0.1600],\n",
       "         [0.1800]]))"
      ]
     },
     "execution_count": 4,
     "metadata": {},
     "output_type": "execute_result"
    }
   ],
   "source": [
    "y[:10], x[:10]"
   ]
  },
  {
   "cell_type": "code",
   "execution_count": 5,
   "id": "9aa1e75c",
   "metadata": {},
   "outputs": [
    {
     "data": {
      "text/plain": [
       "<matplotlib.collections.PathCollection at 0x7f175aef4310>"
      ]
     },
     "execution_count": 5,
     "metadata": {},
     "output_type": "execute_result"
    },
    {
     "data": {
      "image/png": "[encoded data removed]",
      "text/plain": [
       "<Figure size 640x480 with 1 Axes>"
      ]
     },
     "metadata": {},
     "output_type": "display_data"
    }
   ],
   "source": [
    "plt.scatter(x,y)"
   ]
  },
  {
   "cell_type": "code",
   "execution_count": 6,
   "id": "0c63822c",
   "metadata": {},
   "outputs": [],
   "source": [
    "split_point = int((1 - 0.2) * len(x))"
   ]
  },
  {
   "cell_type": "code",
   "execution_count": 7,
   "id": "31e9ffce",
   "metadata": {},
   "outputs": [
    {
     "data": {
      "text/plain": [
       "40"
      ]
     },
     "execution_count": 7,
     "metadata": {},
     "output_type": "execute_result"
    }
   ],
   "source": [
    "split_point"
   ]
  },
  {
   "cell_type": "code",
   "execution_count": 8,
   "id": "0d896c4e",
   "metadata": {},
   "outputs": [],
   "source": [
    "x_train, x_test = x[:split_point], x[split_point:]\n",
    "y_train, y_test = y[:split_point], y[split_point:]"
   ]
  },
  {
   "cell_type": "code",
   "execution_count": 9,
   "id": "bf6dce83",
   "metadata": {},
   "outputs": [
    {
     "data": {
      "text/plain": [
       "(torch.Size([40, 1]),\n",
       " torch.Size([10, 1]),\n",
       " torch.Size([40, 1]),\n",
       " torch.Size([10, 1]))"
      ]
     },
     "execution_count": 9,
     "metadata": {},
     "output_type": "execute_result"
    }
   ],
   "source": [
    "x_train.shape, x_test.shape, y_train.shape, y_test.shape"
   ]
  },
  {
   "cell_type": "markdown",
   "id": "ccf8b17d",
   "metadata": {},
   "source": [
    "## required_grad = True\n",
    "it is for gradent decent and update parameter "
   ]
  },
  {
   "cell_type": "markdown",
   "id": "f5f1212d",
   "metadata": {},
   "source": [
    "### Pytorch model building essentials\n",
    "\n",
    "* torch.nn - contains all of the neural net\n",
    "* torch.nn.Parameter - what parameters should our model try and learn.\n",
    "* torch.nn.Module - The base class for all nn modules, should overwritte forward()\n",
    "* torch.optim - optimizers\n",
    "* torch.utils.data.Dataset - for torch already have dataset\n",
    "* torch.utils.data.DataLoader - for dataloader.\n"
   ]
  },
  {
   "cell_type": "code",
   "execution_count": 10,
   "id": "53c48193",
   "metadata": {},
   "outputs": [],
   "source": [
    "class LinerReg(nn.Module):\n",
    "    def __init__(self):\n",
    "        super().__init__()\n",
    "        self.w = nn.Parameter(torch.randn(1,\n",
    "                                         dtype=torch.float))\n",
    "        self.b = nn.Parameter(torch.randn(1,\n",
    "                                         dtype=torch.float\n",
    "                                         ))\n",
    "        \n",
    "    ## forward\n",
    "        \n",
    "    def forward(self, x: torch.Tensor) -> torch.Tensor:\n",
    "            return self.w * x + self.b"
   ]
  },
  {
   "cell_type": "code",
   "execution_count": 11,
   "id": "cef1ec27",
   "metadata": {
    "scrolled": true
   },
   "outputs": [
    {
     "data": {
      "text/plain": [
       "[Parameter containing:\n",
       " tensor([0.3367], requires_grad=True),\n",
       " Parameter containing:\n",
       " tensor([0.1288], requires_grad=True)]"
      ]
     },
     "execution_count": 11,
     "metadata": {},
     "output_type": "execute_result"
    }
   ],
   "source": [
    "torch.manual_seed(42)\n",
    "mod = LinerReg()\n",
    "list(mod.parameters())"
   ]
  },
  {
   "cell_type": "code",
   "execution_count": 12,
   "id": "17a033a7",
   "metadata": {},
   "outputs": [
    {
     "data": {
      "text/plain": [
       "OrderedDict([('w', tensor([0.3367])), ('b', tensor([0.1288]))])"
      ]
     },
     "execution_count": 12,
     "metadata": {},
     "output_type": "execute_result"
    }
   ],
   "source": [
    "mod.state_dict()"
   ]
  },
  {
   "cell_type": "markdown",
   "id": "28fd13ea",
   "metadata": {},
   "source": [
    "## making prediction using `torch.inference_mode()`\n",
    "\n",
    "To Check our model's preds"
   ]
  },
  {
   "cell_type": "code",
   "execution_count": 13,
   "id": "426f8851",
   "metadata": {},
   "outputs": [
    {
     "data": {
      "text/plain": [
       "tensor([[0.3982],\n",
       "        [0.4049],\n",
       "        [0.4116],\n",
       "        [0.4184],\n",
       "        [0.4251],\n",
       "        [0.4318],\n",
       "        [0.4386],\n",
       "        [0.4453],\n",
       "        [0.4520],\n",
       "        [0.4588]])"
      ]
     },
     "execution_count": 13,
     "metadata": {},
     "output_type": "execute_result"
    }
   ],
   "source": [
    "#Prediction using model\n",
    "\n",
    "with torch.inference_mode(): # dosent add extra grad \n",
    "    y_preds = mod(x_test)\n",
    "\n",
    "y_preds"
   ]
  },
  {
   "cell_type": "code",
   "execution_count": null,
   "id": "940c8fb4",
   "metadata": {},
   "outputs": [],
   "source": []
  },
  {
   "cell_type": "code",
   "execution_count": 14,
   "id": "a09b577d",
   "metadata": {},
   "outputs": [
    {
     "data": {
      "text/plain": [
       "<matplotlib.collections.PathCollection at 0x7f1758c04e20>"
      ]
     },
     "execution_count": 14,
     "metadata": {},
     "output_type": "execute_result"
    },
    {
     "data": {
      "image/png": "[encoded data removed]",
      "text/plain": [
       "<Figure size 640x480 with 1 Axes>"
      ]
     },
     "metadata": {},
     "output_type": "display_data"
    }
   ],
   "source": [
    "plt.scatter(x_test,y_preds)\n",
    "plt.scatter(x_test, y_test)\n",
    "plt.scatter(x_train, y_train)"
   ]
  },
  {
   "cell_type": "markdown",
   "id": "4d54483c",
   "metadata": {},
   "source": [
    "#  Training\n",
    "\n",
    "* loss fn\n",
    "* optimizers"
   ]
  },
  {
   "cell_type": "code",
   "execution_count": 15,
   "id": "595c443f",
   "metadata": {},
   "outputs": [],
   "source": [
    "#loss\n",
    "loss_fn = nn.L1Loss()\n",
    "\n",
    "# optimizers\n",
    "optimizer_fn = torch.optim.SGD(mod.parameters(), lr=0.001, momentum=0.6)"
   ]
  },
  {
   "cell_type": "code",
   "execution_count": 16,
   "id": "801860dc",
   "metadata": {},
   "outputs": [
    {
     "data": {
      "text/plain": [
       "(SGD (\n",
       " Parameter Group 0\n",
       "     dampening: 0\n",
       "     differentiable: False\n",
       "     foreach: None\n",
       "     fused: None\n",
       "     lr: 0.001\n",
       "     maximize: False\n",
       "     momentum: 0.6\n",
       "     nesterov: False\n",
       "     weight_decay: 0\n",
       " ),\n",
       " L1Loss())"
      ]
     },
     "execution_count": 16,
     "metadata": {},
     "output_type": "execute_result"
    }
   ],
   "source": [
    "optimizer_fn, loss_fn"
   ]
  },
  {
   "cell_type": "code",
   "execution_count": 17,
   "id": "31d631bc",
   "metadata": {
    "scrolled": true
   },
   "outputs": [
    {
     "name": "stdout",
     "output_type": "stream",
     "text": [
      "Epoch: 0 train loss: tensor(0.3129, grad_fn=<MeanBackward0>) test loss: tensor(0.4932)\n",
      "Epoch: 100 train loss: tensor(0.0652, grad_fn=<MeanBackward0>) test loss: tensor(0.1821)\n",
      "Epoch: 200 train loss: tensor(0.0418, grad_fn=<MeanBackward0>) test loss: tensor(0.1006)\n",
      "Epoch: 300 train loss: tensor(0.0332, grad_fn=<MeanBackward0>) test loss: tensor(0.0773)\n",
      "Epoch: 400 train loss: tensor(0.0246, grad_fn=<MeanBackward0>) test loss: tensor(0.0573)\n",
      "Epoch: 500 train loss: tensor(0.0160, grad_fn=<MeanBackward0>) test loss: tensor(0.0372)\n",
      "Epoch: 600 train loss: tensor(0.0074, grad_fn=<MeanBackward0>) test loss: tensor(0.0171)\n",
      "Epoch: 700 train loss: tensor(0.0002, grad_fn=<MeanBackward0>) test loss: tensor(0.0011)\n",
      "Epoch: 800 train loss: tensor(0.0002, grad_fn=<MeanBackward0>) test loss: tensor(0.0011)\n",
      "Epoch: 900 train loss: tensor(0.0002, grad_fn=<MeanBackward0>) test loss: tensor(0.0011)\n"
     ]
    }
   ],
   "source": [
    "epochs = 1000\n",
    "\n",
    "epoch_c = []\n",
    "train_loss_c = []\n",
    "test_loss_c = []\n",
    "\n",
    "for e in range(epochs):\n",
    "    mod.train() # sets all gradent parameter active\n",
    "    \n",
    "    # 1. forward\n",
    "    y_pred = mod(x_train)\n",
    "    \n",
    "    # 2. calc loss\n",
    "    loss = loss_fn(y_train, y_pred)\n",
    "    \n",
    "    \n",
    "    # 3. optimize\n",
    "    optimizer_fn.zero_grad()\n",
    "    \n",
    "    # 4. backprop\n",
    "    loss.backward()\n",
    "    \n",
    "    # 5. step optimize, perform gradient decdent\n",
    "    optimizer_fn.step()\n",
    "    \n",
    "    mod.eval() # turn off gradient\n",
    "    \n",
    "    if e%100 == 0:\n",
    "        with torch.inference_mode():\n",
    "            \n",
    "            y_pred =  mod(x_test)\n",
    "            test_loss = loss_fn(y_test, y_pred)\n",
    "            epoch_c.append(e)\n",
    "            train_loss_c.append(loss.detach().numpy())\n",
    "            test_loss_c.append(test_loss)\n",
    "            print(\"Epoch:\",e,\"train loss:\",loss,\"test loss:\",test_loss)\n"
   ]
  },
  {
   "cell_type": "code",
   "execution_count": 18,
   "id": "d79c7169",
   "metadata": {
    "scrolled": false
   },
   "outputs": [
    {
     "data": {
      "text/plain": [
       "([array(0.31288138, dtype=float32),\n",
       "  array(0.06524093, dtype=float32),\n",
       "  array(0.04181075, dtype=float32),\n",
       "  array(0.03316445, dtype=float32),\n",
       "  array(0.02457873, dtype=float32),\n",
       "  array(0.01599354, dtype=float32),\n",
       "  array(0.00740745, dtype=float32),\n",
       "  array(0.00023386, dtype=float32),\n",
       "  array(0.00023334, dtype=float32),\n",
       "  array(0.00023334, dtype=float32)],\n",
       " [tensor(0.4932),\n",
       "  tensor(0.1821),\n",
       "  tensor(0.1006),\n",
       "  tensor(0.0773),\n",
       "  tensor(0.0573),\n",
       "  tensor(0.0372),\n",
       "  tensor(0.0171),\n",
       "  tensor(0.0011),\n",
       "  tensor(0.0011),\n",
       "  tensor(0.0011)],\n",
       " [0, 100, 200, 300, 400, 500, 600, 700, 800, 900])"
      ]
     },
     "execution_count": 18,
     "metadata": {},
     "output_type": "execute_result"
    }
   ],
   "source": [
    "train_loss_c, test_loss_c, epoch_c"
   ]
  },
  {
   "cell_type": "code",
   "execution_count": 19,
   "id": "dc59199d",
   "metadata": {
    "scrolled": false
   },
   "outputs": [
    {
     "data": {
      "image/png": "[encoded data removed]",
      "text/plain": [
       "<Figure size 640x480 with 1 Axes>"
      ]
     },
     "metadata": {},
     "output_type": "display_data"
    }
   ],
   "source": [
    "plt.plot(epoch_c, test_loss_c)\n",
    "plt.plot(epoch_c, train_loss_c)\n",
    "plt.title(\"Train Test Loss\")\n",
    "plt.show()"
   ]
  },
  {
   "cell_type": "code",
   "execution_count": 20,
   "id": "4cd01c54",
   "metadata": {},
   "outputs": [
    {
     "data": {
      "text/plain": [
       "[Parameter containing:\n",
       " tensor([0.7006], requires_grad=True),\n",
       " Parameter containing:\n",
       " tensor([0.3000], requires_grad=True)]"
      ]
     },
     "execution_count": 20,
     "metadata": {},
     "output_type": "execute_result"
    }
   ],
   "source": [
    "list(mod.parameters())"
   ]
  },
  {
   "cell_type": "code",
   "execution_count": 21,
   "id": "ec20bd77",
   "metadata": {
    "scrolled": false
   },
   "outputs": [
    {
     "data": {
      "text/plain": [
       "<matplotlib.collections.PathCollection at 0x7f1743fa0310>"
      ]
     },
     "execution_count": 21,
     "metadata": {},
     "output_type": "execute_result"
    },
    {
     "data": {
      "image/png": "[encoded data removed]",
      "text/plain": [
       "<Figure size 640x480 with 1 Axes>"
      ]
     },
     "metadata": {},
     "output_type": "display_data"
    }
   ],
   "source": [
    "y_preds = mod.forward(x_test).detach().numpy()\n",
    "\n",
    "plt.scatter(x_test,y_preds)\n",
    "plt.scatter(x_test, y_test)"
   ]
  },
  {
   "cell_type": "markdown",
   "id": "2cd4a363",
   "metadata": {},
   "source": [
    "# saving a model in pytorch\n",
    "\n",
    "1. torch.save() -> python pickle format\n",
    "2. torch.load() -> load saved model\n",
    "3. torch.nn.Module.load_state_dict() - load models save state dict\n"
   ]
  },
  {
   "cell_type": "code",
   "execution_count": 22,
   "id": "ddb58130",
   "metadata": {},
   "outputs": [],
   "source": [
    "torch.save(mod.state_dict(),'test.pth') # saving dict - samller in size save dict state only"
   ]
  },
  {
   "cell_type": "code",
   "execution_count": 23,
   "id": "2d034d85",
   "metadata": {},
   "outputs": [],
   "source": [
    "torch.save(mod,'test_mod.pth') # saving model - bigger in size contain more data"
   ]
  },
  {
   "cell_type": "code",
   "execution_count": 24,
   "id": "5c83ae8f",
   "metadata": {},
   "outputs": [
    {
     "name": "stderr",
     "output_type": "stream",
     "text": [
      "/tmp/ipykernel_11300/1201802626.py:1: FutureWarning: You are using `torch.load` with `weights_only=False` (the current default value), which uses the default pickle module implicitly. It is possible to construct malicious pickle data which will execute arbitrary code during unpickling (See https://github.com/pytorch/pytorch/blob/main/SECURITY.md#untrusted-models for more details). In a future release, the default value for `weights_only` will be flipped to `True`. This limits the functions that could be executed during unpickling. Arbitrary objects will no longer be allowed to be loaded via this mode unless they are explicitly allowlisted by the user via `torch.serialization.add_safe_globals`. We recommend you start setting `weights_only=True` for any use case where you don't have full control of the loaded file. Please open an issue on GitHub for any issues related to this experimental feature.\n",
      "  test_load_model = torch.load('./test.pth')\n"
     ]
    }
   ],
   "source": [
    "test_load_model = torch.load('./test.pth')"
   ]
  },
  {
   "cell_type": "code",
   "execution_count": 25,
   "id": "ba0afb9b",
   "metadata": {},
   "outputs": [
    {
     "data": {
      "text/plain": [
       "OrderedDict([('w', tensor([0.7006])), ('b', tensor([0.3000]))])"
      ]
     },
     "execution_count": 25,
     "metadata": {},
     "output_type": "execute_result"
    }
   ],
   "source": [
    "test_load_model"
   ]
  },
  {
   "cell_type": "code",
   "execution_count": 26,
   "id": "f3c74434",
   "metadata": {},
   "outputs": [],
   "source": [
    "# Method 2 to load saved model\n",
    "test_load_model_by_state_dct = LinerReg()"
   ]
  },
  {
   "cell_type": "code",
   "execution_count": 27,
   "id": "bdd42456",
   "metadata": {},
   "outputs": [
    {
     "name": "stderr",
     "output_type": "stream",
     "text": [
      "/tmp/ipykernel_11300/979757094.py:1: FutureWarning: You are using `torch.load` with `weights_only=False` (the current default value), which uses the default pickle module implicitly. It is possible to construct malicious pickle data which will execute arbitrary code during unpickling (See https://github.com/pytorch/pytorch/blob/main/SECURITY.md#untrusted-models for more details). In a future release, the default value for `weights_only` will be flipped to `True`. This limits the functions that could be executed during unpickling. Arbitrary objects will no longer be allowed to be loaded via this mode unless they are explicitly allowlisted by the user via `torch.serialization.add_safe_globals`. We recommend you start setting `weights_only=True` for any use case where you don't have full control of the loaded file. Please open an issue on GitHub for any issues related to this experimental feature.\n",
      "  test_load_model_by_state_dct.load_state_dict(torch.load('./test.pth'))\n"
     ]
    },
    {
     "data": {
      "text/plain": [
       "<All keys matched successfully>"
      ]
     },
     "execution_count": 27,
     "metadata": {},
     "output_type": "execute_result"
    }
   ],
   "source": [
    "test_load_model_by_state_dct.load_state_dict(torch.load('./test.pth'))"
   ]
  },
  {
   "cell_type": "code",
   "execution_count": 28,
   "id": "b65cfe2f",
   "metadata": {},
   "outputs": [
    {
     "data": {
      "text/plain": [
       "OrderedDict([('w', tensor([0.7006])), ('b', tensor([0.3000]))])"
      ]
     },
     "execution_count": 28,
     "metadata": {},
     "output_type": "execute_result"
    }
   ],
   "source": [
    "test_load_model_by_state_dct.state_dict()"
   ]
  },
  {
   "cell_type": "code",
   "execution_count": 29,
   "id": "97fdcc94",
   "metadata": {},
   "outputs": [
    {
     "name": "stdout",
     "output_type": "stream",
     "text": [
      "tensor([[0.8605],\n",
      "        [0.8745],\n",
      "        [0.8885],\n",
      "        [0.9025],\n",
      "        [0.9165],\n",
      "        [0.9305],\n",
      "        [0.9445],\n",
      "        [0.9586],\n",
      "        [0.9726],\n",
      "        [0.9866]]) tensor([[0.8600],\n",
      "        [0.8740],\n",
      "        [0.8880],\n",
      "        [0.9020],\n",
      "        [0.9160],\n",
      "        [0.9300],\n",
      "        [0.9440],\n",
      "        [0.9580],\n",
      "        [0.9720],\n",
      "        [0.9860]])\n"
     ]
    }
   ],
   "source": [
    "test_load_model_by_state_dct.eval()\n",
    "with torch.inference_mode():\n",
    "    load_pred = test_load_model_by_state_dct(x_test)\n",
    "\n",
    "print(load_pred, y_test)"
   ]
  },
  {
   "cell_type": "code",
   "execution_count": 30,
   "id": "7ef6ba3c",
   "metadata": {
    "scrolled": true
   },
   "outputs": [
    {
     "data": {
      "text/plain": [
       "0.0005314529"
      ]
     },
     "execution_count": 30,
     "metadata": {},
     "output_type": "execute_result"
    }
   ],
   "source": [
    "from sklearn.metrics import mean_absolute_error\n",
    "mean_absolute_error(load_pred, y_test) # mse is less bitch"
   ]
  },
  {
   "cell_type": "markdown",
   "id": "b569842f",
   "metadata": {},
   "source": [
    "## Putting it all togather"
   ]
  },
  {
   "cell_type": "code",
   "execution_count": 31,
   "id": "d672c684",
   "metadata": {},
   "outputs": [
    {
     "data": {
      "text/plain": [
       "'2.5.1+cu121'"
      ]
     },
     "execution_count": 31,
     "metadata": {},
     "output_type": "execute_result"
    }
   ],
   "source": [
    "\n",
    "\n",
    "import torch\n",
    "from torch import nn\n",
    "import matplotlib.pyplot as plt\n",
    "torch.__version__"
   ]
  },
  {
   "cell_type": "code",
   "execution_count": 32,
   "id": "983a18c2",
   "metadata": {},
   "outputs": [],
   "source": [
    "device = 'cuda' if torch.cuda.is_available() else 'cpu'"
   ]
  },
  {
   "cell_type": "code",
   "execution_count": 33,
   "id": "22cbadec",
   "metadata": {},
   "outputs": [
    {
     "data": {
      "text/plain": [
       "'cuda'"
      ]
     },
     "execution_count": 33,
     "metadata": {},
     "output_type": "execute_result"
    }
   ],
   "source": [
    "device"
   ]
  },
  {
   "cell_type": "code",
   "execution_count": 56,
   "id": "b5685e31",
   "metadata": {},
   "outputs": [],
   "source": [
    "## data\n",
    "w = 0.7\n",
    "b = 0.3\n",
    "\n",
    "start = 0\n",
    "end = 1\n",
    "step = 0.02\n",
    "\n",
    "x = torch.arange(start, end , step).unsqueeze(dim=1)\n",
    "y = w*x+b"
   ]
  },
  {
   "cell_type": "code",
   "execution_count": 57,
   "id": "7c25fb73",
   "metadata": {},
   "outputs": [
    {
     "data": {
      "text/plain": [
       "[<matplotlib.lines.Line2D at 0x7f170814dc00>]"
      ]
     },
     "execution_count": 57,
     "metadata": {},
     "output_type": "execute_result"
    },
    {
     "data": {
      "image/png": "[encoded data removed]",
      "text/plain": [
       "<Figure size 640x480 with 1 Axes>"
      ]
     },
     "metadata": {},
     "output_type": "display_data"
    }
   ],
   "source": [
    "plt.plot(x,y)"
   ]
  },
  {
   "cell_type": "code",
   "execution_count": 58,
   "id": "9b4a441d",
   "metadata": {},
   "outputs": [],
   "source": [
    "split_point = 0.7\n",
    "\n",
    "x_train , x_test = x[:int(len(x)*split_point)],x[int(len(x)*split_point):]\n",
    "y_train , y_test = y[:int(len(y)*split_point)],x[int(len(y)*split_point):]"
   ]
  },
  {
   "cell_type": "code",
   "execution_count": 59,
   "id": "72046cb8",
   "metadata": {},
   "outputs": [
    {
     "data": {
      "text/plain": [
       "(torch.Size([35, 1]),\n",
       " torch.Size([15, 1]),\n",
       " torch.Size([15, 1]),\n",
       " torch.Size([35, 1]))"
      ]
     },
     "execution_count": 59,
     "metadata": {},
     "output_type": "execute_result"
    }
   ],
   "source": [
    "x_train.shape, x_test.shape, y_test.shape, y_train.shape"
   ]
  },
  {
   "cell_type": "code",
   "execution_count": 60,
   "id": "14d2243b",
   "metadata": {},
   "outputs": [
    {
     "data": {
      "text/plain": [
       "<matplotlib.collections.PathCollection at 0x7f17081c8580>"
      ]
     },
     "execution_count": 60,
     "metadata": {},
     "output_type": "execute_result"
    },
    {
     "data": {
      "image/png": "[encoded data removed]",
      "text/plain": [
       "<Figure size 640x480 with 1 Axes>"
      ]
     },
     "metadata": {},
     "output_type": "display_data"
    }
   ],
   "source": [
    "plt.scatter(x_train, y_train)\n",
    "plt.scatter(x_test, y_test)"
   ]
  },
  {
   "cell_type": "code",
   "execution_count": 61,
   "id": "1fdbc46e",
   "metadata": {},
   "outputs": [],
   "source": [
    "## Building model\n",
    "\n",
    "class NN2(nn.Module):\n",
    "    def __init__(self):\n",
    "        super().__init__()\n",
    "        ## nn linear layer\n",
    "        \n",
    "        self.linear_layer = nn.Linear(in_features=1, \n",
    "                                      out_features=1)\n",
    "        \n",
    "    def forward(self, x) -> torch.Tensor:\n",
    "        return self.linear_layer(x)"
   ]
  },
  {
   "cell_type": "code",
   "execution_count": 62,
   "id": "c4718e89",
   "metadata": {},
   "outputs": [
    {
     "data": {
      "text/plain": [
       "OrderedDict([('linear_layer.weight', tensor([[0.8692]])),\n",
       "             ('linear_layer.bias', tensor([0.1872]))])"
      ]
     },
     "execution_count": 62,
     "metadata": {},
     "output_type": "execute_result"
    }
   ],
   "source": [
    "model2 = NN2()\n",
    "model2.state_dict()"
   ]
  },
  {
   "cell_type": "code",
   "execution_count": 63,
   "id": "9afce51e",
   "metadata": {},
   "outputs": [],
   "source": [
    "## training"
   ]
  },
  {
   "cell_type": "code",
   "execution_count": 64,
   "id": "d6ba1654",
   "metadata": {},
   "outputs": [
    {
     "data": {
      "text/plain": [
       "device(type='cpu')"
      ]
     },
     "execution_count": 64,
     "metadata": {},
     "output_type": "execute_result"
    }
   ],
   "source": [
    "next(model2.parameters()).device # next use for iterator objects, like we use in linked list"
   ]
  },
  {
   "cell_type": "code",
   "execution_count": 65,
   "id": "8f4ccc60",
   "metadata": {},
   "outputs": [
    {
     "data": {
      "text/plain": [
       "NN2(\n",
       "  (linear_layer): Linear(in_features=1, out_features=1, bias=True)\n",
       ")"
      ]
     },
     "execution_count": 65,
     "metadata": {},
     "output_type": "execute_result"
    }
   ],
   "source": [
    "# Setrting device to cuda, computation on gpu\n",
    "model2.to(device)"
   ]
  },
  {
   "cell_type": "code",
   "execution_count": 66,
   "id": "6e8e031a",
   "metadata": {},
   "outputs": [
    {
     "data": {
      "text/plain": [
       "device(type='cuda', index=0)"
      ]
     },
     "execution_count": 66,
     "metadata": {},
     "output_type": "execute_result"
    }
   ],
   "source": [
    "next(model2.parameters()).device"
   ]
  },
  {
   "cell_type": "code",
   "execution_count": 67,
   "id": "3b0ed307",
   "metadata": {},
   "outputs": [],
   "source": [
    "loss_fn = nn.L1Loss()\n",
    "optim_fn = torch.optim.Adam(params=model2.parameters(), lr=0.001)"
   ]
  },
  {
   "cell_type": "code",
   "execution_count": 68,
   "id": "7b966637",
   "metadata": {},
   "outputs": [
    {
     "data": {
      "text/plain": [
       "(L1Loss(),\n",
       " Adam (\n",
       " Parameter Group 0\n",
       "     amsgrad: False\n",
       "     betas: (0.9, 0.999)\n",
       "     capturable: False\n",
       "     differentiable: False\n",
       "     eps: 1e-08\n",
       "     foreach: None\n",
       "     fused: None\n",
       "     lr: 0.001\n",
       "     maximize: False\n",
       "     weight_decay: 0\n",
       " ))"
      ]
     },
     "execution_count": 68,
     "metadata": {},
     "output_type": "execute_result"
    }
   ],
   "source": [
    "loss_fn, optim_fn"
   ]
  },
  {
   "cell_type": "code",
   "execution_count": 69,
   "id": "0b9d1df6",
   "metadata": {},
   "outputs": [
    {
     "name": "stdout",
     "output_type": "stream",
     "text": [
      "epoch: 0 | train loss: 0.055440448224544525 | test loss 0.0791240856051445\n",
      "epoch: 100 | train loss: 0.024446090683341026 | test loss 0.10742121934890747\n",
      "epoch: 200 | train loss: 0.005561451427638531 | test loss 0.06196705996990204\n",
      "epoch: 300 | train loss: 0.00010998930520145223 | test loss 0.04853440448641777\n",
      "epoch: 400 | train loss: 0.00012312446779105812 | test loss 0.048141200095415115\n",
      "epoch: 500 | train loss: 0.00010583570838207379 | test loss 0.04812014475464821\n",
      "epoch: 600 | train loss: 9.793553908821195e-05 | test loss 0.048110757023096085\n",
      "epoch: 700 | train loss: 9.339622192783281e-05 | test loss 0.04810536280274391\n",
      "epoch: 800 | train loss: 9.042109741130844e-05 | test loss 0.04810179024934769\n",
      "epoch: 900 | train loss: 8.828384306980297e-05 | test loss 0.04809916391968727\n"
     ]
    }
   ],
   "source": [
    "## train loop\n",
    "\n",
    "epochs = 1000\n",
    "\n",
    "# putting data on device\n",
    "\n",
    "x_train = x_train.to(device)\n",
    "x_test = x_test.to(device)\n",
    "y_train = y_train.to(device)\n",
    "y_test = y_test.to(device)\n",
    "\n",
    "for epoch in range(epochs):\n",
    "    model2.train()\n",
    "    \n",
    "    preds = model2(x_train)\n",
    "    \n",
    "    loss = loss_fn( preds, y_train)\n",
    "    \n",
    "    optim_fn.zero_grad()\n",
    "    \n",
    "    loss.backward()\n",
    "    \n",
    "    optim_fn.step()\n",
    "    \n",
    "    model2.eval()\n",
    "    with torch.inference_mode():\n",
    "        test_preds = model2(x_test)\n",
    "        \n",
    "        test_loss = loss_fn(test_preds, y_test)\n",
    "        \n",
    "    if epoch%100 == 0:\n",
    "        print(\"epoch: {} | train loss: {} | test loss {}\".format(epoch, loss, test_loss))"
   ]
  },
  {
   "cell_type": "code",
   "execution_count": 86,
   "id": "2e247458",
   "metadata": {},
   "outputs": [],
   "source": [
    "model2.eval()\n",
    "with torch.inference_mode():\n",
    "    y_preds = model2(x_test)"
   ]
  },
  {
   "cell_type": "code",
   "execution_count": null,
   "id": "bb6baaef",
   "metadata": {},
   "outputs": [],
   "source": []
  },
  {
   "cell_type": "code",
   "execution_count": 95,
   "id": "b00d80ac",
   "metadata": {},
   "outputs": [
    {
     "data": {
      "text/plain": [
       "(device(type='cuda', index=0), device(type='cuda', index=0))"
      ]
     },
     "execution_count": 95,
     "metadata": {},
     "output_type": "execute_result"
    }
   ],
   "source": [
    "y_preds.device, y_test.device"
   ]
  },
  {
   "cell_type": "code",
   "execution_count": 106,
   "id": "484e4780",
   "metadata": {},
   "outputs": [
    {
     "data": {
      "text/plain": [
       "(tensor([0.7901, 0.8041, 0.8181, 0.8321, 0.8461, 0.8601, 0.8741, 0.8881, 0.9021,\n",
       "         0.9161, 0.9301, 0.9441, 0.9581, 0.9721, 0.9861]),\n",
       " tensor([0.7000, 0.7200, 0.7400, 0.7600, 0.7800, 0.8000, 0.8200, 0.8400, 0.8600,\n",
       "         0.8800, 0.9000, 0.9200, 0.9400, 0.9600, 0.9800]))"
      ]
     },
     "execution_count": 106,
     "metadata": {},
     "output_type": "execute_result"
    }
   ],
   "source": [
    "y_preds.cpu().squeeze(dim=1), y_test.cpu().squeeze(dim=1)"
   ]
  },
  {
   "cell_type": "code",
   "execution_count": 96,
   "id": "7a9d1341",
   "metadata": {},
   "outputs": [
    {
     "data": {
      "text/plain": [
       "0.048108578"
      ]
     },
     "execution_count": 96,
     "metadata": {},
     "output_type": "execute_result"
    }
   ],
   "source": [
    "## using numpy\n",
    "mean_absolute_error(y_preds.cpu(), y_test.cpu())"
   ]
  },
  {
   "cell_type": "code",
   "execution_count": 110,
   "id": "d009fcb7",
   "metadata": {},
   "outputs": [
    {
     "data": {
      "text/plain": [
       "tensor(0.0481, device='cuda:0')"
      ]
     },
     "execution_count": 110,
     "metadata": {},
     "output_type": "execute_result"
    }
   ],
   "source": [
    "MAE_loss_func = nn.L1Loss()\n",
    "MAE_loss_func(y_preds.squeeze(dim=1), y_test.squeeze(dim=1))"
   ]
  },
  {
   "cell_type": "code",
   "execution_count": 48,
   "id": "d86446a7",
   "metadata": {},
   "outputs": [
    {
     "data": {
      "text/plain": [
       "OrderedDict([('linear_layer.weight', tensor([[1.3816]], device='cuda:0')),\n",
       "             ('linear_layer.bias', tensor([-0.2336], device='cuda:0'))])"
      ]
     },
     "execution_count": 48,
     "metadata": {},
     "output_type": "execute_result"
    }
   ],
   "source": [
    "model2.state_dict()"
   ]
  },
  {
   "cell_type": "code",
   "execution_count": 49,
   "id": "bced62a9",
   "metadata": {},
   "outputs": [
    {
     "data": {
      "text/plain": [
       "tensor([[0.8716],\n",
       "        [0.8992],\n",
       "        [0.9269],\n",
       "        [0.9545],\n",
       "        [0.9821],\n",
       "        [1.0098],\n",
       "        [1.0374],\n",
       "        [1.0650],\n",
       "        [1.0927],\n",
       "        [1.1203]], device='cuda:0', grad_fn=<AddmmBackward0>)"
      ]
     },
     "execution_count": 49,
     "metadata": {},
     "output_type": "execute_result"
    }
   ],
   "source": [
    "model2(y_test)"
   ]
  },
  {
   "cell_type": "code",
   "execution_count": null,
   "id": "e66ae2a1",
   "metadata": {},
   "outputs": [],
   "source": []
  },
  {
   "cell_type": "code",
   "execution_count": null,
   "id": "00570abf",
   "metadata": {},
   "outputs": [],
   "source": []
  },
  {
   "cell_type": "code",
   "execution_count": null,
   "id": "9ffcacc2",
   "metadata": {},
   "outputs": [],
   "source": []
  },
  {
   "cell_type": "code",
   "execution_count": null,
   "id": "5ff4e243",
   "metadata": {},
   "outputs": [],
   "source": []
  },
  {
   "cell_type": "code",
   "execution_count": null,
   "id": "645816ec",
   "metadata": {},
   "outputs": [],
   "source": []
  }
 ],
 "metadata": {
  "kernelspec": {
   "display_name": "venv",
   "language": "python",
   "name": "python3"
  },
  "language_info": {
   "codemirror_mode": {
    "name": "ipython",
    "version": 3
   },
   "file_extension": ".py",
   "mimetype": "text/x-python",
   "name": "python",
   "nbconvert_exporter": "python",
   "pygments_lexer": "ipython3",
   "version": "3.10.12"
  }
 },
 "nbformat": 4,
 "nbformat_minor": 5
}
