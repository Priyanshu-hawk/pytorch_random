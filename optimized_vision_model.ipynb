{
  "cells": [
    {
      "cell_type": "markdown",
      "metadata": {
        "id": "NbtaSoYslKuS"
      },
      "source": [
        "# Data prep"
      ]
    },
    {
      "cell_type": "code",
      "source": [
        "import os\n",
        "def is_colab():\n",
        "    try:\n",
        "        from google.colab import drive\n",
        "        return True\n",
        "    except:\n",
        "        return False\n",
        "\n",
        "if is_colab():\n",
        "    %cd /content/\n",
        "    !rm -rf pytorch_random\n",
        "\n",
        "    !git clone https://github.com/Priyanshu-hawk/pytorch_random.git\n",
        "    if os.getcwd() != '/content/pytorch_random':\n",
        "        %cd /content/pytorch_random\n",
        "        !pip install -r req.txt"
      ],
      "metadata": {
        "id": "3sVblz7VlMB6",
        "outputId": "b0cb842e-628f-4ade-c591-31d56fe24d9d",
        "colab": {
          "base_uri": "https://localhost:8080/"
        }
      },
      "execution_count": 1,
      "outputs": [
        {
          "output_type": "stream",
          "name": "stdout",
          "text": [
            "/content\n",
            "Cloning into 'pytorch_random'...\n",
            "remote: Enumerating objects: 272, done.\u001b[K\n",
            "remote: Counting objects: 100% (19/19), done.\u001b[K\n",
            "remote: Compressing objects: 100% (17/17), done.\u001b[K\n",
            "remote: Total 272 (delta 8), reused 11 (delta 2), pack-reused 253 (from 1)\u001b[K\n",
            "Receiving objects: 100% (272/272), 16.52 MiB | 9.16 MiB/s, done.\n",
            "Resolving deltas: 100% (134/134), done.\n",
            "/content/pytorch_random\n",
            "Collecting torchinfo (from -r req.txt (line 1))\n",
            "  Downloading torchinfo-1.8.0-py3-none-any.whl.metadata (21 kB)\n",
            "Collecting datasets (from -r req.txt (line 2))\n",
            "  Downloading datasets-3.2.0-py3-none-any.whl.metadata (20 kB)\n",
            "Collecting torchmetrics (from -r req.txt (line 3))\n",
            "  Downloading torchmetrics-1.6.1-py3-none-any.whl.metadata (21 kB)\n",
            "Requirement already satisfied: altair in /usr/local/lib/python3.10/dist-packages (from -r req.txt (line 4)) (5.5.0)\n",
            "Requirement already satisfied: matplotlib in /usr/local/lib/python3.10/dist-packages (from -r req.txt (line 5)) (3.10.0)\n",
            "Requirement already satisfied: scipy in /usr/local/lib/python3.10/dist-packages (from -r req.txt (line 6)) (1.13.1)\n",
            "Requirement already satisfied: filelock in /usr/local/lib/python3.10/dist-packages (from datasets->-r req.txt (line 2)) (3.16.1)\n",
            "Requirement already satisfied: numpy>=1.17 in /usr/local/lib/python3.10/dist-packages (from datasets->-r req.txt (line 2)) (1.26.4)\n",
            "Requirement already satisfied: pyarrow>=15.0.0 in /usr/local/lib/python3.10/dist-packages (from datasets->-r req.txt (line 2)) (17.0.0)\n",
            "Collecting dill<0.3.9,>=0.3.0 (from datasets->-r req.txt (line 2))\n",
            "  Downloading dill-0.3.8-py3-none-any.whl.metadata (10 kB)\n",
            "Requirement already satisfied: pandas in /usr/local/lib/python3.10/dist-packages (from datasets->-r req.txt (line 2)) (2.2.2)\n",
            "Requirement already satisfied: requests>=2.32.2 in /usr/local/lib/python3.10/dist-packages (from datasets->-r req.txt (line 2)) (2.32.3)\n",
            "Requirement already satisfied: tqdm>=4.66.3 in /usr/local/lib/python3.10/dist-packages (from datasets->-r req.txt (line 2)) (4.67.1)\n",
            "Collecting xxhash (from datasets->-r req.txt (line 2))\n",
            "  Downloading xxhash-3.5.0-cp310-cp310-manylinux_2_17_x86_64.manylinux2014_x86_64.whl.metadata (12 kB)\n",
            "Collecting multiprocess<0.70.17 (from datasets->-r req.txt (line 2))\n",
            "  Downloading multiprocess-0.70.16-py310-none-any.whl.metadata (7.2 kB)\n",
            "Collecting fsspec<=2024.9.0,>=2023.1.0 (from fsspec[http]<=2024.9.0,>=2023.1.0->datasets->-r req.txt (line 2))\n",
            "  Downloading fsspec-2024.9.0-py3-none-any.whl.metadata (11 kB)\n",
            "Requirement already satisfied: aiohttp in /usr/local/lib/python3.10/dist-packages (from datasets->-r req.txt (line 2)) (3.11.11)\n",
            "Requirement already satisfied: huggingface-hub>=0.23.0 in /usr/local/lib/python3.10/dist-packages (from datasets->-r req.txt (line 2)) (0.27.1)\n",
            "Requirement already satisfied: packaging in /usr/local/lib/python3.10/dist-packages (from datasets->-r req.txt (line 2)) (24.2)\n",
            "Requirement already satisfied: pyyaml>=5.1 in /usr/local/lib/python3.10/dist-packages (from datasets->-r req.txt (line 2)) (6.0.2)\n",
            "Requirement already satisfied: torch>=2.0.0 in /usr/local/lib/python3.10/dist-packages (from torchmetrics->-r req.txt (line 3)) (2.5.1+cu121)\n",
            "Collecting lightning-utilities>=0.8.0 (from torchmetrics->-r req.txt (line 3))\n",
            "  Downloading lightning_utilities-0.11.9-py3-none-any.whl.metadata (5.2 kB)\n",
            "Requirement already satisfied: jinja2 in /usr/local/lib/python3.10/dist-packages (from altair->-r req.txt (line 4)) (3.1.5)\n",
            "Requirement already satisfied: jsonschema>=3.0 in /usr/local/lib/python3.10/dist-packages (from altair->-r req.txt (line 4)) (4.23.0)\n",
            "Requirement already satisfied: narwhals>=1.14.2 in /usr/local/lib/python3.10/dist-packages (from altair->-r req.txt (line 4)) (1.21.0)\n",
            "Requirement already satisfied: typing-extensions>=4.10.0 in /usr/local/lib/python3.10/dist-packages (from altair->-r req.txt (line 4)) (4.12.2)\n",
            "Requirement already satisfied: contourpy>=1.0.1 in /usr/local/lib/python3.10/dist-packages (from matplotlib->-r req.txt (line 5)) (1.3.1)\n",
            "Requirement already satisfied: cycler>=0.10 in /usr/local/lib/python3.10/dist-packages (from matplotlib->-r req.txt (line 5)) (0.12.1)\n",
            "Requirement already satisfied: fonttools>=4.22.0 in /usr/local/lib/python3.10/dist-packages (from matplotlib->-r req.txt (line 5)) (4.55.3)\n",
            "Requirement already satisfied: kiwisolver>=1.3.1 in /usr/local/lib/python3.10/dist-packages (from matplotlib->-r req.txt (line 5)) (1.4.8)\n",
            "Requirement already satisfied: pillow>=8 in /usr/local/lib/python3.10/dist-packages (from matplotlib->-r req.txt (line 5)) (11.1.0)\n",
            "Requirement already satisfied: pyparsing>=2.3.1 in /usr/local/lib/python3.10/dist-packages (from matplotlib->-r req.txt (line 5)) (3.2.1)\n",
            "Requirement already satisfied: python-dateutil>=2.7 in /usr/local/lib/python3.10/dist-packages (from matplotlib->-r req.txt (line 5)) (2.8.2)\n",
            "Requirement already satisfied: aiohappyeyeballs>=2.3.0 in /usr/local/lib/python3.10/dist-packages (from aiohttp->datasets->-r req.txt (line 2)) (2.4.4)\n",
            "Requirement already satisfied: aiosignal>=1.1.2 in /usr/local/lib/python3.10/dist-packages (from aiohttp->datasets->-r req.txt (line 2)) (1.3.2)\n",
            "Requirement already satisfied: async-timeout<6.0,>=4.0 in /usr/local/lib/python3.10/dist-packages (from aiohttp->datasets->-r req.txt (line 2)) (4.0.3)\n",
            "Requirement already satisfied: attrs>=17.3.0 in /usr/local/lib/python3.10/dist-packages (from aiohttp->datasets->-r req.txt (line 2)) (24.3.0)\n",
            "Requirement already satisfied: frozenlist>=1.1.1 in /usr/local/lib/python3.10/dist-packages (from aiohttp->datasets->-r req.txt (line 2)) (1.5.0)\n",
            "Requirement already satisfied: multidict<7.0,>=4.5 in /usr/local/lib/python3.10/dist-packages (from aiohttp->datasets->-r req.txt (line 2)) (6.1.0)\n",
            "Requirement already satisfied: propcache>=0.2.0 in /usr/local/lib/python3.10/dist-packages (from aiohttp->datasets->-r req.txt (line 2)) (0.2.1)\n",
            "Requirement already satisfied: yarl<2.0,>=1.17.0 in /usr/local/lib/python3.10/dist-packages (from aiohttp->datasets->-r req.txt (line 2)) (1.18.3)\n",
            "Requirement already satisfied: jsonschema-specifications>=2023.03.6 in /usr/local/lib/python3.10/dist-packages (from jsonschema>=3.0->altair->-r req.txt (line 4)) (2024.10.1)\n",
            "Requirement already satisfied: referencing>=0.28.4 in /usr/local/lib/python3.10/dist-packages (from jsonschema>=3.0->altair->-r req.txt (line 4)) (0.35.1)\n",
            "Requirement already satisfied: rpds-py>=0.7.1 in /usr/local/lib/python3.10/dist-packages (from jsonschema>=3.0->altair->-r req.txt (line 4)) (0.22.3)\n",
            "Requirement already satisfied: setuptools in /usr/local/lib/python3.10/dist-packages (from lightning-utilities>=0.8.0->torchmetrics->-r req.txt (line 3)) (75.1.0)\n",
            "Requirement already satisfied: six>=1.5 in /usr/local/lib/python3.10/dist-packages (from python-dateutil>=2.7->matplotlib->-r req.txt (line 5)) (1.17.0)\n",
            "Requirement already satisfied: charset-normalizer<4,>=2 in /usr/local/lib/python3.10/dist-packages (from requests>=2.32.2->datasets->-r req.txt (line 2)) (3.4.1)\n",
            "Requirement already satisfied: idna<4,>=2.5 in /usr/local/lib/python3.10/dist-packages (from requests>=2.32.2->datasets->-r req.txt (line 2)) (3.10)\n",
            "Requirement already satisfied: urllib3<3,>=1.21.1 in /usr/local/lib/python3.10/dist-packages (from requests>=2.32.2->datasets->-r req.txt (line 2)) (2.3.0)\n",
            "Requirement already satisfied: certifi>=2017.4.17 in /usr/local/lib/python3.10/dist-packages (from requests>=2.32.2->datasets->-r req.txt (line 2)) (2024.12.14)\n",
            "Requirement already satisfied: networkx in /usr/local/lib/python3.10/dist-packages (from torch>=2.0.0->torchmetrics->-r req.txt (line 3)) (3.4.2)\n",
            "Requirement already satisfied: sympy==1.13.1 in /usr/local/lib/python3.10/dist-packages (from torch>=2.0.0->torchmetrics->-r req.txt (line 3)) (1.13.1)\n",
            "Requirement already satisfied: mpmath<1.4,>=1.1.0 in /usr/local/lib/python3.10/dist-packages (from sympy==1.13.1->torch>=2.0.0->torchmetrics->-r req.txt (line 3)) (1.3.0)\n",
            "Requirement already satisfied: MarkupSafe>=2.0 in /usr/local/lib/python3.10/dist-packages (from jinja2->altair->-r req.txt (line 4)) (3.0.2)\n",
            "Requirement already satisfied: pytz>=2020.1 in /usr/local/lib/python3.10/dist-packages (from pandas->datasets->-r req.txt (line 2)) (2024.2)\n",
            "Requirement already satisfied: tzdata>=2022.7 in /usr/local/lib/python3.10/dist-packages (from pandas->datasets->-r req.txt (line 2)) (2024.2)\n",
            "Downloading torchinfo-1.8.0-py3-none-any.whl (23 kB)\n",
            "Downloading datasets-3.2.0-py3-none-any.whl (480 kB)\n",
            "\u001b[2K   \u001b[90m━━━━━━━━━━━━━━━━━━━━━━━━━━━━━━━━━━━━━━━━\u001b[0m \u001b[32m480.6/480.6 kB\u001b[0m \u001b[31m27.3 MB/s\u001b[0m eta \u001b[36m0:00:00\u001b[0m\n",
            "\u001b[?25hDownloading torchmetrics-1.6.1-py3-none-any.whl (927 kB)\n",
            "\u001b[2K   \u001b[90m━━━━━━━━━━━━━━━━━━━━━━━━━━━━━━━━━━━━━━━━\u001b[0m \u001b[32m927.3/927.3 kB\u001b[0m \u001b[31m25.9 MB/s\u001b[0m eta \u001b[36m0:00:00\u001b[0m\n",
            "\u001b[?25hDownloading dill-0.3.8-py3-none-any.whl (116 kB)\n",
            "\u001b[2K   \u001b[90m━━━━━━━━━━━━━━━━━━━━━━━━━━━━━━━━━━━━━━━━\u001b[0m \u001b[32m116.3/116.3 kB\u001b[0m \u001b[31m10.8 MB/s\u001b[0m eta \u001b[36m0:00:00\u001b[0m\n",
            "\u001b[?25hDownloading fsspec-2024.9.0-py3-none-any.whl (179 kB)\n",
            "\u001b[2K   \u001b[90m━━━━━━━━━━━━━━━━━━━━━━━━━━━━━━━━━━━━━━━━\u001b[0m \u001b[32m179.3/179.3 kB\u001b[0m \u001b[31m9.3 MB/s\u001b[0m eta \u001b[36m0:00:00\u001b[0m\n",
            "\u001b[?25hDownloading lightning_utilities-0.11.9-py3-none-any.whl (28 kB)\n",
            "Downloading multiprocess-0.70.16-py310-none-any.whl (134 kB)\n",
            "\u001b[2K   \u001b[90m━━━━━━━━━━━━━━━━━━━━━━━━━━━━━━━━━━━━━━━━\u001b[0m \u001b[32m134.8/134.8 kB\u001b[0m \u001b[31m13.9 MB/s\u001b[0m eta \u001b[36m0:00:00\u001b[0m\n",
            "\u001b[?25hDownloading xxhash-3.5.0-cp310-cp310-manylinux_2_17_x86_64.manylinux2014_x86_64.whl (194 kB)\n",
            "\u001b[2K   \u001b[90m━━━━━━━━━━━━━━━━━━━━━━━━━━━━━━━━━━━━━━━━\u001b[0m \u001b[32m194.1/194.1 kB\u001b[0m \u001b[31m15.3 MB/s\u001b[0m eta \u001b[36m0:00:00\u001b[0m\n",
            "\u001b[?25hInstalling collected packages: xxhash, torchinfo, lightning-utilities, fsspec, dill, multiprocess, torchmetrics, datasets\n",
            "  Attempting uninstall: fsspec\n",
            "    Found existing installation: fsspec 2024.10.0\n",
            "    Uninstalling fsspec-2024.10.0:\n",
            "      Successfully uninstalled fsspec-2024.10.0\n",
            "\u001b[31mERROR: pip's dependency resolver does not currently take into account all the packages that are installed. This behaviour is the source of the following dependency conflicts.\n",
            "gcsfs 2024.10.0 requires fsspec==2024.10.0, but you have fsspec 2024.9.0 which is incompatible.\u001b[0m\u001b[31m\n",
            "\u001b[0mSuccessfully installed datasets-3.2.0 dill-0.3.8 fsspec-2024.9.0 lightning-utilities-0.11.9 multiprocess-0.70.16 torchinfo-1.8.0 torchmetrics-1.6.1 xxhash-3.5.0\n"
          ]
        }
      ]
    },
    {
      "cell_type": "code",
      "execution_count": 2,
      "metadata": {
        "id": "rEKUjLk-lKuU",
        "outputId": "800de0fa-d571-486a-f965-6bdbd8d27b17",
        "colab": {
          "base_uri": "https://localhost:8080/"
        }
      },
      "outputs": [
        {
          "output_type": "stream",
          "name": "stdout",
          "text": [
            "Downloading https://thor.robots.ox.ac.uk/flowers/102/102flowers.tgz to dataset/flowers-102/102flowers.tgz\n"
          ]
        },
        {
          "output_type": "stream",
          "name": "stderr",
          "text": [
            "100%|██████████| 345M/345M [00:17<00:00, 19.8MB/s]\n"
          ]
        },
        {
          "output_type": "stream",
          "name": "stdout",
          "text": [
            "Extracting dataset/flowers-102/102flowers.tgz to dataset/flowers-102\n",
            "Downloading https://thor.robots.ox.ac.uk/flowers/102/imagelabels.mat to dataset/flowers-102/imagelabels.mat\n"
          ]
        },
        {
          "output_type": "stream",
          "name": "stderr",
          "text": [
            "100%|██████████| 502/502 [00:00<00:00, 379kB/s]\n"
          ]
        },
        {
          "output_type": "stream",
          "name": "stdout",
          "text": [
            "Downloading https://thor.robots.ox.ac.uk/flowers/102/setid.mat to dataset/flowers-102/setid.mat\n"
          ]
        },
        {
          "output_type": "stream",
          "name": "stderr",
          "text": [
            "100%|██████████| 15.0k/15.0k [00:00<00:00, 14.4MB/s]\n"
          ]
        }
      ],
      "source": [
        "from torchvision import datasets\n",
        "flowers102 = datasets.Flowers102(\"./dataset\", download=True)"
      ]
    },
    {
      "cell_type": "code",
      "execution_count": 5,
      "metadata": {
        "id": "Hh31JhjwlKuW",
        "outputId": "f3482964-1c02-463d-d330-1b15e593848f",
        "colab": {
          "base_uri": "https://localhost:8080/"
        }
      },
      "outputs": [
        {
          "output_type": "execute_result",
          "data": {
            "text/plain": [
              "(8189,)"
            ]
          },
          "metadata": {},
          "execution_count": 5
        }
      ],
      "source": [
        "# img_lables\n",
        "import scipy.io as sio\n",
        "img_lable = sio.loadmat(\"./dataset/flowers-102/imagelabels.mat\")\n",
        "img_lable[\"labels\"][0].shape"
      ]
    },
    {
      "cell_type": "code",
      "execution_count": 6,
      "metadata": {
        "id": "klPHKwLClKuZ",
        "outputId": "6881aea6-74ea-4209-a3e4-51f3f20754d9",
        "colab": {
          "base_uri": "https://localhost:8080/"
        }
      },
      "outputs": [
        {
          "output_type": "stream",
          "name": "stdout",
          "text": [
            "['pink primrose', 'hard-leaved pocket orchid', 'canterbury bells', 'sweet pea', 'english marigold', 'tiger lily', 'moon orchid', 'bird of paradise', 'monkshood', 'globe thistle', 'snapdragon', \"colt's foot\", 'king protea', 'spear thistle', 'yellow iris', 'globe-flower', 'purple coneflower', 'peruvian lily', 'balloon flower', 'giant white arum lily', 'fire lily', 'pincushion flower', 'fritillary', 'red ginger', 'grape hyacinth', 'corn poppy', 'prince of wales feathers', 'stemless gentian', 'artichoke', 'sweet william', 'carnation', 'garden phlox', 'love in the mist', 'mexican aster', 'alpine sea holly', 'ruby-lipped cattleya', 'cape flower', 'great masterwort', 'siam tulip', 'lenten rose', 'barbeton daisy', 'daffodil', 'sword lily', 'poinsettia', 'bolero deep blue', 'wallflower', 'marigold', 'buttercup', 'oxeye daisy', 'common dandelion', 'petunia', 'wild pansy', 'primula', 'sunflower', 'pelargonium', 'bishop of llandaff', 'gaura', 'geranium', 'orange dahlia', 'pink-yellow dahlia', 'cautleya spicata', 'japanese anemone', 'black-eyed susan', 'silverbush', 'californian poppy', 'osteospermum', 'spring crocus', 'bearded iris', 'windflower', 'tree poppy', 'gazania', 'azalea', 'water lily', 'rose', 'thorn apple', 'morning glory', 'passion flower', 'lotus lotus', 'toad lily', 'anthurium', 'frangipani', 'clematis', 'hibiscus', 'columbine', 'desert-rose', 'tree mallow', 'magnolia', 'cyclamen', 'watercress', 'canna lily', 'hippeastrum', 'bee balm', 'ball moss', 'foxglove', 'bougainvillea', 'camellia', 'mallow', 'mexican petunia', 'bromelia', 'blanket flower', 'trumpet creeper', 'blackberry lily']\n"
          ]
        }
      ],
      "source": [
        "import pandas as pd\n",
        "class_names = pd.read_csv(\"./oxford_flower_102_name.csv\")\n",
        "class_name_list = []\n",
        "for cn in class_names[\"Name\"]:\n",
        "    class_name_list.append(cn)\n",
        "\n",
        "print(class_name_list)"
      ]
    },
    {
      "cell_type": "code",
      "execution_count": 7,
      "metadata": {
        "id": "MF_1q8zBlKua",
        "outputId": "46733a1b-ae98-42f4-d097-48aa86bd8de8",
        "colab": {
          "base_uri": "https://localhost:8080/"
        }
      },
      "outputs": [
        {
          "output_type": "execute_result",
          "data": {
            "text/plain": [
              "{'__header__': b'MATLAB 5.0 MAT-file, Platform: GLNX86, Created on: Thu Feb 19 17:38:58 2009',\n",
              " '__version__': '1.0',\n",
              " '__globals__': [],\n",
              " 'trnid': array([[6765, 6755, 6768, ..., 8026, 8036, 8041]], dtype=uint16),\n",
              " 'valid': array([[6773, 6767, 6739, ..., 8028, 8008, 8030]], dtype=uint16),\n",
              " 'tstid': array([[6734, 6735, 6737, ..., 8044, 8045, 8047]], dtype=uint16)}"
            ]
          },
          "metadata": {},
          "execution_count": 7
        }
      ],
      "source": [
        "# img_lables\n",
        "import scipy.io as sio\n",
        "img_sid = sio.loadmat(\"./dataset/flowers-102/setid.mat\")\n",
        "img_sid"
      ]
    },
    {
      "cell_type": "code",
      "execution_count": 8,
      "metadata": {
        "id": "bFU97eZnlKub"
      },
      "outputs": [],
      "source": [
        "lable_dict = {}\n",
        "for j in img_lable[\"labels\"][0]:\n",
        "    if j in lable_dict:\n",
        "        lable_dict[j]+=1\n",
        "    else:\n",
        "        lable_dict[j]=1"
      ]
    },
    {
      "cell_type": "code",
      "execution_count": 9,
      "metadata": {
        "id": "CRbLxjkwlKuc",
        "outputId": "106555f0-b016-4a81-f111-bbabc94faab5",
        "colab": {
          "base_uri": "https://localhost:8080/"
        }
      },
      "outputs": [
        {
          "output_type": "execute_result",
          "data": {
            "text/plain": [
              "{77: 251,\n",
              " 73: 194,\n",
              " 88: 154,\n",
              " 89: 184,\n",
              " 81: 166,\n",
              " 46: 196,\n",
              " 74: 171,\n",
              " 51: 258,\n",
              " 44: 93,\n",
              " 82: 112,\n",
              " 83: 131,\n",
              " 78: 137,\n",
              " 80: 105,\n",
              " 75: 120,\n",
              " 41: 127,\n",
              " 43: 130,\n",
              " 76: 107,\n",
              " 84: 86,\n",
              " 58: 114,\n",
              " 56: 109,\n",
              " 86: 58,\n",
              " 60: 109,\n",
              " 92: 66,\n",
              " 11: 87,\n",
              " 65: 102,\n",
              " 8: 85,\n",
              " 23: 91,\n",
              " 30: 85,\n",
              " 72: 96,\n",
              " 53: 93,\n",
              " 37: 108,\n",
              " 17: 85,\n",
              " 12: 87,\n",
              " 29: 78,\n",
              " 52: 85,\n",
              " 18: 82,\n",
              " 36: 75,\n",
              " 90: 82,\n",
              " 71: 78,\n",
              " 40: 67,\n",
              " 48: 71,\n",
              " 55: 71,\n",
              " 85: 63,\n",
              " 91: 76,\n",
              " 20: 56,\n",
              " 47: 67,\n",
              " 59: 67,\n",
              " 2: 60,\n",
              " 5: 65,\n",
              " 28: 66,\n",
              " 70: 62,\n",
              " 22: 59,\n",
              " 54: 61,\n",
              " 87: 63,\n",
              " 66: 61,\n",
              " 32: 45,\n",
              " 4: 56,\n",
              " 42: 59,\n",
              " 13: 49,\n",
              " 38: 56,\n",
              " 63: 54,\n",
              " 68: 54,\n",
              " 69: 54,\n",
              " 93: 46,\n",
              " 14: 48,\n",
              " 64: 52,\n",
              " 19: 49,\n",
              " 49: 49,\n",
              " 61: 50,\n",
              " 50: 92,\n",
              " 15: 49,\n",
              " 9: 46,\n",
              " 33: 46,\n",
              " 26: 41,\n",
              " 25: 41,\n",
              " 3: 40,\n",
              " 16: 41,\n",
              " 79: 41,\n",
              " 1: 40,\n",
              " 21: 40,\n",
              " 24: 42,\n",
              " 27: 40,\n",
              " 31: 52,\n",
              " 34: 40,\n",
              " 35: 43,\n",
              " 39: 41,\n",
              " 67: 42,\n",
              " 10: 45,\n",
              " 45: 40,\n",
              " 6: 45,\n",
              " 7: 40,\n",
              " 57: 67,\n",
              " 62: 55,\n",
              " 94: 162,\n",
              " 95: 128,\n",
              " 96: 91,\n",
              " 97: 66,\n",
              " 98: 82,\n",
              " 99: 63,\n",
              " 100: 49,\n",
              " 101: 58,\n",
              " 102: 48}"
            ]
          },
          "metadata": {},
          "execution_count": 9
        }
      ],
      "source": [
        "lable_dict"
      ]
    },
    {
      "cell_type": "code",
      "execution_count": 10,
      "metadata": {
        "id": "_UmVh756lKud",
        "outputId": "52d233af-f865-4c31-d870-120b6b78351a",
        "colab": {
          "base_uri": "https://localhost:8080/"
        }
      },
      "outputs": [
        {
          "output_type": "stream",
          "name": "stdout",
          "text": [
            "[251, 194, 154, 184, 166, 196, 171, 258, 93, 112, 131, 137, 105, 120, 127, 130, 107, 86, 114, 109, 58, 109, 66, 87, 102, 85, 91, 85, 96, 93, 108, 85, 87, 78, 85, 82, 75, 82, 78, 67, 71, 71, 63, 76, 56, 67, 67, 60, 65, 66, 62, 59, 61, 63, 61, 45, 56, 59, 49, 56, 54, 54, 54, 46, 48, 52, 49, 49, 50, 92, 49, 46, 46, 41, 41, 40, 41, 41, 40, 40, 42, 40, 52, 40, 43, 41, 42, 45, 40, 45, 40, 67, 55, 162, 128, 91, 66, 82, 63, 49, 58, 48]\n",
            "{34: 40, 1: 40, 7: 40, 45: 40, 3: 40, 21: 40, 27: 40, 39: 41, 26: 41, 25: 41, 79: 41, 16: 41, 67: 42, 24: 42, 35: 43, 6: 45, 10: 45, 32: 45, 9: 46, 33: 46, 93: 46, 14: 48, 102: 48, 49: 49, 19: 49, 15: 49, 100: 49, 13: 49, 61: 50, 31: 52, 64: 52, 68: 54, 63: 54, 69: 54, 62: 55, 38: 56, 4: 56, 20: 56, 101: 58, 86: 58, 22: 59, 42: 59, 2: 60, 66: 61, 54: 61, 70: 62, 85: 63, 87: 63, 99: 63, 5: 65, 97: 66, 28: 66, 92: 66, 47: 67, 59: 67, 40: 67, 57: 67, 48: 71, 55: 71, 36: 75, 91: 76, 71: 78, 29: 78, 90: 82, 98: 82, 18: 82, 52: 85, 8: 85, 30: 85, 17: 85, 84: 86, 12: 87, 11: 87, 96: 91, 23: 91, 50: 92, 53: 93, 44: 93, 72: 96, 65: 102, 80: 105, 76: 107, 37: 108, 56: 109, 60: 109, 82: 112, 58: 114, 75: 120, 41: 127, 95: 128, 43: 130, 83: 131, 78: 137, 88: 154, 94: 162, 81: 166, 74: 171, 89: 184, 73: 194, 46: 196, 77: 251, 51: 258}\n"
          ]
        }
      ],
      "source": [
        "import numpy as np\n",
        "keys = list(lable_dict.keys())\n",
        "values = list(lable_dict.values())\n",
        "print(values)\n",
        "sorted_value_index = np.argsort(values)\n",
        "sorted_dict = {keys[i]: values[i] for i in sorted_value_index}\n",
        "print(sorted_dict)\n"
      ]
    },
    {
      "cell_type": "code",
      "execution_count": 10,
      "metadata": {
        "id": "w4H2gi9flKue"
      },
      "outputs": [],
      "source": []
    },
    {
      "cell_type": "code",
      "execution_count": 11,
      "metadata": {
        "id": "jl92MnfplKue",
        "outputId": "2e622999-c0c2-4c30-ab5e-dcc8cf601d5a",
        "colab": {
          "base_uri": "https://localhost:8080/"
        }
      },
      "outputs": [
        {
          "output_type": "execute_result",
          "data": {
            "text/plain": [
              "8189"
            ]
          },
          "metadata": {},
          "execution_count": 11
        }
      ],
      "source": [
        "len(img_lable[\"labels\"][0])"
      ]
    },
    {
      "cell_type": "code",
      "execution_count": 12,
      "metadata": {
        "id": "U0lmpS9VlKuf"
      },
      "outputs": [],
      "source": [
        "# data agrigation\n",
        "# crearing train and test\n",
        "import os, shutil\n",
        "BASE_IMG_FOLDER = \"./dataset/flowers-102/jpg\"\n",
        "BASE_DEST_FOLDER = \"./dataset/flowers-102/data\"\n",
        "os.makedirs(BASE_DEST_FOLDER, exist_ok=True)\n",
        "\n",
        "flower_imgs = sorted(os.listdir(BASE_IMG_FOLDER))\n",
        "\n",
        "for i in range(len(img_lable[\"labels\"][0])):\n",
        "    flower_src = os.path.join(BASE_IMG_FOLDER, str(flower_imgs[i]))\n",
        "    flower_dest = os.path.join(BASE_DEST_FOLDER, str(img_lable[\"labels\"][0][i]))\n",
        "    # print(flower_dest)\n",
        "    os.makedirs(flower_dest, exist_ok=True)\n",
        "    shutil.move(flower_src, flower_dest)"
      ]
    },
    {
      "cell_type": "code",
      "execution_count": 13,
      "metadata": {
        "id": "joKO4ZuWlKuf"
      },
      "outputs": [],
      "source": [
        "# creating train and test\n",
        "import random\n",
        "BASE_DATA_FOLDER = \"./dataset/flowers-102/data\"\n",
        "BASE_TRAIN_DATA_FOLDER = \"./dataset/flowers-102/train_data\"\n",
        "TRAIN_FOLDER = os.path.join(BASE_TRAIN_DATA_FOLDER, \"train\")\n",
        "TEST_FOLDER = os.path.join(BASE_TRAIN_DATA_FOLDER, \"test\")\n",
        "\n",
        "os.makedirs(BASE_TRAIN_DATA_FOLDER, exist_ok=True)\n",
        "os.makedirs(TRAIN_FOLDER, exist_ok=True)\n",
        "os.makedirs(TEST_FOLDER, exist_ok=True)\n",
        "\n",
        "#1. Directly moving all data to train_data/train\n",
        "for mda in os.listdir(BASE_DATA_FOLDER):\n",
        "    shutil.move(os.path.join(BASE_DATA_FOLDER, mda), TRAIN_FOLDER)\n",
        "\n",
        "#2. Moving test_size % data to test folder\n",
        "test_size = 0.15\n",
        "for pf in os.listdir(TRAIN_FOLDER):\n",
        "    total_train_imgs = os.listdir(os.path.join(TRAIN_FOLDER, pf))\n",
        "    test_dest = os.path.join(TEST_FOLDER, pf)\n",
        "    os.makedirs(test_dest)\n",
        "    mov_list = []\n",
        "    for f in range(0, int(len(total_train_imgs) * test_size)):\n",
        "        rand_int=random.randint(0, len(total_train_imgs)-1)\n",
        "        while rand_int in mov_list:\n",
        "            rand_int=random.randint(0, len(total_train_imgs)-1)\n",
        "        mov_list.append(rand_int)\n",
        "\n",
        "        shutil.move(os.path.join(TRAIN_FOLDER, pf, total_train_imgs[rand_int]), test_dest)"
      ]
    },
    {
      "cell_type": "markdown",
      "metadata": {
        "id": "IzBKOfYllKug"
      },
      "source": [
        "# model train"
      ]
    },
    {
      "cell_type": "code",
      "execution_count": 14,
      "metadata": {
        "id": "wOoLt6lzlKuh"
      },
      "outputs": [],
      "source": [
        "import torch\n",
        "from torch import nn\n",
        "from torchvision import models\n",
        "import os\n",
        "from torchinfo import summary\n",
        "\n",
        "#custom_modules\n",
        "from Vision_Transformer.data_setup import createDataloader"
      ]
    },
    {
      "cell_type": "code",
      "execution_count": 15,
      "metadata": {
        "id": "h6ZifHVrlKuh"
      },
      "outputs": [],
      "source": [
        "device = torch.device(\"cuda\" if torch.cuda.is_available() else \"cpu\")"
      ]
    },
    {
      "cell_type": "code",
      "execution_count": 16,
      "metadata": {
        "id": "J4SzpqUulKui",
        "outputId": "2782f76b-7e9e-4225-d09e-0f5e94f24088",
        "colab": {
          "base_uri": "https://localhost:8080/"
        }
      },
      "outputs": [
        {
          "output_type": "execute_result",
          "data": {
            "text/plain": [
              "ImageClassification(\n",
              "    crop_size=[224]\n",
              "    resize_size=[256]\n",
              "    mean=[0.485, 0.456, 0.406]\n",
              "    std=[0.229, 0.224, 0.225]\n",
              "    interpolation=InterpolationMode.BICUBIC\n",
              ")"
            ]
          },
          "metadata": {},
          "execution_count": 16
        }
      ],
      "source": [
        "eff_net_b0_weight = models.EfficientNet_B0_Weights.IMAGENET1K_V1\n",
        "eff_net_transfromer = eff_net_b0_weight.transforms()\n",
        "eff_net_transfromer"
      ]
    },
    {
      "cell_type": "code",
      "execution_count": 17,
      "metadata": {
        "id": "dZi3-kz8lKui"
      },
      "outputs": [],
      "source": [
        "#datast\n",
        "BASE_TRAIN_DATA_FOLDER = \"./dataset/flowers-102/train_data\"\n",
        "datapath = BASE_TRAIN_DATA_FOLDER\n",
        "train_dl, test_dl, _classes = createDataloader(train_path=os.path.join(datapath, \"train\"),\n",
        "                                     test_path=os.path.join(datapath, \"test\"),\n",
        "                                     train_transform=eff_net_transfromer,\n",
        "                                     test_transform=eff_net_transfromer,\n",
        "                                     BTACH_SIZE=32)"
      ]
    },
    {
      "cell_type": "code",
      "execution_count": 18,
      "metadata": {
        "id": "Hn6Y9yqUlKuj",
        "outputId": "706fa7d6-5ef4-45b5-994c-800184ba015c",
        "colab": {
          "base_uri": "https://localhost:8080/"
        }
      },
      "outputs": [
        {
          "output_type": "execute_result",
          "data": {
            "text/plain": [
              "(219,\n",
              " 38,\n",
              " 102,\n",
              " ['1',\n",
              "  '10',\n",
              "  '100',\n",
              "  '101',\n",
              "  '102',\n",
              "  '11',\n",
              "  '12',\n",
              "  '13',\n",
              "  '14',\n",
              "  '15',\n",
              "  '16',\n",
              "  '17',\n",
              "  '18',\n",
              "  '19',\n",
              "  '2',\n",
              "  '20',\n",
              "  '21',\n",
              "  '22',\n",
              "  '23',\n",
              "  '24',\n",
              "  '25',\n",
              "  '26',\n",
              "  '27',\n",
              "  '28',\n",
              "  '29',\n",
              "  '3',\n",
              "  '30',\n",
              "  '31',\n",
              "  '32',\n",
              "  '33',\n",
              "  '34',\n",
              "  '35',\n",
              "  '36',\n",
              "  '37',\n",
              "  '38',\n",
              "  '39',\n",
              "  '4',\n",
              "  '40',\n",
              "  '41',\n",
              "  '42',\n",
              "  '43',\n",
              "  '44',\n",
              "  '45',\n",
              "  '46',\n",
              "  '47',\n",
              "  '48',\n",
              "  '49',\n",
              "  '5',\n",
              "  '50',\n",
              "  '51',\n",
              "  '52',\n",
              "  '53',\n",
              "  '54',\n",
              "  '55',\n",
              "  '56',\n",
              "  '57',\n",
              "  '58',\n",
              "  '59',\n",
              "  '6',\n",
              "  '60',\n",
              "  '61',\n",
              "  '62',\n",
              "  '63',\n",
              "  '64',\n",
              "  '65',\n",
              "  '66',\n",
              "  '67',\n",
              "  '68',\n",
              "  '69',\n",
              "  '7',\n",
              "  '70',\n",
              "  '71',\n",
              "  '72',\n",
              "  '73',\n",
              "  '74',\n",
              "  '75',\n",
              "  '76',\n",
              "  '77',\n",
              "  '78',\n",
              "  '79',\n",
              "  '8',\n",
              "  '80',\n",
              "  '81',\n",
              "  '82',\n",
              "  '83',\n",
              "  '84',\n",
              "  '85',\n",
              "  '86',\n",
              "  '87',\n",
              "  '88',\n",
              "  '89',\n",
              "  '9',\n",
              "  '90',\n",
              "  '91',\n",
              "  '92',\n",
              "  '93',\n",
              "  '94',\n",
              "  '95',\n",
              "  '96',\n",
              "  '97',\n",
              "  '98',\n",
              "  '99'])"
            ]
          },
          "metadata": {},
          "execution_count": 18
        }
      ],
      "source": [
        "len(train_dl), len(test_dl), len(_classes), _classes"
      ]
    },
    {
      "cell_type": "code",
      "execution_count": 19,
      "metadata": {
        "id": "C146TvoRlKuj",
        "outputId": "14353300-697e-4a5d-fdc0-d92d30ba2366",
        "colab": {
          "base_uri": "https://localhost:8080/"
        }
      },
      "outputs": [
        {
          "output_type": "stream",
          "name": "stderr",
          "text": [
            "Downloading: \"https://download.pytorch.org/models/efficientnet_b0_rwightman-7f5810bc.pth\" to /root/.cache/torch/hub/checkpoints/efficientnet_b0_rwightman-7f5810bc.pth\n",
            "100%|██████████| 20.5M/20.5M [00:00<00:00, 150MB/s]\n"
          ]
        }
      ],
      "source": [
        "eff_net_model = models.efficientnet_b0(weights=eff_net_b0_weight)"
      ]
    },
    {
      "cell_type": "code",
      "execution_count": 20,
      "metadata": {
        "id": "1YH-HAhWlKuj"
      },
      "outputs": [],
      "source": [
        "# pause train for non classif layer\n",
        "for p in eff_net_model.parameters():\n",
        "    p.requires_grad = False"
      ]
    },
    {
      "cell_type": "code",
      "execution_count": 21,
      "metadata": {
        "id": "otUtCfXTlKuk"
      },
      "outputs": [],
      "source": [
        "#swaping outlayer\n",
        "eff_net_model.classifier = nn.Sequential(\n",
        "    nn.Dropout(0.2, inplace=True),\n",
        "    nn.Linear(in_features=1280, out_features=len(_classes), bias=True)\n",
        ")"
      ]
    },
    {
      "cell_type": "code",
      "execution_count": 22,
      "metadata": {
        "id": "67PO6lhilKuk",
        "outputId": "ded06672-7ab1-4287-9ed0-a2181679b2a3",
        "colab": {
          "base_uri": "https://localhost:8080/"
        }
      },
      "outputs": [
        {
          "output_type": "execute_result",
          "data": {
            "text/plain": [
              "============================================================================================================================================\n",
              "Layer (type (var_name))                                      Input Shape          Output Shape         Param #              Trainable\n",
              "============================================================================================================================================\n",
              "EfficientNet (EfficientNet)                                  [1, 3, 224, 224]     [1, 102]             --                   Partial\n",
              "├─Sequential (features)                                      [1, 3, 224, 224]     [1, 1280, 7, 7]      --                   False\n",
              "│    └─Conv2dNormActivation (0)                              [1, 3, 224, 224]     [1, 32, 112, 112]    --                   False\n",
              "│    │    └─Conv2d (0)                                       [1, 3, 224, 224]     [1, 32, 112, 112]    (864)                False\n",
              "│    │    └─BatchNorm2d (1)                                  [1, 32, 112, 112]    [1, 32, 112, 112]    (64)                 False\n",
              "│    │    └─SiLU (2)                                         [1, 32, 112, 112]    [1, 32, 112, 112]    --                   --\n",
              "│    └─Sequential (1)                                        [1, 32, 112, 112]    [1, 16, 112, 112]    --                   False\n",
              "│    │    └─MBConv (0)                                       [1, 32, 112, 112]    [1, 16, 112, 112]    (1,448)              False\n",
              "│    └─Sequential (2)                                        [1, 16, 112, 112]    [1, 24, 56, 56]      --                   False\n",
              "│    │    └─MBConv (0)                                       [1, 16, 112, 112]    [1, 24, 56, 56]      (6,004)              False\n",
              "│    │    └─MBConv (1)                                       [1, 24, 56, 56]      [1, 24, 56, 56]      (10,710)             False\n",
              "│    └─Sequential (3)                                        [1, 24, 56, 56]      [1, 40, 28, 28]      --                   False\n",
              "│    │    └─MBConv (0)                                       [1, 24, 56, 56]      [1, 40, 28, 28]      (15,350)             False\n",
              "│    │    └─MBConv (1)                                       [1, 40, 28, 28]      [1, 40, 28, 28]      (31,290)             False\n",
              "│    └─Sequential (4)                                        [1, 40, 28, 28]      [1, 80, 14, 14]      --                   False\n",
              "│    │    └─MBConv (0)                                       [1, 40, 28, 28]      [1, 80, 14, 14]      (37,130)             False\n",
              "│    │    └─MBConv (1)                                       [1, 80, 14, 14]      [1, 80, 14, 14]      (102,900)            False\n",
              "│    │    └─MBConv (2)                                       [1, 80, 14, 14]      [1, 80, 14, 14]      (102,900)            False\n",
              "│    └─Sequential (5)                                        [1, 80, 14, 14]      [1, 112, 14, 14]     --                   False\n",
              "│    │    └─MBConv (0)                                       [1, 80, 14, 14]      [1, 112, 14, 14]     (126,004)            False\n",
              "│    │    └─MBConv (1)                                       [1, 112, 14, 14]     [1, 112, 14, 14]     (208,572)            False\n",
              "│    │    └─MBConv (2)                                       [1, 112, 14, 14]     [1, 112, 14, 14]     (208,572)            False\n",
              "│    └─Sequential (6)                                        [1, 112, 14, 14]     [1, 192, 7, 7]       --                   False\n",
              "│    │    └─MBConv (0)                                       [1, 112, 14, 14]     [1, 192, 7, 7]       (262,492)            False\n",
              "│    │    └─MBConv (1)                                       [1, 192, 7, 7]       [1, 192, 7, 7]       (587,952)            False\n",
              "│    │    └─MBConv (2)                                       [1, 192, 7, 7]       [1, 192, 7, 7]       (587,952)            False\n",
              "│    │    └─MBConv (3)                                       [1, 192, 7, 7]       [1, 192, 7, 7]       (587,952)            False\n",
              "│    └─Sequential (7)                                        [1, 192, 7, 7]       [1, 320, 7, 7]       --                   False\n",
              "│    │    └─MBConv (0)                                       [1, 192, 7, 7]       [1, 320, 7, 7]       (717,232)            False\n",
              "│    └─Conv2dNormActivation (8)                              [1, 320, 7, 7]       [1, 1280, 7, 7]      --                   False\n",
              "│    │    └─Conv2d (0)                                       [1, 320, 7, 7]       [1, 1280, 7, 7]      (409,600)            False\n",
              "│    │    └─BatchNorm2d (1)                                  [1, 1280, 7, 7]      [1, 1280, 7, 7]      (2,560)              False\n",
              "│    │    └─SiLU (2)                                         [1, 1280, 7, 7]      [1, 1280, 7, 7]      --                   --\n",
              "├─AdaptiveAvgPool2d (avgpool)                                [1, 1280, 7, 7]      [1, 1280, 1, 1]      --                   --\n",
              "├─Sequential (classifier)                                    [1, 1280]            [1, 102]             --                   True\n",
              "│    └─Dropout (0)                                           [1, 1280]            [1, 1280]            --                   --\n",
              "│    └─Linear (1)                                            [1, 1280]            [1, 102]             130,662              True\n",
              "============================================================================================================================================\n",
              "Total params: 4,138,210\n",
              "Trainable params: 130,662\n",
              "Non-trainable params: 4,007,548\n",
              "Total mult-adds (M): 384.72\n",
              "============================================================================================================================================\n",
              "Input size (MB): 0.60\n",
              "Forward/backward pass size (MB): 107.88\n",
              "Params size (MB): 16.55\n",
              "Estimated Total Size (MB): 125.03\n",
              "============================================================================================================================================"
            ]
          },
          "metadata": {},
          "execution_count": 22
        }
      ],
      "source": [
        "summary(model=eff_net_model, input_size=(1,3,224,224),  col_names=[\"input_size\", \"output_size\", \"num_params\", \"trainable\"],\n",
        "        col_width=20,\n",
        "        row_settings=[\"var_names\"])"
      ]
    },
    {
      "cell_type": "code",
      "execution_count": 23,
      "metadata": {
        "id": "uw7e7W-MlKuk"
      },
      "outputs": [],
      "source": [
        "eff_net_model = eff_net_model.to(device=device)"
      ]
    },
    {
      "cell_type": "code",
      "execution_count": 24,
      "metadata": {
        "id": "g7gCBmVllKuk"
      },
      "outputs": [],
      "source": [
        "def acc_fn(y_preds, y):\n",
        "    return(torch.eq(y_preds, y).sum() / len(y))"
      ]
    },
    {
      "cell_type": "code",
      "execution_count": 25,
      "metadata": {
        "id": "Y0xvEuKLlKul",
        "outputId": "fec2820b-150f-446a-b441-65a0dcbd884f",
        "colab": {
          "base_uri": "https://localhost:8080/"
        }
      },
      "outputs": [
        {
          "output_type": "stream",
          "name": "stderr",
          "text": [
            "\r  0%|          | 0/10 [00:00<?, ?it/s]"
          ]
        },
        {
          "output_type": "stream",
          "name": "stdout",
          "text": [
            "Train: Loss - 2.277262356727635 | Accuracy - 0.6114644408226013\n"
          ]
        },
        {
          "output_type": "stream",
          "name": "stderr",
          "text": [
            "\r 10%|█         | 1/10 [01:21<12:14, 81.61s/it]"
          ]
        },
        {
          "output_type": "stream",
          "name": "stdout",
          "text": [
            "Test: Loss - 0.9924499988555908 | Accuracy - 0.8651315569877625\n",
            "Train: Loss - 0.7484013100737306 | Accuracy - 0.9008072018623352\n"
          ]
        },
        {
          "output_type": "stream",
          "name": "stderr",
          "text": [
            "\r 20%|██        | 2/10 [02:42<10:49, 81.23s/it]"
          ]
        },
        {
          "output_type": "stream",
          "name": "stdout",
          "text": [
            "Test: Loss - 0.6039085388183594 | Accuracy - 0.8947368264198303\n",
            "Train: Loss - 0.46894060408688026 | Accuracy - 0.9331172108650208\n"
          ]
        },
        {
          "output_type": "stream",
          "name": "stderr",
          "text": [
            "\r 30%|███       | 3/10 [04:01<09:21, 80.20s/it]"
          ]
        },
        {
          "output_type": "stream",
          "name": "stdout",
          "text": [
            "Test: Loss - 0.4583878219127655 | Accuracy - 0.9152960777282715\n",
            "Train: Loss - 0.3315965595855016 | Accuracy - 0.9536243677139282\n"
          ]
        },
        {
          "output_type": "stream",
          "name": "stderr",
          "text": [
            "\r 40%|████      | 4/10 [05:29<08:19, 83.28s/it]"
          ]
        },
        {
          "output_type": "stream",
          "name": "stdout",
          "text": [
            "Test: Loss - 0.41057199239730835 | Accuracy - 0.9235197305679321\n",
            "Train: Loss - 0.2594692171912759 | Accuracy - 0.9637556672096252\n"
          ]
        },
        {
          "output_type": "stream",
          "name": "stderr",
          "text": [
            "\r 50%|█████     | 5/10 [06:50<06:53, 82.61s/it]"
          ]
        },
        {
          "output_type": "stream",
          "name": "stdout",
          "text": [
            "Test: Loss - 0.3688441216945648 | Accuracy - 0.9202302694320679\n",
            "Train: Loss - 0.22184513522881896 | Accuracy - 0.9628790616989136\n"
          ]
        },
        {
          "output_type": "stream",
          "name": "stderr",
          "text": [
            "\r 60%|██████    | 6/10 [08:11<05:26, 81.75s/it]"
          ]
        },
        {
          "output_type": "stream",
          "name": "stdout",
          "text": [
            "Test: Loss - 0.32978323101997375 | Accuracy - 0.9333881735801697\n",
            "Train: Loss - 0.1768184763689836 | Accuracy - 0.9748858213424683\n"
          ]
        },
        {
          "output_type": "stream",
          "name": "stderr",
          "text": [
            "\r 70%|███████   | 7/10 [09:30<04:03, 81.15s/it]"
          ]
        },
        {
          "output_type": "stream",
          "name": "stdout",
          "text": [
            "Test: Loss - 0.3310413658618927 | Accuracy - 0.9251644611358643\n",
            "Train: Loss - 0.15959596824428263 | Accuracy - 0.9753953814506531\n"
          ]
        },
        {
          "output_type": "stream",
          "name": "stderr",
          "text": [
            "\r 80%|████████  | 8/10 [10:51<02:41, 80.85s/it]"
          ]
        },
        {
          "output_type": "stream",
          "name": "stdout",
          "text": [
            "Test: Loss - 0.2899491488933563 | Accuracy - 0.9309210777282715\n",
            "Train: Loss - 0.12819053521847615 | Accuracy - 0.9838755130767822\n"
          ]
        },
        {
          "output_type": "stream",
          "name": "stderr",
          "text": [
            "\r 90%|█████████ | 9/10 [12:11<01:20, 80.79s/it]"
          ]
        },
        {
          "output_type": "stream",
          "name": "stdout",
          "text": [
            "Test: Loss - 0.29163309931755066 | Accuracy - 0.9300987124443054\n",
            "Train: Loss - 0.112334563783859 | Accuracy - 0.9847112894058228\n"
          ]
        },
        {
          "output_type": "stream",
          "name": "stderr",
          "text": [
            "100%|██████████| 10/10 [13:32<00:00, 81.24s/it]"
          ]
        },
        {
          "output_type": "stream",
          "name": "stdout",
          "text": [
            "Test: Loss - 0.2720344662666321 | Accuracy - 0.9292763471603394\n"
          ]
        },
        {
          "output_type": "stream",
          "name": "stderr",
          "text": [
            "\n"
          ]
        }
      ],
      "source": [
        "# traning on own data\n",
        "loss = nn.CrossEntropyLoss().to(device=device)\n",
        "optim = torch.optim.Adam(params=eff_net_model.parameters())\n",
        "from Vision_Transformer.utils import trainit\n",
        "\n",
        "trainit(eff_net_model, train_dl, test_dl, loss, optim, 10, True, device=device)\n",
        "\n",
        "# for e in range(0, 10):\n",
        "# \teff_net_model.train()\n",
        "# \ttotal_loss = 0\n",
        "# \ttotal_acc = 0\n",
        "# \tfor img, lable in train_dl:\n",
        "# \t\timg = img.to(device)\n",
        "# \t\tlable = lable.to(device)\n",
        "# \t\ty_preds = eff_net_model(img)\n",
        "# \t\ttr_loss = loss(y_preds, lable)\n",
        "# \t\ttotal_loss+=tr_loss.item()\n",
        "# \t\ttotal_acc+=acc_fn(torch.argmax(y_preds, dim=1), lable).item()\n",
        "# \t\toptim.zero_grad()\n",
        "# \t\ttr_loss.backward()\n",
        "# \t\toptim.step()\n",
        "# \tprint(total_loss/len(train_dl), total_acc/len(train_dl))\n",
        ""
      ]
    },
    {
      "cell_type": "code",
      "execution_count": 26,
      "metadata": {
        "id": "kQaId-aRlKul"
      },
      "outputs": [],
      "source": [
        "# saving this model\n",
        "torch.save(eff_net_model.state_dict(), \"eff-net-91.pth\")"
      ]
    },
    {
      "cell_type": "markdown",
      "metadata": {
        "id": "0xoNcUAnlKul"
      },
      "source": [
        "# Using This new save model"
      ]
    },
    {
      "cell_type": "code",
      "execution_count": 27,
      "metadata": {
        "id": "m9QJsjgClKum"
      },
      "outputs": [],
      "source": [
        "import torch\n",
        "from torch import nn\n",
        "from torchvision import models\n",
        "import os\n",
        "from torchinfo import summary\n",
        "\n",
        "#custom_modules\n",
        "from Vision_Transformer.data_setup import createDataloader"
      ]
    },
    {
      "cell_type": "code",
      "execution_count": 28,
      "metadata": {
        "id": "OIDNCTlFlKum"
      },
      "outputs": [],
      "source": [
        "device = torch.device(\"cuda\" if torch.cuda.is_available() else \"cpu\")"
      ]
    },
    {
      "cell_type": "code",
      "execution_count": 29,
      "metadata": {
        "id": "FJcOb3C_lKum"
      },
      "outputs": [],
      "source": [
        "new_eff_net_b0_weight = models.EfficientNet_B0_Weights.IMAGENET1K_V1\n",
        "new_eff_net_transfromer = new_eff_net_b0_weight.transforms()"
      ]
    },
    {
      "cell_type": "code",
      "execution_count": 30,
      "metadata": {
        "id": "i659mkkplKun"
      },
      "outputs": [],
      "source": [
        "#datast\n",
        "BASE_TRAIN_DATA_FOLDER = \"./dataset/flowers-102/train_data\"\n",
        "datapath = BASE_TRAIN_DATA_FOLDER\n",
        "train_dl, test_dl, _classes = createDataloader(train_path=os.path.join(datapath, \"train\"),\n",
        "                                     test_path=os.path.join(datapath, \"test\"),\n",
        "                                     train_transform=new_eff_net_transfromer,\n",
        "                                     test_transform=new_eff_net_transfromer,\n",
        "                                     BTACH_SIZE=32)"
      ]
    },
    {
      "cell_type": "code",
      "execution_count": 31,
      "metadata": {
        "id": "Wimaw8wvlKun"
      },
      "outputs": [],
      "source": [
        "new_eff_model = models.efficientnet_b0(weights=new_eff_net_b0_weight)\n",
        "new_eff_model.classifier = nn.Sequential(\n",
        "    nn.Dropout(0.2, inplace=True),\n",
        "    nn.Linear(in_features=1280, out_features=len(_classes), bias=True)\n",
        ")"
      ]
    },
    {
      "cell_type": "code",
      "execution_count": 32,
      "metadata": {
        "id": "K9kS_h3MlKun",
        "outputId": "df2277ae-be90-4c6c-e0ed-c7db65cc3b24",
        "colab": {
          "base_uri": "https://localhost:8080/"
        }
      },
      "outputs": [
        {
          "output_type": "stream",
          "name": "stderr",
          "text": [
            "<ipython-input-32-f7a7160a5d07>:1: FutureWarning: You are using `torch.load` with `weights_only=False` (the current default value), which uses the default pickle module implicitly. It is possible to construct malicious pickle data which will execute arbitrary code during unpickling (See https://github.com/pytorch/pytorch/blob/main/SECURITY.md#untrusted-models for more details). In a future release, the default value for `weights_only` will be flipped to `True`. This limits the functions that could be executed during unpickling. Arbitrary objects will no longer be allowed to be loaded via this mode unless they are explicitly allowlisted by the user via `torch.serialization.add_safe_globals`. We recommend you start setting `weights_only=True` for any use case where you don't have full control of the loaded file. Please open an issue on GitHub for any issues related to this experimental feature.\n",
            "  new_eff_model.load_state_dict(torch.load(\"eff-net-91.pth\"))\n"
          ]
        }
      ],
      "source": [
        "new_eff_model.load_state_dict(torch.load(\"eff-net-91.pth\"))\n",
        "new_eff_model = new_eff_model.to(device=device)"
      ]
    },
    {
      "cell_type": "code",
      "execution_count": 38,
      "metadata": {
        "id": "Li6z8KAHlKuo",
        "outputId": "fbfcfa53-8989-43c9-bc27-2dba1a09e799",
        "colab": {
          "base_uri": "https://localhost:8080/",
          "height": 489
        }
      },
      "outputs": [
        {
          "output_type": "stream",
          "name": "stderr",
          "text": [
            "WARNING:matplotlib.image:Clipping input data to the valid range for imshow with RGB data ([0..1] for floats or [0..255] for integers). Got range [-2.0357141..2.2489083].\n"
          ]
        },
        {
          "output_type": "execute_result",
          "data": {
            "text/plain": [
              "<matplotlib.image.AxesImage at 0x7ca3c05dd150>"
            ]
          },
          "metadata": {},
          "execution_count": 38
        },
        {
          "output_type": "display_data",
          "data": {
            "text/plain": [
              "<Figure size 640x480 with 1 Axes>"
            ],
            "image/png": "[encoded data removed]"
          },
          "metadata": {}
        }
      ],
      "source": [
        "from PIL import Image\n",
        "import matplotlib.pyplot as plt\n",
        "import requests\n",
        "with open(\"flower.jpg\", \"wb\") as f:\n",
        "    img = requests.get(\"https://encrypted-tbn1.gstatic.com/images?q=tbn:ANd9GcRn9MrCAcUdLdT5Vq-OYbbajfwAc76O_O5tSm6Zl_DyW_ZwwbZHO1nzngwo-qs7Abrk15xncGbGSc_FG9ehU4rX-w\")\n",
        "    f.write(img.content)\n",
        "\n",
        "img_path = \"./flower.jpg\"\n",
        "# img_path = \"./steak.jpg\"\n",
        "img = Image.open(img_path)\n",
        "img = new_eff_net_transfromer(img).unsqueeze(0)\n",
        "plt.imshow(img[0].permute(1,2,0))\n"
      ]
    },
    {
      "cell_type": "code",
      "execution_count": 39,
      "metadata": {
        "id": "aKQ9lG09lKuo"
      },
      "outputs": [],
      "source": [
        "with torch.inference_mode():\n",
        "    new_eff_model.eval()\n",
        "    y_pred = new_eff_model(img.to(device))"
      ]
    },
    {
      "cell_type": "code",
      "execution_count": 40,
      "metadata": {
        "id": "Eqtu7-z5lKuo",
        "outputId": "321310e6-548f-4b56-dbab-fd2a22590623",
        "colab": {
          "base_uri": "https://localhost:8080/"
        }
      },
      "outputs": [
        {
          "output_type": "execute_result",
          "data": {
            "text/plain": [
              "('blackberry lily', '102')"
            ]
          },
          "metadata": {},
          "execution_count": 40
        }
      ],
      "source": [
        "class_name_list[int(_classes[torch.argmax(y_pred)])-1], _classes[torch.argmax(y_pred)]"
      ]
    },
    {
      "cell_type": "code",
      "execution_count": null,
      "metadata": {
        "id": "6nQYasZklKup"
      },
      "outputs": [],
      "source": []
    },
    {
      "cell_type": "code",
      "execution_count": null,
      "metadata": {
        "id": "e61yhiQilKup"
      },
      "outputs": [],
      "source": []
    }
  ],
  "metadata": {
    "kernelspec": {
      "display_name": "Python 3",
      "name": "python3"
    },
    "language_info": {
      "codemirror_mode": {
        "name": "ipython",
        "version": 3
      },
      "file_extension": ".py",
      "mimetype": "text/x-python",
      "name": "python",
      "nbconvert_exporter": "python",
      "pygments_lexer": "ipython3",
      "version": "3.12.3"
    },
    "colab": {
      "provenance": [],
      "gpuType": "T4"
    },
    "accelerator": "GPU"
  },
  "nbformat": 4,
  "nbformat_minor": 0
}