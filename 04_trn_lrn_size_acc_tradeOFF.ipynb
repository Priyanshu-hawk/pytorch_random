{
 "cells": [
  {
   "cell_type": "code",
   "execution_count": 1,
   "metadata": {},
   "outputs": [
    {
     "name": "stdout",
     "output_type": "stream",
     "text": [
      "Requirement already satisfied: torchinfo in ./venv/lib/python3.12/site-packages (from -r req.txt (line 1)) (1.8.0)\n",
      "Requirement already satisfied: requests in ./venv/lib/python3.12/site-packages (2.32.3)\n",
      "Requirement already satisfied: charset-normalizer<4,>=2 in ./venv/lib/python3.12/site-packages (from requests) (3.4.0)\n",
      "Requirement already satisfied: idna<4,>=2.5 in ./venv/lib/python3.12/site-packages (from requests) (3.10)\n",
      "Requirement already satisfied: urllib3<3,>=1.21.1 in ./venv/lib/python3.12/site-packages (from requests) (2.2.3)\n",
      "Requirement already satisfied: certifi>=2017.4.17 in ./venv/lib/python3.12/site-packages (from requests) (2024.8.30)\n"
     ]
    }
   ],
   "source": [
    "!pip install -r req.txt\n",
    "!pip install requests"
   ]
  },
  {
   "cell_type": "code",
   "execution_count": 2,
   "metadata": {},
   "outputs": [],
   "source": [
    "import requests\n",
    "with open(\"./Modular_DeepLearning/food101_3_class/data.zip\", \"wb\") as f:\n",
    "  r = requests.get(\"https://github.com/mrdbourke/pytorch-deep-learning/raw/refs/heads/main/data/pizza_steak_sushi.zip\")\n",
    "  f.write(r.content)\n",
    "\n",
    "import zipfile, os\n",
    "with zipfile.ZipFile(\"./Modular_DeepLearning/food101_3_class/data.zip\", \"r\") as zip_ref:\n",
    "    os.makedirs(\"./Modular_DeepLearning/food101_3_class/data\", exist_ok=True)\n",
    "    zip_ref.extractall(\"./Modular_DeepLearning/food101_3_class/data\")"
   ]
  },
  {
   "cell_type": "code",
   "execution_count": 3,
   "metadata": {},
   "outputs": [],
   "source": [
    "import os\n",
    "data = \"./Modular_DeepLearning/food101_3_class/data\"\n",
    "train_path = os.path.join(data,\"train\")\n",
    "test_path = os.path.join(data,\"test\")"
   ]
  },
  {
   "cell_type": "code",
   "execution_count": 4,
   "metadata": {},
   "outputs": [],
   "source": [
    "from Modular_DeepLearning.food101_3_class.data_setup import createDataloader\n",
    "import torchvision, torch"
   ]
  },
  {
   "cell_type": "code",
   "execution_count": null,
   "metadata": {},
   "outputs": [],
   "source": [
    "# model_weights = torchvision.models.ResNet101_Weights.DEFAULT\n",
    "# _model = torchvision.models.resnet101(pretrained=model_weights)\n",
    "\n",
    "model_weights = torchvision.models.RegNet_X_32GF_Weights.IMAGENET1K_V2\n",
    "_model = torchvision.models.regnet_x_32gf(weights=model_weights)\n",
    "\n",
    "auto_transform = model_weights.transforms()\n",
    "\n",
    "auto_transform"
   ]
  }
 ],
 "metadata": {
  "kernelspec": {
   "display_name": "venv",
   "language": "python",
   "name": "python3"
  },
  "language_info": {
   "codemirror_mode": {
    "name": "ipython",
    "version": 3
   },
   "file_extension": ".py",
   "mimetype": "text/x-python",
   "name": "python",
   "nbconvert_exporter": "python",
   "pygments_lexer": "ipython3",
   "version": "3.12.3"
  }
 },
 "nbformat": 4,
 "nbformat_minor": 2
}
