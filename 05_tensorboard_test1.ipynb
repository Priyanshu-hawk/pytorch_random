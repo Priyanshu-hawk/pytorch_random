{
 "cells": [
  {
   "cell_type": "code",
   "execution_count": null,
   "metadata": {},
   "outputs": [],
   "source": [
    "def is_colab():\n",
    "    try:\n",
    "        from google.colab import drive\n",
    "        return True\n",
    "    except:\n",
    "        return False"
   ]
  },
  {
   "cell_type": "code",
   "execution_count": null,
   "metadata": {},
   "outputs": [
    {
     "name": "stdout",
     "output_type": "stream",
     "text": [
      "Cloning into 'pytorch_random'...\n",
      "remote: Enumerating objects: 72, done.\u001b[K\n",
      "remote: Counting objects: 100% (72/72), done.\u001b[K\n",
      "remote: Compressing objects: 100% (52/52), done.\u001b[K\n",
      "remote: Total 72 (delta 25), reused 53 (delta 13), pack-reused 0 (from 0)\u001b[K\n",
      "Receiving objects: 100% (72/72), 4.38 MiB | 9.43 MiB/s, done.\n",
      "Resolving deltas: 100% (25/25), done.\n"
     ]
    }
   ],
   "source": [
    "if is_colab():\n",
    "    !git clone https://github.com/Priyanshu-hawk/pytorch_random.git"
   ]
  },
  {
   "cell_type": "code",
   "execution_count": null,
   "metadata": {},
   "outputs": [
    {
     "name": "stdout",
     "output_type": "stream",
     "text": [
      "/content/pytorch_random\n"
     ]
    }
   ],
   "source": [
    "import os\n",
    "if is_colab() and os.getcwd() != '/content/pytorch_random': #vauge but works\n",
    "    %cd /content/pytorch_random"
   ]
  },
  {
   "cell_type": "code",
   "execution_count": null,
   "metadata": {},
   "outputs": [
    {
     "name": "stdout",
     "output_type": "stream",
     "text": [
      "Collecting torchinfo (from -r req.txt (line 1))\n",
      "  Downloading torchinfo-1.8.0-py3-none-any.whl.metadata (21 kB)\n",
      "Downloading torchinfo-1.8.0-py3-none-any.whl (23 kB)\n",
      "Installing collected packages: torchinfo\n",
      "Successfully installed torchinfo-1.8.0\n",
      "Requirement already satisfied: requests in /usr/local/lib/python3.10/dist-packages (2.32.3)\n",
      "Requirement already satisfied: charset-normalizer<4,>=2 in /usr/local/lib/python3.10/dist-packages (from requests) (3.4.0)\n",
      "Requirement already satisfied: idna<4,>=2.5 in /usr/local/lib/python3.10/dist-packages (from requests) (3.10)\n",
      "Requirement already satisfied: urllib3<3,>=1.21.1 in /usr/local/lib/python3.10/dist-packages (from requests) (2.2.3)\n",
      "Requirement already satisfied: certifi>=2017.4.17 in /usr/local/lib/python3.10/dist-packages (from requests) (2024.8.30)\n"
     ]
    }
   ],
   "source": [
    "!pip install -r req.txt\n",
    "!pip install requests"
   ]
  },
  {
   "cell_type": "code",
   "execution_count": null,
   "metadata": {},
   "outputs": [],
   "source": [
    "import requests\n",
    "with open(\"./Modular_DeepLearning/food101_3_class/data.zip\", \"wb\") as f:\n",
    "  r = requests.get(\"https://github.com/mrdbourke/pytorch-deep-learning/raw/refs/heads/main/data/pizza_steak_sushi.zip\")\n",
    "  f.write(r.content)\n",
    "\n",
    "import zipfile, os\n",
    "with zipfile.ZipFile(\"./Modular_DeepLearning/food101_3_class/data.zip\", \"r\") as zip_ref:\n",
    "    os.makedirs(\"./Modular_DeepLearning/food101_3_class/data\", exist_ok=True)\n",
    "    zip_ref.extractall(\"./Modular_DeepLearning/food101_3_class/data\")"
   ]
  },
  {
   "cell_type": "code",
   "execution_count": null,
   "metadata": {},
   "outputs": [],
   "source": [
    "import os\n",
    "data = \"./Modular_DeepLearning/food101_3_class/data\"\n",
    "train_path = os.path.join(data,\"train\")\n",
    "test_path = os.path.join(data,\"test\")"
   ]
  },
  {
   "cell_type": "code",
   "execution_count": null,
   "metadata": {},
   "outputs": [],
   "source": [
    "from Modular_DeepLearning.food101_3_class.data_setup import createDataloader\n",
    "import torchvision, torch"
   ]
  },
  {
   "cell_type": "code",
   "execution_count": null,
   "metadata": {},
   "outputs": [
    {
     "name": "stderr",
     "output_type": "stream",
     "text": [
      "Downloading: \"https://download.pytorch.org/models/regnet_x_32gf-6eb8fdc6.pth\" to /root/.cache/torch/hub/checkpoints/regnet_x_32gf-6eb8fdc6.pth\n",
      "100%|██████████| 412M/412M [00:04<00:00, 91.3MB/s]\n"
     ]
    },
    {
     "data": {
      "text/plain": [
       "ImageClassification(\n",
       "    crop_size=[224]\n",
       "    resize_size=[232]\n",
       "    mean=[0.485, 0.456, 0.406]\n",
       "    std=[0.229, 0.224, 0.225]\n",
       "    interpolation=InterpolationMode.BILINEAR\n",
       ")"
      ]
     },
     "metadata": {},
     "output_type": "display_data"
    }
   ],
   "source": [
    "# model_weights = torchvision.models.ResNet101_Weights.DEFAULT\n",
    "# _model = torchvision.models.resnet101(pretrained=model_weights)\n",
    "\n",
    "model_weights = torchvision.models.RegNet_X_32GF_Weights.IMAGENET1K_V2\n",
    "_model = torchvision.models.regnet_x_32gf(weights=model_weights)\n",
    "\n",
    "auto_transform = model_weights.transforms()\n",
    "\n",
    "auto_transform"
   ]
  },
  {
   "cell_type": "code",
   "execution_count": null,
   "metadata": {},
   "outputs": [],
   "source": [
    "train_load, test_load, class_names = createDataloader(train_path, test_path, BTACH_SIZE=32, train_transform=auto_transform, test_transform=auto_transform)\n"
   ]
  },
  {
   "cell_type": "code",
   "execution_count": null,
   "metadata": {},
   "outputs": [
    {
     "data": {
      "text/plain": [
       "======================================================================================================================================================\n",
       "Layer (type (var_name))                            Input Shape               Output Shape              Param #                   Trainable\n",
       "======================================================================================================================================================\n",
       "RegNet (RegNet)                                    [1, 3, 224, 224]          [1, 1000]                 --                        Partial\n",
       "├─SimpleStemIN (stem)                              [1, 3, 224, 224]          [1, 32, 112, 112]         --                        False\n",
       "│    └─Conv2d (0)                                  [1, 3, 224, 224]          [1, 32, 112, 112]         (864)                     False\n",
       "│    └─BatchNorm2d (1)                             [1, 32, 112, 112]         [1, 32, 112, 112]         (64)                      False\n",
       "│    └─ReLU (2)                                    [1, 32, 112, 112]         [1, 32, 112, 112]         --                        --\n",
       "├─Sequential (trunk_output)                        [1, 32, 112, 112]         [1, 2520, 7, 7]           --                        False\n",
       "│    └─AnyStage (block1)                           [1, 32, 112, 112]         [1, 336, 56, 56]          --                        False\n",
       "│    │    └─ResBottleneckBlock (block1-0)          [1, 32, 112, 112]         [1, 336, 56, 56]          (645,120)                 False\n",
       "│    │    └─ResBottleneckBlock (block1-1)          [1, 336, 56, 56]          [1, 336, 56, 56]          (735,840)                 False\n",
       "│    └─AnyStage (block2)                           [1, 336, 56, 56]          [1, 672, 28, 28]          --                        False\n",
       "│    │    └─ResBottleneckBlock (block2-0)          [1, 336, 56, 56]          [1, 672, 28, 28]          (1,924,608)               False\n",
       "│    │    └─ResBottleneckBlock (block2-1)          [1, 672, 28, 28]          [1, 672, 28, 28]          (1,923,264)               False\n",
       "│    │    └─ResBottleneckBlock (block2-2)          [1, 672, 28, 28]          [1, 672, 28, 28]          (1,923,264)               False\n",
       "│    │    └─ResBottleneckBlock (block2-3)          [1, 672, 28, 28]          [1, 672, 28, 28]          (1,923,264)               False\n",
       "│    │    └─ResBottleneckBlock (block2-4)          [1, 672, 28, 28]          [1, 672, 28, 28]          (1,923,264)               False\n",
       "│    │    └─ResBottleneckBlock (block2-5)          [1, 672, 28, 28]          [1, 672, 28, 28]          (1,923,264)               False\n",
       "│    │    └─ResBottleneckBlock (block2-6)          [1, 672, 28, 28]          [1, 672, 28, 28]          (1,923,264)               False\n",
       "│    └─AnyStage (block3)                           [1, 672, 28, 28]          [1, 1344, 14, 14]         --                        False\n",
       "│    │    └─ResBottleneckBlock (block3-0)          [1, 672, 28, 28]          [1, 1344, 14, 14]         (5,655,552)               False\n",
       "│    │    └─ResBottleneckBlock (block3-1)          [1, 1344, 14, 14]         [1, 1344, 14, 14]         (5,652,864)               False\n",
       "│    │    └─ResBottleneckBlock (block3-2)          [1, 1344, 14, 14]         [1, 1344, 14, 14]         (5,652,864)               False\n",
       "│    │    └─ResBottleneckBlock (block3-3)          [1, 1344, 14, 14]         [1, 1344, 14, 14]         (5,652,864)               False\n",
       "│    │    └─ResBottleneckBlock (block3-4)          [1, 1344, 14, 14]         [1, 1344, 14, 14]         (5,652,864)               False\n",
       "│    │    └─ResBottleneckBlock (block3-5)          [1, 1344, 14, 14]         [1, 1344, 14, 14]         (5,652,864)               False\n",
       "│    │    └─ResBottleneckBlock (block3-6)          [1, 1344, 14, 14]         [1, 1344, 14, 14]         (5,652,864)               False\n",
       "│    │    └─ResBottleneckBlock (block3-7)          [1, 1344, 14, 14]         [1, 1344, 14, 14]         (5,652,864)               False\n",
       "│    │    └─ResBottleneckBlock (block3-8)          [1, 1344, 14, 14]         [1, 1344, 14, 14]         (5,652,864)               False\n",
       "│    │    └─ResBottleneckBlock (block3-9)          [1, 1344, 14, 14]         [1, 1344, 14, 14]         (5,652,864)               False\n",
       "│    │    └─ResBottleneckBlock (block3-10)         [1, 1344, 14, 14]         [1, 1344, 14, 14]         (5,652,864)               False\n",
       "│    │    └─ResBottleneckBlock (block3-11)         [1, 1344, 14, 14]         [1, 1344, 14, 14]         (5,652,864)               False\n",
       "│    │    └─ResBottleneckBlock (block3-12)         [1, 1344, 14, 14]         [1, 1344, 14, 14]         (5,652,864)               False\n",
       "│    └─AnyStage (block4)                           [1, 1344, 14, 14]         [1, 2520, 7, 7]           --                        False\n",
       "│    │    └─ResBottleneckBlock (block4-0)          [1, 1344, 14, 14]         [1, 2520, 7, 7]           (16,954,560)              False\n",
       "├─AdaptiveAvgPool2d (avgpool)                      [1, 2520, 7, 7]           [1, 2520, 1, 1]           --                        --\n",
       "├─Linear (fc)                                      [1, 2520]                 [1, 1000]                 2,521,000                 True\n",
       "======================================================================================================================================================\n",
       "Total params: 107,811,560\n",
       "Trainable params: 2,521,000\n",
       "Non-trainable params: 105,290,560\n",
       "Total mult-adds (G): 31.74\n",
       "======================================================================================================================================================\n",
       "Input size (MB): 0.60\n",
       "Forward/backward pass size (MB): 580.83\n",
       "Params size (MB): 431.25\n",
       "Estimated Total Size (MB): 1012.67\n",
       "======================================================================================================================================================"
      ]
     },
     "metadata": {},
     "output_type": "display_data"
    }
   ],
   "source": [
    "from torchinfo import summary\n",
    "summary(_model, input_size=(1, 3, 224, 224),\n",
    "        col_names=(\"input_size\", \"output_size\", \"num_params\", \"trainable\"),\n",
    "        row_settings=[\"var_names\"])"
   ]
  },
  {
   "cell_type": "code",
   "execution_count": null,
   "metadata": {},
   "outputs": [],
   "source": [
    "#pause grading for feature layer\n",
    "for prams in _model.stem.parameters():\n",
    "    prams.requires_grad = False\n",
    "\n",
    "for prams in _model.trunk_output.parameters():\n",
    "    prams.requires_grad = False"
   ]
  },
  {
   "cell_type": "code",
   "execution_count": null,
   "metadata": {},
   "outputs": [],
   "source": [
    "import torch\n",
    "_model.fc = torch.nn.Linear(in_features=2520, out_features=len(class_names), bias=True)"
   ]
  },
  {
   "cell_type": "code",
   "execution_count": null,
   "metadata": {},
   "outputs": [
    {
     "data": {
      "text/plain": [
       "======================================================================================================================================================\n",
       "Layer (type (var_name))                            Input Shape               Output Shape              Param #                   Trainable\n",
       "======================================================================================================================================================\n",
       "RegNet (RegNet)                                    [1, 3, 224, 224]          [1, 3]                    --                        Partial\n",
       "├─SimpleStemIN (stem)                              [1, 3, 224, 224]          [1, 32, 112, 112]         --                        False\n",
       "│    └─Conv2d (0)                                  [1, 3, 224, 224]          [1, 32, 112, 112]         (864)                     False\n",
       "│    └─BatchNorm2d (1)                             [1, 32, 112, 112]         [1, 32, 112, 112]         (64)                      False\n",
       "│    └─ReLU (2)                                    [1, 32, 112, 112]         [1, 32, 112, 112]         --                        --\n",
       "├─Sequential (trunk_output)                        [1, 32, 112, 112]         [1, 2520, 7, 7]           --                        False\n",
       "│    └─AnyStage (block1)                           [1, 32, 112, 112]         [1, 336, 56, 56]          --                        False\n",
       "│    │    └─ResBottleneckBlock (block1-0)          [1, 32, 112, 112]         [1, 336, 56, 56]          (645,120)                 False\n",
       "│    │    └─ResBottleneckBlock (block1-1)          [1, 336, 56, 56]          [1, 336, 56, 56]          (735,840)                 False\n",
       "│    └─AnyStage (block2)                           [1, 336, 56, 56]          [1, 672, 28, 28]          --                        False\n",
       "│    │    └─ResBottleneckBlock (block2-0)          [1, 336, 56, 56]          [1, 672, 28, 28]          (1,924,608)               False\n",
       "│    │    └─ResBottleneckBlock (block2-1)          [1, 672, 28, 28]          [1, 672, 28, 28]          (1,923,264)               False\n",
       "│    │    └─ResBottleneckBlock (block2-2)          [1, 672, 28, 28]          [1, 672, 28, 28]          (1,923,264)               False\n",
       "│    │    └─ResBottleneckBlock (block2-3)          [1, 672, 28, 28]          [1, 672, 28, 28]          (1,923,264)               False\n",
       "│    │    └─ResBottleneckBlock (block2-4)          [1, 672, 28, 28]          [1, 672, 28, 28]          (1,923,264)               False\n",
       "│    │    └─ResBottleneckBlock (block2-5)          [1, 672, 28, 28]          [1, 672, 28, 28]          (1,923,264)               False\n",
       "│    │    └─ResBottleneckBlock (block2-6)          [1, 672, 28, 28]          [1, 672, 28, 28]          (1,923,264)               False\n",
       "│    └─AnyStage (block3)                           [1, 672, 28, 28]          [1, 1344, 14, 14]         --                        False\n",
       "│    │    └─ResBottleneckBlock (block3-0)          [1, 672, 28, 28]          [1, 1344, 14, 14]         (5,655,552)               False\n",
       "│    │    └─ResBottleneckBlock (block3-1)          [1, 1344, 14, 14]         [1, 1344, 14, 14]         (5,652,864)               False\n",
       "│    │    └─ResBottleneckBlock (block3-2)          [1, 1344, 14, 14]         [1, 1344, 14, 14]         (5,652,864)               False\n",
       "│    │    └─ResBottleneckBlock (block3-3)          [1, 1344, 14, 14]         [1, 1344, 14, 14]         (5,652,864)               False\n",
       "│    │    └─ResBottleneckBlock (block3-4)          [1, 1344, 14, 14]         [1, 1344, 14, 14]         (5,652,864)               False\n",
       "│    │    └─ResBottleneckBlock (block3-5)          [1, 1344, 14, 14]         [1, 1344, 14, 14]         (5,652,864)               False\n",
       "│    │    └─ResBottleneckBlock (block3-6)          [1, 1344, 14, 14]         [1, 1344, 14, 14]         (5,652,864)               False\n",
       "│    │    └─ResBottleneckBlock (block3-7)          [1, 1344, 14, 14]         [1, 1344, 14, 14]         (5,652,864)               False\n",
       "│    │    └─ResBottleneckBlock (block3-8)          [1, 1344, 14, 14]         [1, 1344, 14, 14]         (5,652,864)               False\n",
       "│    │    └─ResBottleneckBlock (block3-9)          [1, 1344, 14, 14]         [1, 1344, 14, 14]         (5,652,864)               False\n",
       "│    │    └─ResBottleneckBlock (block3-10)         [1, 1344, 14, 14]         [1, 1344, 14, 14]         (5,652,864)               False\n",
       "│    │    └─ResBottleneckBlock (block3-11)         [1, 1344, 14, 14]         [1, 1344, 14, 14]         (5,652,864)               False\n",
       "│    │    └─ResBottleneckBlock (block3-12)         [1, 1344, 14, 14]         [1, 1344, 14, 14]         (5,652,864)               False\n",
       "│    └─AnyStage (block4)                           [1, 1344, 14, 14]         [1, 2520, 7, 7]           --                        False\n",
       "│    │    └─ResBottleneckBlock (block4-0)          [1, 1344, 14, 14]         [1, 2520, 7, 7]           (16,954,560)              False\n",
       "├─AdaptiveAvgPool2d (avgpool)                      [1, 2520, 7, 7]           [1, 2520, 1, 1]           --                        --\n",
       "├─Linear (fc)                                      [1, 2520]                 [1, 3]                    7,563                     True\n",
       "======================================================================================================================================================\n",
       "Total params: 105,298,123\n",
       "Trainable params: 7,563\n",
       "Non-trainable params: 105,290,560\n",
       "Total mult-adds (G): 31.73\n",
       "======================================================================================================================================================\n",
       "Input size (MB): 0.60\n",
       "Forward/backward pass size (MB): 580.82\n",
       "Params size (MB): 421.19\n",
       "Estimated Total Size (MB): 1002.61\n",
       "======================================================================================================================================================"
      ]
     },
     "metadata": {},
     "output_type": "display_data"
    }
   ],
   "source": [
    "from torchinfo import summary\n",
    "summary(_model, input_size=(1, 3, 224, 224),\n",
    "        col_names=(\"input_size\", \"output_size\", \"num_params\", \"trainable\"),\n",
    "        row_settings=[\"var_names\"])"
   ]
  },
  {
   "cell_type": "code",
   "execution_count": null,
   "metadata": {},
   "outputs": [],
   "source": [
    "_model = _model.to(\"cuda\")"
   ]
  },
  {
   "cell_type": "code",
   "execution_count": null,
   "metadata": {},
   "outputs": [],
   "source": [
    "from Modular_DeepLearning.food101_3_class.train import trainit"
   ]
  },
  {
   "cell_type": "code",
   "execution_count": null,
   "metadata": {},
   "outputs": [],
   "source": [
    "loss_fn  = torch.nn.CrossEntropyLoss().to(\"cuda\")\n",
    "optimizer = torch.optim.Adam(_model.parameters(), lr=0.001)"
   ]
  }
 ],
 "metadata": {
  "language_info": {
   "name": "python"
  }
 },
 "nbformat": 4,
 "nbformat_minor": 2
}
